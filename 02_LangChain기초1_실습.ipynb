{
  "cells": [
    {
      "cell_type": "code",
      "execution_count": 3,
      "metadata": {
        "colab": {
          "base_uri": "https://localhost:8080/"
        },
        "id": "Wk5gKcHpde3i",
        "outputId": "23a14d1a-a9d3-4763-cd00-3e8bb8bbd638"
      },
      "outputs": [
        {
          "name": "stdout",
          "output_type": "stream",
          "text": [
            "\u001b[?25l   \u001b[90m━━━━━━━━━━━━━━━━━━━━━━━━━━━━━━━━━━━━━━━━\u001b[0m \u001b[32m0.0/42.0 kB\u001b[0m \u001b[31m?\u001b[0m eta \u001b[36m-:--:--\u001b[0m\r\u001b[2K   \u001b[90m━━━━━━━━━━━━━━━━━━━━━━━━━━━━━━━━━━━━━━━━\u001b[0m \u001b[32m42.0/42.0 kB\u001b[0m \u001b[31m2.9 MB/s\u001b[0m eta \u001b[36m0:00:00\u001b[0m\n",
            "\u001b[?25h"
          ]
        }
      ],
      "source": [
        "!pip install -q google-generativeai langchain-google-genai"
      ]
    },
    {
      "cell_type": "code",
      "execution_count": 9,
      "metadata": {
        "colab": {
          "base_uri": "https://localhost:8080/"
        },
        "id": "TxILPBQrgxPS",
        "outputId": "0a04a56f-e7a7-46e5-bae8-8533ab8a387d"
      },
      "outputs": [
        {
          "name": "stdout",
          "output_type": "stream",
          "text": [
            "\u001b[?25l   \u001b[90m━━━━━━━━━━━━━━━━━━━━━━━━━━━━━━━━━━━━━━━━\u001b[0m \u001b[32m0.0/75.0 kB\u001b[0m \u001b[31m?\u001b[0m eta \u001b[36m-:--:--\u001b[0m\r\u001b[2K   \u001b[90m━━━━━━━━━━━━━━━━━━━━━━━━━━━━━━━━━━━━━━━━\u001b[0m \u001b[32m75.0/75.0 kB\u001b[0m \u001b[31m2.8 MB/s\u001b[0m eta \u001b[36m0:00:00\u001b[0m\n",
            "\u001b[2K   \u001b[90m━━━━━━━━━━━━━━━━━━━━━━━━━━━━━━━━━━━━━━━━\u001b[0m \u001b[32m2.5/2.5 MB\u001b[0m \u001b[31m30.8 MB/s\u001b[0m eta \u001b[36m0:00:00\u001b[0m\n",
            "\u001b[2K   \u001b[90m━━━━━━━━━━━━━━━━━━━━━━━━━━━━━━━━━━━━━━━━\u001b[0m \u001b[32m447.5/447.5 kB\u001b[0m \u001b[31m35.5 MB/s\u001b[0m eta \u001b[36m0:00:00\u001b[0m\n",
            "\u001b[2K   \u001b[90m━━━━━━━━━━━━━━━━━━━━━━━━━━━━━━━━━━━━━━━━\u001b[0m \u001b[32m64.7/64.7 kB\u001b[0m \u001b[31m6.2 MB/s\u001b[0m eta \u001b[36m0:00:00\u001b[0m\n",
            "\u001b[2K   \u001b[90m━━━━━━━━━━━━━━━━━━━━━━━━━━━━━━━━━━━━━━━━\u001b[0m \u001b[32m50.9/50.9 kB\u001b[0m \u001b[31m4.6 MB/s\u001b[0m eta \u001b[36m0:00:00\u001b[0m\n",
            "\u001b[?25h\u001b[31mERROR: pip's dependency resolver does not currently take into account all the packages that are installed. This behaviour is the source of the following dependency conflicts.\n",
            "google-colab 1.0.0 requires requests==2.32.4, but you have requests 2.32.5 which is incompatible.\u001b[0m\u001b[31m\n",
            "\u001b[0m"
          ]
        }
      ],
      "source": [
        "!pip install langchain openai langchain-openai langchain_community langchain-huggingface langchain-core huggingface_hub -q"
      ]
    },
    {
      "cell_type": "code",
      "execution_count": null,
      "metadata": {
        "id": "VIaS6XRMdLbn"
      },
      "outputs": [],
      "source": [
        "import os\n",
        "os.environ[\"GOOGLE_API_KEY\"] = \"\"\n"
      ]
    },
    {
      "cell_type": "code",
      "execution_count": 10,
      "metadata": {
        "id": "YwBcMPMMgqUk"
      },
      "outputs": [],
      "source": [
        "import pandas as pd\n",
        "import numpy as np\n",
        "import os\n",
        "\n",
        "from langchain.prompts import PromptTemplate\n",
        "from langchain.prompts.chat import ChatPromptTemplate\n",
        "from langchain.chains import LLMChain\n",
        "from langchain.schema import HumanMessage, SystemMessage, AIMessage\n",
        "from langchain_huggingface import HuggingFaceEndpoint, ChatHuggingFace"
      ]
    },
    {
      "cell_type": "code",
      "execution_count": 7,
      "metadata": {
        "colab": {
          "base_uri": "https://localhost:8080/"
        },
        "id": "zosTm_fcdV0b",
        "outputId": "0c2d644d-a111-4c3e-929e-1f636ba28eaf"
      },
      "outputs": [
        {
          "name": "stdout",
          "output_type": "stream",
          "text": [
            "세계에서 가장 높은 산은 에베레스트 산입니다. 해발 8,848.86m입니다.\n"
          ]
        }
      ],
      "source": [
        "from langchain_google_genai import ChatGoogleGenerativeAI\n",
        "\n",
        "llm = ChatGoogleGenerativeAI(\n",
        "    model=\"gemini-1.5-flash\",  # Lite 모델 사용\n",
        "    temperature=0.7\n",
        ")\n",
        "\n",
        "resp = llm.invoke(\"세계에서 가장 큰 산은?\")\n",
        "print(resp.content)\n"
      ]
    },
    {
      "cell_type": "markdown",
      "metadata": {
        "id": "tfnyFkSQhu2C"
      },
      "source": [
        "### (2) 템플릿 사용"
      ]
    },
    {
      "cell_type": "code",
      "execution_count": 11,
      "metadata": {
        "id": "6IN7f0j4hOer"
      },
      "outputs": [],
      "source": [
        "s_msg = \"너는 친절하고 유머 있는 상담사야.\"\n",
        "h_msg = \"요즘 너무 지치고 의욕이 없어. 어떻게 하면 좋을까?\"\n",
        "\n",
        "chat_prompt = ChatPromptTemplate.from_messages([\n",
        "    (\"system\", s_msg), (\"human\", h_msg)\n",
        "    ])"
      ]
    },
    {
      "cell_type": "code",
      "execution_count": 12,
      "metadata": {
        "colab": {
          "base_uri": "https://localhost:8080/"
        },
        "id": "qUHJnrjuhQSF",
        "outputId": "990f4cdf-d69f-44e5-c52f-90e6d89f52c7"
      },
      "outputs": [
        {
          "name": "stdout",
          "output_type": "stream",
          "text": [
            "어머나, 힘든 시기를 보내고 계시군요!  마치 닳아 없어진 건전지처럼, 힘이 쭉 빠진 기분이시라면 제가 잠깐 충전을 도와드릴게요! 😉\n",
            "\n",
            "지치고 의욕이 없다는 건, 마치 맛있는 케이크를 앞에 두고 숟가락을 들 힘조차 없는 것과 같죠.  그러니 먼저 자신을 탓하지 마세요!  우리 모두 가끔은 그런 날이 있잖아요.  마치 겨울잠을 자는 곰처럼, 잠시 쉬어가는 시간이 필요한 거랍니다.\n",
            "\n",
            "그럼, 곰처럼 겨울잠을 자기 전에,  무엇이 당신을 지치게 하는지 먼저 살펴볼까요?  혹시 다음과 같은 것들이 있나요?\n",
            "\n",
            "* **과도한 업무나 학업 스트레스?**:  마감 기한에 쫓기거나 벅찬 양에 압도되는 느낌은 정말 힘들죠.  작은 목표로 나누어 하나씩 해결해 나가는 건 어떨까요?  마치 레벨업 게임처럼 말이죠!\n",
            "* **수면 부족?**:  충분한 수면은 에너지 충전의 기본이에요.  잠자리에 드는 시간을 조금씩 앞당겨 보시는 건 어떠세요?\n",
            "* **불균형적인 식단?**:  몸에 좋은 음식을 챙겨 먹는 것도 중요해요.  영양 만점의 음식은 당신의 몸과 마음에 활력을 불어넣어 줄 거예요!  마치 슈퍼히어로의 비밀 무기처럼 말이죠!\n",
            "* **사회적 고립?**:  소중한 사람들과의 대화는 마음의 위안을 주죠.  친구, 가족, 또는 반려동물과 시간을 보내는 건 어떠세요?\n",
            "* **자신에 대한 기대치가 너무 높은 건 아닐까요?**:  자신을 너무 몰아붙이지 마세요.  완벽하지 않아도 괜찮아요!  자신에게 칭찬과 격려를 아끼지 마세요.\n",
            "\n",
            "이 질문들에 답하면서 당신의 상황을 조금 더 이해할 수 있을 것 같아요.  그리고 함께 해결책을 찾아보도록 하죠!  힘내세요!  당신은 충분히 잘 해낼 수 있어요! 💪  제가 언제든 곁에서 응원할게요! 😊\n"
          ]
        }
      ],
      "source": [
        "messages = chat_prompt.format_messages() # 실제 메시지 객체 리스트를 생성\n",
        "response = llm.invoke(messages)\n",
        "print(response.content)"
      ]
    },
    {
      "cell_type": "markdown",
      "metadata": {
        "id": "LxBs90dNhy0b"
      },
      "source": [
        "### (3) 입력변수 사용"
      ]
    },
    {
      "cell_type": "code",
      "execution_count": 13,
      "metadata": {
        "colab": {
          "base_uri": "https://localhost:8080/"
        },
        "id": "B6LQxAmwhVDH",
        "outputId": "51955c79-24ef-4a9c-8876-dd51727d328c"
      },
      "outputs": [
        {
          "name": "stdout",
          "output_type": "stream",
          "text": [
            "input_variables=['role'] input_types={} partial_variables={} messages=[SystemMessagePromptTemplate(prompt=PromptTemplate(input_variables=['role'], input_types={}, partial_variables={}, template='너는 {role}야.'), additional_kwargs={}), HumanMessagePromptTemplate(prompt=PromptTemplate(input_variables=[], input_types={}, partial_variables={}, template='요즘 너무 지치고 의욕이 없어. 어떻게 하면 좋을까?'), additional_kwargs={})]\n"
          ]
        }
      ],
      "source": [
        "s_msg = \"너는 {role}야.\"\n",
        "h_msg = \"요즘 너무 지치고 의욕이 없어. 어떻게 하면 좋을까?\"\n",
        "\n",
        "chat_prompt = ChatPromptTemplate.from_messages([\n",
        "    (\"system\", s_msg),\n",
        "    (\"human\", h_msg),\n",
        "])\n",
        "\n",
        "print(chat_prompt)"
      ]
    },
    {
      "cell_type": "code",
      "execution_count": 14,
      "metadata": {
        "colab": {
          "base_uri": "https://localhost:8080/"
        },
        "id": "MMOq5R5Lhmnv",
        "outputId": "9296cca6-b954-4f24-a04c-95f5e29b74fa"
      },
      "outputs": [
        {
          "name": "stdout",
          "output_type": "stream",
          "text": [
            "[SystemMessage(content='너는 친절한 상담사야.', additional_kwargs={}, response_metadata={}), HumanMessage(content='요즘 너무 지치고 의욕이 없어. 어떻게 하면 좋을까?', additional_kwargs={}, response_metadata={})]\n"
          ]
        }
      ],
      "source": [
        "messages = chat_prompt.format_messages(role=\"친절한 상담사\")\n",
        "print(messages)"
      ]
    },
    {
      "cell_type": "code",
      "execution_count": 15,
      "metadata": {
        "colab": {
          "base_uri": "https://localhost:8080/"
        },
        "id": "ZhjyWN59hnlb",
        "outputId": "b06353e7-88aa-41fc-9ff2-90dbcb4d5db8"
      },
      "outputs": [
        {
          "name": "stdout",
          "output_type": "stream",
          "text": [
            "힘든 시간을 보내고 계시는군요.  지치고 의욕이 없다는 말씀, 충분히 공감합니다.  많은 분들이 비슷한 감정을 느끼곤 하니까요.  우선, 당신의 마음을 표현해 주셔서 감사합니다.  혼자가 아니라는 것을 먼저 알려드리고 싶어요.\n",
            "\n",
            "지금 어떤 상황 때문에 이런 감정을 느끼시는지 조금 더 자세히 말씀해주시면 더욱 도움을 드릴 수 있을 것 같아요.  하지만 자세히 말씀하시기 어렵다면,  제가 몇 가지 질문을 드리고, 함께 생각해보는 시간을 가져볼까요?  압박감 없이 편안하게 답변해주셔도 괜찮습니다.\n",
            "\n",
            "예를 들어,\n",
            "\n",
            "* **최근에 특별히 힘든 일이 있었나요?** (업무, 관계, 건강 등)\n",
            "* **평소 어떤 방식으로 스트레스를 해소하시나요?**  (혹시 최근에 스트레스 해소 방법이 잘 안 통하시나요?)\n",
            "* **잠은 잘 주무시나요?  식사는 잘 챙겨 드시나요?** (신체적인 건강도 감정에 큰 영향을 미칩니다.)\n",
            "* **어떤 활동을 하면 기분이 조금이라도 좋아지시나요?** (아주 작은 것이라도 괜찮습니다.)\n",
            "\n",
            "이 질문들에 답변해주시면, 당신의 상황에 맞는 조언을 드릴 수 있도록 노력하겠습니다.  그리고,  힘든 감정을 혼자 짊어지지 마세요.  언제든지 저에게 이야기해주시고, 필요하다면 전문가의 도움을 받는 것도 좋은 방법입니다.  당신의 마음 건강이 가장 중요하다는 것을 잊지 마세요.  함께 극복해 나갈 수 있도록 최선을 다하겠습니다.\n"
          ]
        }
      ],
      "source": [
        "resp = llm.invoke(messages)\n",
        "print(resp.content)"
      ]
    },
    {
      "cell_type": "markdown",
      "metadata": {
        "id": "5-f8uynqg7-t"
      },
      "source": [
        "### (4) 😀실습\n",
        "\n",
        "* 영화 추천 템플릿 만들기\n",
        "    * 입력변수 : 장르\n",
        "    * 장르를 입력받아 영화 1편과 추천이유를 설명하는 템플릿을 만들고 사용해 봅시다."
      ]
    },
    {
      "cell_type": "code",
      "execution_count": 23,
      "metadata": {
        "colab": {
          "base_uri": "https://localhost:8080/"
        },
        "id": "3bJNEB4okZqO",
        "outputId": "39116189-212b-4483-b85f-c46921bb1f26"
      },
      "outputs": [
        {
          "name": "stdout",
          "output_type": "stream",
          "text": [
            "보고 싶은 영화 장르를 입력하세요 : 액션\n"
          ]
        }
      ],
      "source": [
        "genre = input('보고 싶은 영화 장르를 입력하세요 : ')"
      ]
    },
    {
      "cell_type": "code",
      "execution_count": 24,
      "metadata": {
        "id": "l_kOcAtYdYUR"
      },
      "outputs": [],
      "source": [
        "s_msg = \"너는 영화 평론가야\"\n",
        "h_msg = f\"{genre} 장르 영화 1편을 추천해주고, 추천 이유를 말해줘\"\n",
        "\n",
        "chat_prompt = ChatPromptTemplate.from_messages([\n",
        "    (\"system\", s_msg), (\"human\", h_msg)\n",
        "    ])"
      ]
    },
    {
      "cell_type": "code",
      "execution_count": 25,
      "metadata": {
        "colab": {
          "base_uri": "https://localhost:8080/"
        },
        "id": "gx92dhltiMn3",
        "outputId": "b67b23e0-a835-4870-d817-65120130cd6e"
      },
      "outputs": [
        {
          "name": "stdout",
          "output_type": "stream",
          "text": [
            "액션 장르 영화로는 **\"매드 맥스: 분노의 도로\"(Mad Max: Fury Road, 2015)**를 추천합니다.\n",
            "\n",
            "추천 이유는 다음과 같습니다.\n",
            "\n",
            "* **혁신적인 액션 연출:**  \"매드 맥스: 분노의 도로\"는 단순한 총격전이나 격투 장면을 넘어,  끊임없이 펼쳐지는 자동차 추격 장면을 중심으로 압도적인 스케일과 창의적인 액션 시퀀스를 선보입니다.  카메라 워크, 편집, 사운드 디자인의 조화가 완벽하며,  관객을 쉴 새 없이 몰입시키는 짜릿한 경험을 선사합니다.  CG에 의존하지 않고 실제 촬영으로 구현해낸 압도적인 스케일은 더욱 인상적입니다.\n",
            "\n",
            "* **강렬한 비주얼:**  황폐해진 미래 세계를 배경으로,  강렬한 색감과 독특한 의상,  기괴하면서도 매력적인 캐릭터 디자인 등 시각적으로 매우 인상적인 영화입니다.  마치 하나의 거대한 예술 작품을 보는 듯한 착각을 불러일으킵니다.\n",
            "\n",
            "* **매력적인 캐릭터:**  주인공 맥스뿐 아니라,  임모탄 조의 부하들,  그리고 퓨리오사와 그녀의 반란군 모두 개성이 뚜렷하고 매력적인 캐릭터들로 가득합니다.  단순히 선과 악의 대결을 넘어,  각 캐릭터의 내면과 동기가 드러나면서 깊이 있는 이야기를 전달합니다.\n",
            "\n",
            "* **스토리텔링의 힘:**  단순한 액션 영화를 넘어,  여성의 힘,  자유와 억압,  생존과 희생 등 다양한 주제를 흥미롭게 담아냅니다.  빠른 템포의 액션 속에서도 메시지를 효과적으로 전달하는 연출력이 돋보입니다.\n",
            "\n",
            "결론적으로 \"매드 맥스: 분노의 도로\"는 액션 장르의 새로운 기준을 제시한 수작이며,  단순한 오락 영화를 넘어 예술적인 가치까지 지닌 걸작입니다.  액션 영화 팬이라면 꼭 한 번 감상해 볼 것을 강력 추천합니다.\n"
          ]
        }
      ],
      "source": [
        "messages = chat_prompt.format_messages() # 실제 메시지 객체 리스트를 생성\n",
        "response = llm.invoke(messages)\n",
        "print(response.content)"
      ]
    },
    {
      "cell_type": "markdown",
      "metadata": {
        "id": "8oVjOz7ZkD5Y"
      },
      "source": [
        "## **4. OutputParser**\n",
        "\n",
        "**Output Parser**\n",
        "- LLM에서 반환된 자유형 텍스트(string)를를 우리가 원하는 형태로 가공해주는 도구\n",
        "\n",
        "**Output Parser의 종류**\n",
        "- CommaSeparatedListOutputParser : 쉼표 구분 문자열 → 리스트로 변환\n",
        "- PydanticOutputParser : 텍스트 → Pydantic 모델로 파싱\n",
        "- StructuredOutputParser : JSON 기반 구조화 파싱"
      ]
    },
    {
      "cell_type": "code",
      "execution_count": 18,
      "metadata": {
        "id": "4PgvvEgIj_ME"
      },
      "outputs": [],
      "source": [
        "from pydantic import BaseModel\n",
        "from langchain.output_parsers import PydanticOutputParser"
      ]
    },
    {
      "cell_type": "code",
      "execution_count": 19,
      "metadata": {
        "id": "WR2IIBipkFHj"
      },
      "outputs": [],
      "source": [
        "class User(BaseModel):\n",
        "    name: str\n",
        "    age: int"
      ]
    },
    {
      "cell_type": "code",
      "execution_count": 20,
      "metadata": {
        "colab": {
          "base_uri": "https://localhost:8080/"
        },
        "id": "nALtscRgkHzn",
        "outputId": "da3eafe6-8a7d-4c30-cdc4-6c18309e2061"
      },
      "outputs": [
        {
          "name": "stdout",
          "output_type": "stream",
          "text": [
            "title='사피엔스: 유인원에서 지배자로' author='유발 하라리' year=2011\n"
          ]
        }
      ],
      "source": [
        "# 1. Pydantic 모델 정의\n",
        "class BookInfo(BaseModel):\n",
        "    title: str\n",
        "    author: str\n",
        "    year: int\n",
        "\n",
        "# 2. 파서 생성\n",
        "parser = PydanticOutputParser(pydantic_object=BookInfo)\n",
        "\n",
        "# 3. 프롬프트 구성 (ChatPromptTemplate 사용)\n",
        "prompt = ChatPromptTemplate.from_messages([\n",
        "    (\"system\", \"너는 책 추천 전문가야.\"),\n",
        "    (\"human\", \"좋은 책 하나만 추천해줘. 제목과 저자, 출판년도를 알려줘.\"),\n",
        "    (\"system\", \"{output_format}\")  # 파서가 제공한 응답 형식 가이드\n",
        "])\n",
        "\n",
        "# 4. 메시지 생성\n",
        "messages = prompt.format_messages(\n",
        "    output_format = parser.get_format_instructions()\n",
        ")\n",
        "\n",
        "# 5. LLM 호출 및 파싱\n",
        "response = llm.invoke(messages)\n",
        "book = parser.parse(response.content)\n",
        "\n",
        "# 6. 결과 출력\n",
        "print(book)"
      ]
    },
    {
      "cell_type": "code",
      "execution_count": 21,
      "metadata": {
        "colab": {
          "base_uri": "https://localhost:8080/"
        },
        "id": "1IwZp6wnkJpF",
        "outputId": "f6bb0476-e115-4b73-9b09-266588079818"
      },
      "outputs": [
        {
          "data": {
            "text/plain": [
              "[SystemMessage(content='너는 책 추천 전문가야.', additional_kwargs={}, response_metadata={}),\n",
              " HumanMessage(content='좋은 책 하나만 추천해줘. 제목과 저자, 출판년도를 알려줘.', additional_kwargs={}, response_metadata={}),\n",
              " SystemMessage(content='The output should be formatted as a JSON instance that conforms to the JSON schema below.\\n\\nAs an example, for the schema {\"properties\": {\"foo\": {\"title\": \"Foo\", \"description\": \"a list of strings\", \"type\": \"array\", \"items\": {\"type\": \"string\"}}}, \"required\": [\"foo\"]}\\nthe object {\"foo\": [\"bar\", \"baz\"]} is a well-formatted instance of the schema. The object {\"properties\": {\"foo\": [\"bar\", \"baz\"]}} is not well-formatted.\\n\\nHere is the output schema:\\n```\\n{\"properties\": {\"title\": {\"title\": \"Title\", \"type\": \"string\"}, \"author\": {\"title\": \"Author\", \"type\": \"string\"}, \"year\": {\"title\": \"Year\", \"type\": \"integer\"}}, \"required\": [\"title\", \"author\", \"year\"]}\\n```', additional_kwargs={}, response_metadata={})]"
            ]
          },
          "execution_count": 21,
          "metadata": {},
          "output_type": "execute_result"
        }
      ],
      "source": [
        "messages"
      ]
    },
    {
      "cell_type": "markdown",
      "metadata": {
        "id": "_8Esu-0Kj7my"
      },
      "source": [
        "### (2) 😀실습\n",
        "* 장르를 입력하면, 영화 제목, 감독, 주연배우, 연도를 출력하도록 합시다. (PydanticOutputParser사용)"
      ]
    },
    {
      "cell_type": "code",
      "execution_count": 22,
      "metadata": {
        "colab": {
          "base_uri": "https://localhost:8080/"
        },
        "id": "beZo9ZNrkUSI",
        "outputId": "f6bd04b9-8fa1-4f43-8f02-07995aa3edef"
      },
      "outputs": [
        {
          "name": "stdout",
          "output_type": "stream",
          "text": [
            "액션\n"
          ]
        }
      ],
      "source": [
        "genre = input('보고 싶은 영화 장르를 입력하세요 : ')"
      ]
    },
    {
      "cell_type": "code",
      "execution_count": 27,
      "metadata": {
        "colab": {
          "base_uri": "https://localhost:8080/"
        },
        "id": "83IUifyyiR3e",
        "outputId": "42d3d55e-ff7c-496e-cb25-449d5c98b802"
      },
      "outputs": [
        {
          "name": "stdout",
          "output_type": "stream",
          "text": [
            "title='매드맥스: 분노의 도로' director='조지 밀러' main_actor='톰 하디' year=2015\n"
          ]
        }
      ],
      "source": [
        "# 1. Pydantic 모델 정의\n",
        "class BookInfo(BaseModel):\n",
        "    title: str\n",
        "    director: str\n",
        "    main_actor: str\n",
        "    year: int\n",
        "\n",
        "# 2. 파서 생성\n",
        "parser = PydanticOutputParser(pydantic_object=BookInfo)\n",
        "\n",
        "# 3. 프롬프트 구성 (ChatPromptTemplate 사용)\n",
        "prompt = ChatPromptTemplate.from_messages([\n",
        "    (\"system\", \"너는 영화 평론가야.\"),\n",
        "    (\"human\", f\"좋은 {genre}영화 하나만 추천해줘. 영화 제목, 감독, 주연배우, 연도를 알려줘.\"),\n",
        "    (\"system\", \"{output_format}\")  # 파서가 제공한 응답 형식 가이드\n",
        "])\n",
        "\n",
        "# 4. 메시지 생성\n",
        "messages = prompt.format_messages(\n",
        "    output_format = parser.get_format_instructions()\n",
        ")\n",
        "\n",
        "# 5. LLM 호출 및 파싱\n",
        "response = llm.invoke(messages)\n",
        "movie = parser.parse(response.content)\n",
        "\n",
        "# 6. 결과 출력\n",
        "print(movie)"
      ]
    },
    {
      "cell_type": "code",
      "execution_count": null,
      "metadata": {
        "id": "HQbCAt9wk4k6"
      },
      "outputs": [],
      "source": []
    }
  ],
  "metadata": {
    "colab": {
      "provenance": []
    },
    "kernelspec": {
      "display_name": "Python 3",
      "name": "python3"
    },
    "language_info": {
      "name": "python"
    }
  },
  "nbformat": 4,
  "nbformat_minor": 0
}
