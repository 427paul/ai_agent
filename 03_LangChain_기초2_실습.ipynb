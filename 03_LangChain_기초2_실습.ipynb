{
  "nbformat": 4,
  "nbformat_minor": 0,
  "metadata": {
    "colab": {
      "provenance": [],
      "toc_visible": true,
      "authorship_tag": "ABX9TyOg8/cGd3yO/F1mqw8SHMgF",
      "include_colab_link": true
    },
    "kernelspec": {
      "name": "python3",
      "display_name": "Python 3"
    },
    "language_info": {
      "name": "python"
    }
  },
  "cells": [
    {
      "cell_type": "markdown",
      "metadata": {
        "id": "view-in-github",
        "colab_type": "text"
      },
      "source": [
        "<a href=\"https://colab.research.google.com/github/427paul/ai_agent/blob/main/03_LangChain_%EA%B8%B0%EC%B4%882_%EC%8B%A4%EC%8A%B5.ipynb\" target=\"_parent\"><img src=\"https://colab.research.google.com/assets/colab-badge.svg\" alt=\"Open In Colab\"/></a>"
      ]
    },
    {
      "cell_type": "code",
      "execution_count": 1,
      "metadata": {
        "colab": {
          "base_uri": "https://localhost:8080/"
        },
        "id": "BTs6J39QJl1g",
        "outputId": "6916f2a1-ce5c-4855-f4a9-f0f6ae3f3037"
      },
      "outputs": [
        {
          "output_type": "stream",
          "name": "stdout",
          "text": [
            "\u001b[?25l   \u001b[90m━━━━━━━━━━━━━━━━━━━━━━━━━━━━━━━━━━━━━━━━\u001b[0m \u001b[32m0.0/75.0 kB\u001b[0m \u001b[31m?\u001b[0m eta \u001b[36m-:--:--\u001b[0m\r\u001b[2K   \u001b[90m━━━━━━━━━━━━━━━━━━━━━━━━━━━━━━━━━━━━━━━━\u001b[0m \u001b[32m75.0/75.0 kB\u001b[0m \u001b[31m3.1 MB/s\u001b[0m eta \u001b[36m0:00:00\u001b[0m\n",
            "\u001b[?25h\u001b[?25l   \u001b[90m━━━━━━━━━━━━━━━━━━━━━━━━━━━━━━━━━━━━━━━━\u001b[0m \u001b[32m0.0/2.5 MB\u001b[0m \u001b[31m?\u001b[0m eta \u001b[36m-:--:--\u001b[0m\r\u001b[2K   \u001b[91m━━━━━━━━━━━━━━━━━━━━━━━━━━━━━━━━━━━━━━━\u001b[0m\u001b[91m╸\u001b[0m \u001b[32m2.5/2.5 MB\u001b[0m \u001b[31m104.0 MB/s\u001b[0m eta \u001b[36m0:00:01\u001b[0m\r\u001b[2K   \u001b[90m━━━━━━━━━━━━━━━━━━━━━━━━━━━━━━━━━━━━━━━━\u001b[0m \u001b[32m2.5/2.5 MB\u001b[0m \u001b[31m50.7 MB/s\u001b[0m eta \u001b[36m0:00:00\u001b[0m\n",
            "\u001b[?25h\u001b[?25l   \u001b[90m━━━━━━━━━━━━━━━━━━━━━━━━━━━━━━━━━━━━━━━━\u001b[0m \u001b[32m0.0/64.7 kB\u001b[0m \u001b[31m?\u001b[0m eta \u001b[36m-:--:--\u001b[0m\r\u001b[2K   \u001b[90m━━━━━━━━━━━━━━━━━━━━━━━━━━━━━━━━━━━━━━━━\u001b[0m \u001b[32m64.7/64.7 kB\u001b[0m \u001b[31m4.4 MB/s\u001b[0m eta \u001b[36m0:00:00\u001b[0m\n",
            "\u001b[?25h\u001b[?25l   \u001b[90m━━━━━━━━━━━━━━━━━━━━━━━━━━━━━━━━━━━━━━━━\u001b[0m \u001b[32m0.0/50.9 kB\u001b[0m \u001b[31m?\u001b[0m eta \u001b[36m-:--:--\u001b[0m\r\u001b[2K   \u001b[90m━━━━━━━━━━━━━━━━━━━━━━━━━━━━━━━━━━━━━━━━\u001b[0m \u001b[32m50.9/50.9 kB\u001b[0m \u001b[31m3.3 MB/s\u001b[0m eta \u001b[36m0:00:00\u001b[0m\n",
            "\u001b[?25h\u001b[31mERROR: pip's dependency resolver does not currently take into account all the packages that are installed. This behaviour is the source of the following dependency conflicts.\n",
            "google-colab 1.0.0 requires requests==2.32.4, but you have requests 2.32.5 which is incompatible.\u001b[0m\u001b[31m\n",
            "\u001b[0m"
          ]
        }
      ],
      "source": [
        "!pip install langchain langchain-openai langchain_community langchain-huggingface huggingface_hub -q"
      ]
    },
    {
      "cell_type": "code",
      "source": [
        "!pip install -q google-generativeai langchain-google-genai"
      ],
      "metadata": {
        "colab": {
          "base_uri": "https://localhost:8080/"
        },
        "id": "0ihiQayeKDHy",
        "outputId": "40b19f15-73d6-45c3-bef1-ae19c51d099e"
      },
      "execution_count": 4,
      "outputs": [
        {
          "output_type": "stream",
          "name": "stdout",
          "text": [
            "\u001b[?25l   \u001b[90m━━━━━━━━━━━━━━━━━━━━━━━━━━━━━━━━━━━━━━━━\u001b[0m \u001b[32m0.0/42.0 kB\u001b[0m \u001b[31m?\u001b[0m eta \u001b[36m-:--:--\u001b[0m\r\u001b[2K   \u001b[90m━━━━━━━━━━━━━━━━━━━━━━━━━━━━━━━━━━━━━━━━\u001b[0m \u001b[32m42.0/42.0 kB\u001b[0m \u001b[31m3.2 MB/s\u001b[0m eta \u001b[36m0:00:00\u001b[0m\n",
            "\u001b[?25h"
          ]
        }
      ]
    },
    {
      "cell_type": "code",
      "source": [
        "import pandas as pd\n",
        "import numpy as np\n",
        "import os\n",
        "import openai\n",
        "\n",
        "from langchain.memory import ConversationBufferMemory\n",
        "from langchain.prompts.chat import ChatPromptTemplate\n",
        "from langchain.chains import ConversationChain\n",
        "from langchain_openai import ChatOpenAI\n",
        "from langchain_huggingface import HuggingFaceEndpoint, ChatHuggingFace"
      ],
      "metadata": {
        "id": "INl2BB8VJtH9"
      },
      "execution_count": 2,
      "outputs": []
    },
    {
      "cell_type": "markdown",
      "source": [
        "# 필요 token"
      ],
      "metadata": {
        "id": "q5UclpMFKmsf"
      }
    },
    {
      "cell_type": "code",
      "source": [
        "import os\n",
        "os.environ[\"GOOGLE_API_KEY\"] = \"\""
      ],
      "metadata": {
        "id": "YW_0e-nwJyt_"
      },
      "execution_count": 3,
      "outputs": []
    },
    {
      "cell_type": "code",
      "source": [
        "os.environ[\"HF_TOKEN\"] = \"\""
      ],
      "metadata": {
        "id": "bC-KTSGPKLLT"
      },
      "execution_count": 5,
      "outputs": []
    },
    {
      "cell_type": "markdown",
      "source": [
        "# 모델 준비"
      ],
      "metadata": {
        "id": "UF8bJB6AKor4"
      }
    },
    {
      "cell_type": "code",
      "source": [
        "# HuggingFace에서 해당 모델을 불러오는 엔드포인트 지정\n",
        "llm_ep = HuggingFaceEndpoint(repo_id=\"openai/gpt-oss-20b\", task=\"conversational\")\n",
        "\n",
        "# HuggingFace에서 가져온 모델을 그대로 쓰지 않고,\n",
        "# LangChain에서 쉽게 쓰도록 감싸는(wrapper) 단계\n",
        "llm1 = ChatHuggingFace(llm=llm_ep)"
      ],
      "metadata": {
        "id": "DQQ6sqjQKbed"
      },
      "execution_count": 6,
      "outputs": []
    },
    {
      "cell_type": "code",
      "source": [
        "from langchain_google_genai import ChatGoogleGenerativeAI\n",
        "\n",
        "llm2 = ChatGoogleGenerativeAI(\n",
        "    model=\"gemini-1.5-flash\",  # Lite 모델 사용\n",
        "    temperature=0.7\n",
        ")"
      ],
      "metadata": {
        "id": "48fw_bbFJ5Yc"
      },
      "execution_count": 7,
      "outputs": []
    },
    {
      "cell_type": "markdown",
      "source": [
        "# 메모리1 : ConversationBufferMemory"
      ],
      "metadata": {
        "id": "Kft9kJupKi_b"
      }
    },
    {
      "cell_type": "code",
      "source": [
        "from langchain.chains import ConversationChain\n",
        "from langchain.memory import ConversationBufferMemory"
      ],
      "metadata": {
        "id": "wOnJBNiJKdqO"
      },
      "execution_count": 8,
      "outputs": []
    },
    {
      "cell_type": "markdown",
      "source": [
        "## huggingface"
      ],
      "metadata": {
        "id": "VTkv2e3SKsY-"
      }
    },
    {
      "cell_type": "code",
      "source": [
        "# 메모리 준비\n",
        "memory1 = ConversationBufferMemory()\n",
        "\n",
        "# 체인 준비\n",
        "chain1 = ConversationChain(llm = llm1, memory = memory1)\n",
        "\n",
        "# 대화 시작\n",
        "print(chain1.run(\"안녕? 나는 핑크퐁이야.\"))"
      ],
      "metadata": {
        "colab": {
          "base_uri": "https://localhost:8080/"
        },
        "id": "Yle4xrC-Kr0u",
        "outputId": "383d73df-767f-4479-982b-7cec4401c470"
      },
      "execution_count": 9,
      "outputs": [
        {
          "output_type": "stream",
          "name": "stderr",
          "text": [
            "/tmp/ipython-input-849846002.py:2: LangChainDeprecationWarning: Please see the migration guide at: https://python.langchain.com/docs/versions/migrating_memory/\n",
            "  memory1 = ConversationBufferMemory()\n",
            "/tmp/ipython-input-849846002.py:5: LangChainDeprecationWarning: The class `ConversationChain` was deprecated in LangChain 0.2.7 and will be removed in 1.0. Use :class:`~langchain_core.runnables.history.RunnableWithMessageHistory` instead.\n",
            "  chain1 = ConversationChain(llm = llm1, memory = memory1)\n",
            "/tmp/ipython-input-849846002.py:8: LangChainDeprecationWarning: The method `Chain.run` was deprecated in langchain 0.1.0 and will be removed in 1.0. Use :meth:`~invoke` instead.\n",
            "  print(chain1.run(\"안녕? 나는 핑크퐁이야.\"))\n",
            "/usr/local/lib/python3.12/dist-packages/huggingface_hub/utils/_auth.py:94: UserWarning: \n",
            "The secret `HF_TOKEN` does not exist in your Colab secrets.\n",
            "To authenticate with the Hugging Face Hub, create a token in your settings tab (https://huggingface.co/settings/tokens), set it as secret in your Google Colab and restart your session.\n",
            "You will be able to reuse this secret in all of your notebooks.\n",
            "Please note that authentication is recommended but still optional to access public models or datasets.\n",
            "  warnings.warn(\n"
          ]
        },
        {
          "output_type": "stream",
          "name": "stdout",
          "text": [
            "안녕하세요! 반갑습니다 – Pinkfong이라니, 정말 멋진 카멜레온 친구군요! 🎉\n",
            "\n",
            "저는 여러분이 궁금한 것들을 도와드리는 데 특화된 AI입니다. 언어, 과학, 역사, 예술, 그리고 물론 Pinkfong의 유쾌하고 교육적인 콘텐츠까지—모든 주제에 대해 다양하고 자세한 정보를 드릴 수 있어요.\n",
            "\n",
            "혹시 Pinkfong과 관련해서 궁금한 점이 있나요? 예를 들어 ‘다이너소어 예배’ 같은 노래 가사, 가장 인기 있는 동영상, 혹은 어떤 교육적 메시지를 전달하는지 같은 세부 사항을 물어보실 수 있어요. 저도 Pinkfong이 전 세계 수억 명의 아이들에게 긍정적인 영향을 미치는 걸 전해 드릴 수 있다고 자랑스럽게 생각합니다. 😊\n",
            "\n",
            "궁금한 것이 있으면 언제든 물어보세요! 혹은 저에게 새로운 아이디어가 떠오르면 편하게 알려주세요. 함께 즐거운 대화를 나눠봐요!\n"
          ]
        }
      ]
    },
    {
      "cell_type": "code",
      "source": [
        "print(chain1.run(\"내 이름이 뭐라고?\"))"
      ],
      "metadata": {
        "colab": {
          "base_uri": "https://localhost:8080/"
        },
        "id": "NKdPr11LKvh8",
        "outputId": "795761b2-d6d0-4ca1-d5ec-393099862d25"
      },
      "execution_count": 10,
      "outputs": [
        {
          "output_type": "stream",
          "name": "stdout",
          "text": [
            "당신의 이름은 **“핑크퐁”**이죠! 다른 궁금한 점이 있으면 언제든 물어보세요.😊\n"
          ]
        }
      ]
    },
    {
      "cell_type": "markdown",
      "source": [
        "# 메모리2 : ConversatoinSummaryMemory"
      ],
      "metadata": {
        "id": "eMHsnx62K4Aj"
      }
    },
    {
      "cell_type": "code",
      "source": [
        "from langchain.memory import ConversationSummaryMemory"
      ],
      "metadata": {
        "id": "HJyZ-YoZKw-X"
      },
      "execution_count": 11,
      "outputs": []
    },
    {
      "cell_type": "code",
      "source": [
        "# 요약 메모리 생성 (요약용 LLM 필요)\n",
        "memory2 = ConversationSummaryMemory(llm = llm1)\n",
        "\n",
        "# 체인 구성\n",
        "chain2 = ConversationChain(llm = llm1, memory = memory2)"
      ],
      "metadata": {
        "colab": {
          "base_uri": "https://localhost:8080/"
        },
        "id": "I-w6llvoK8IS",
        "outputId": "8549b0ae-fa7f-4bf3-db0e-15294985ccf1"
      },
      "execution_count": 12,
      "outputs": [
        {
          "output_type": "stream",
          "name": "stderr",
          "text": [
            "/tmp/ipython-input-1376568762.py:2: LangChainDeprecationWarning: Please see the migration guide at: https://python.langchain.com/docs/versions/migrating_memory/\n",
            "  memory2 = ConversationSummaryMemory(llm = llm1)\n"
          ]
        }
      ]
    },
    {
      "cell_type": "code",
      "source": [
        "# 대화\n",
        "print(chain2.run(\"오늘은 운동하고, 친구랑 밥도 먹고, 강의도 들었어.\"))"
      ],
      "metadata": {
        "colab": {
          "base_uri": "https://localhost:8080/"
        },
        "id": "JdC-El9kK9Qk",
        "outputId": "479b0da4-1d89-4c49-ab6d-baeba61a9a23"
      },
      "execution_count": 13,
      "outputs": [
        {
          "output_type": "stream",
          "name": "stdout",
          "text": [
            "오늘 하루 정말 풍성했네요! 🌟\n",
            "\n",
            "- **운동**은 어떤 종류셨나요? 요가, 조깅, 수영 중 한가지를 골라서 뛰셨나요? 혹은 그룹 피트니스 클래스를 들으셨나요?  \n",
            "  - 만약 조깅이라면, 몇 킬로미터를 달으셨는지, 혹은 공원에서 자연을 즐기며 달리셨는지 궁금해요.  \n",
            "  - 수영이라면, 어느 스위밍 풀에서 몇 분 동안 수영하셨는지, 스프린트, 자유형, 배영 중 가장 즐겁게 느끼신 거는 어떤 스타일인지 알려주면 좋겠어요.  \n",
            "\n",
            "- **친구와 밥**은 어디에서 드셨나요?  \n",
            "  - 푸드 트럭에서 맛있는 길거리 음식이었나요, 혹은 한식집에서 비빔밥, 삼겹살을 즐기셨나요?  \n",
            "  - 혹은 채식 레스토랑에서 건강하고 고소한 샐러드를 먹으셨다는 소문도 듣고 싶습니다!  \n",
            "\n",
            "- **강의**는 어떤 주제였나요?  \n",
            "  - 최근에 들어온 신경과학 강의라면 뇌의 신경망과 기억 구조에 대해 흥미로운 내용이 있었다면 그 부분을 함께 내부적으로 분석해 볼 수도 있어요.  \n",
            "  - 아니면 비즈니스 전략, 마케팅, 혹은 예술 창작에 관한 강의라면 가장 인상 깊었던 프레임워크나 사례를 공유해 주시면, 그와 연결된 다른 흥미로운 자료를 찾아드릴 수도 있겠죠!  \n",
            "\n",
            "오늘 하루의 세 가지 활동을 각각 조금 더 구체적으로 알려주시면, 제가 그에 맞춰 더 깊이 있는 이야기나 팁, 혹은 추천을 드릴 수 있을 거예요. 혹은 오늘의 일상에서 느낀 작은 감정이나 인상 깊은 순간을 이야기해주셔도 좋습니다! 언제든 지식이나 인사이트가 필요하면 말씀해 주세요. 😊\n"
          ]
        }
      ]
    },
    {
      "cell_type": "code",
      "source": [
        "print(chain2.run(\"내가 오늘 뭐했는지 기억나?\"))"
      ],
      "metadata": {
        "colab": {
          "base_uri": "https://localhost:8080/"
        },
        "id": "nhn1nqBKK-rt",
        "outputId": "988c1681-5e6a-4f37-f339-8f63a0bc2801"
      },
      "execution_count": 14,
      "outputs": [
        {
          "output_type": "stream",
          "name": "stdout",
          "text": [
            "네, 기억해요!  \n",
            "오늘은 **운동**을 하고, **친구와 식사**를 하고, **강의**를 들으셨던 것 같아요. 그런데 그 세 가지 활동 중에서도 저에게는 아직 구체적인 내용이 남아있지 않아요.  \n",
            "\n",
            "- **운동 종류와 장소**: “오늘 어떤 운동을 했나요?” 예를 들어 조깅, 요가, 체중 훈련 등 어떤 것이 가장 기억에 남으셨는지 알려주시면 좋겠어요.  \n",
            "- **식사 장소**: 친구와 함께 어디에서 무엇을 끼니 드셨는지도 궁금해요. 카페, 식당, 혹은 집에서 함께 만든 음식이었는지요?  \n",
            "- **강의 주제와 강사**: 어떤 주제(예: 인공지능, 역사, 심리 등)와 강사가 강의를 진행하셨는지 아시나요?\n",
            "\n",
            "각 항목을 조금 더 자세히 알려주시면, 오늘 하루를 더 풍부하게 기억하고, 나중에 회상하실 때도 도움이 될 거예요. 혹시 꼭 기억이 나지 않으셔도 괜찮아요. 제가 보유한 정보만으로는 현재는 “운동, 먹었음, 강의” 정도밖에 없거든요. 언제든 더 자세한 정보를 주시면 바로 덧붙여 도와드릴게요!\n"
          ]
        }
      ]
    },
    {
      "cell_type": "markdown",
      "source": [
        "# 메모리3 : ConversationBufferWindowMemory"
      ],
      "metadata": {
        "id": "UevTlPqqLC2f"
      }
    },
    {
      "cell_type": "code",
      "source": [
        "from langchain.memory import ConversationBufferWindowMemory"
      ],
      "metadata": {
        "id": "KQlBm64ZLAf-"
      },
      "execution_count": 15,
      "outputs": []
    },
    {
      "cell_type": "code",
      "source": [
        "# k 턴\n",
        "k = 2\n",
        "\n",
        "# 최근 2턴만 기억하는 메모리\n",
        "memory3 = ConversationBufferWindowMemory(k = k)\n",
        "chain3 = ConversationChain(llm = llm1, memory = memory3)\n",
        "\n",
        "# 대화\n",
        "print(chain3.run(\"나는 핑크퐁이야.\"))"
      ],
      "metadata": {
        "colab": {
          "base_uri": "https://localhost:8080/"
        },
        "id": "MkxAKEcXLGig",
        "outputId": "ff38ba46-74ac-48ea-a69f-a6941723342e"
      },
      "execution_count": 16,
      "outputs": [
        {
          "output_type": "stream",
          "name": "stderr",
          "text": [
            "/tmp/ipython-input-2148917476.py:5: LangChainDeprecationWarning: Please see the migration guide at: https://python.langchain.com/docs/versions/migrating_memory/\n",
            "  memory3 = ConversationBufferWindowMemory(k = k)\n"
          ]
        },
        {
          "output_type": "stream",
          "name": "stdout",
          "text": [
            "안녕하세요! 저도 바로 그 핑크퐁이에요—초록색 입김을 토닥이며 웃음 짓는 작은 공룡이죠. 저희 핑크퐁은 1997년 경희대 프로듀서들이 만들었고, 지금은 세계 어디서도 아이들이 맞이하는 교육용 동영상과 오디오 콘텐츠로 사랑받고 있죠.  \n",
            "- **대표곡**: “Baby Shark”를 비롯해 “Pinkfong! 나는 오늘부터 너와 함께” 같은 동요로 전 세계 유튜브 조회수 20억 돌파!  \n",
            "- **콘텐츠 분야**: 뮤직비디오, 교육 도서, 앱, 애니메이션 드라이브, 퍼포먼스 공연 등 다양하게 확장됐습니다.  \n",
            "- **글로벌 인지도**: 한·중·미·유럽 등 거의 전 세계의 아이들과 학부모가 “핑크퐁”을 듣고 따라 부르죠.  \n",
            "\n",
            "혹시 핑크퐁의 어떤 부분이 궁금한가요? 예를 들어, 저희가 만든 동영상이 왜 이렇게 인기 있는지, 혹은 어떤 교육 철학을 가지고 있는지 알려드릴 수 있어요! 즐거운 이야기 나눠볼까요?\n"
          ]
        }
      ]
    },
    {
      "cell_type": "code",
      "source": [
        "# 프롬프트에 포함되는 내용\n",
        "memory3.load_memory_variables({})"
      ],
      "metadata": {
        "colab": {
          "base_uri": "https://localhost:8080/"
        },
        "id": "pIeKGkp-LJJV",
        "outputId": "d2d9551f-61e8-4ca8-fa42-e62228e25947"
      },
      "execution_count": 17,
      "outputs": [
        {
          "output_type": "execute_result",
          "data": {
            "text/plain": [
              "{'history': 'Human: 나는 핑크퐁이야.\\nAI: 안녕하세요! 저도 바로 그 핑크퐁이에요—초록색 입김을 토닥이며 웃음 짓는 작은 공룡이죠. 저희 핑크퐁은 1997년 경희대 프로듀서들이 만들었고, 지금은 세계 어디서도 아이들이 맞이하는 교육용 동영상과 오디오 콘텐츠로 사랑받고 있죠.  \\n- **대표곡**: “Baby Shark”를 비롯해 “Pinkfong! 나는 오늘부터 너와 함께” 같은 동요로 전 세계 유튜브 조회수 20억 돌파!  \\n- **콘텐츠 분야**: 뮤직비디오, 교육 도서, 앱, 애니메이션 드라이브, 퍼포먼스 공연 등 다양하게 확장됐습니다.  \\n- **글로벌 인지도**: 한·중·미·유럽 등 거의 전 세계의 아이들과 학부모가 “핑크퐁”을 듣고 따라 부르죠.  \\n\\n혹시 핑크퐁의 어떤 부분이 궁금한가요? 예를 들어, 저희가 만든 동영상이 왜 이렇게 인기 있는지, 혹은 어떤 교육 철학을 가지고 있는지 알려드릴 수 있어요! 즐거운 이야기 나눠볼까요?'}"
            ]
          },
          "metadata": {},
          "execution_count": 17
        }
      ]
    },
    {
      "cell_type": "code",
      "source": [
        "print(chain3.run(\"내가 좋아하는 색은 파란색이야.\"))\n",
        "print('-'*100)\n",
        "memory3.load_memory_variables({})"
      ],
      "metadata": {
        "colab": {
          "base_uri": "https://localhost:8080/"
        },
        "id": "OSaEF-d4LKNR",
        "outputId": "4160acfa-de6a-4cbf-9b17-d5b4dece17ea"
      },
      "execution_count": 18,
      "outputs": [
        {
          "output_type": "stream",
          "name": "stdout",
          "text": [
            "아, 파란색이요! 파란색은 정말 매력적인 색이죠. 저는 핑크퐁도 파란색을 자주 활용하는 걸 보면서, “왜 파란색이 아이들에게 이렇게 매력적일까?” 라는 궁금증이 남았어요. 자, 파란색이 우리 일상과 아이들에게 미치는 영향에 대해 한껏 깊게 파헤쳐볼까요?\n",
            "\n",
            "---\n",
            "\n",
            "### 1. 파란색이 주는 감정적 효과  \n",
            "| 파란색 조화 | 주는 기분 | 뇌에서 반응하는 신경전달물질 |\n",
            "|-------------|-----------|------------------------------|\n",
            "| 밝은 하늘색 | 편안함, 평온 | 세로토닌 증가, 진정 효과 |\n",
            "| 어두운 청록 | 집중, 안정 | 도파민 보조, 에너지 감소 |\n",
            "| 진한 네이비 | 고요함, 신뢰 | GABA 증가, 스트레스 감소 |\n",
            "\n",
            "**생각해 보세요** – 교실에서 ‘블루 라이트’ 를 활용한 학습 환경은 학생들의 집중력을 10% 정도 높인다는 연구 결과가 있으니, 한 번 시도해 보는 건 어떨까요?  \n",
            "\n",
            "---\n",
            "\n",
            "### 2. 파란색과 아이들의 학습  \n",
            "- **학습용 교재**: 파란색 배경에 흰색 글씨를 쓰면 눈의 피로도를 최소화하면서도 시선을 집중시키는 효과가 있다는 연구가 있습니다.    \n",
            "- **앱 디자인**: ‘핑크퐁’의 ‘Pinkfong Storybook’에서는 블루 톤을 배경으로 사용해 아이들이 캐릭터에 더 몰입하도록 유도합니다.  \n",
            "\n",
            "---\n",
            "\n",
            "### 3. 파란색과 문화  \n",
            "| 나라 | 파란색과 연관된 의미 | 예시 |\n",
            "|-----|----------------|------|\n",
            "| 일본 | 지혜, 신뢰 | ‘새하얀 파란색 한류’ |\n",
            "| 독일 | 자유, 개혁 | ‘파란색은 민주주의’ |\n",
            "| 인도 | 신성, 지식 | ‘아그니가 파랑을 닮았다’ |\n",
            "\n",
            "저는 특히 인도 우파 신화에서 “파란 몸을 한 신”이 있는 게 인상깊습니다! 파란색이 신성함을 상징하는 문화도 발견할 수 있죠.\n",
            "\n",
            "---\n",
            "\n",
            "### 4. 파란색과 힐링  \n",
            "- **명상**: 파란색 안광을 꾸준히 바라보면, 마음의 물결이 부드럽게 넘어가요.  \n",
            "- **스트레칭**: 파란색 쿠션이나 블루 라이트가 들어간 물리치료 기구가 심리적 안정감을 높여줍니다.  \n",
            "\n",
            "---\n",
            "\n",
            "#### 🎶 핑크퐁의 파란색 노래  \n",
            "‘베티·베터·더멀’(비타민 모금 씽크) 비트가 파란색 배경과 조화를 이룬 한 편의 뮤직비디오가 있는데, 세상에서 가장 휠 수예론적인 색상 조합을 보여 주거든요.  \n",
            "\n",
            "---\n",
            "\n",
            "### 더 알고 싶으면?  \n",
            "- **파란색 조합 아이디어**: ‘파랑 + 노랑 = 햇빛’처럼 색상 혼합법을 배우고 싶지 않나요?  \n",
            "- **파란색의 히포크라테스**: 파란색이 왜 의학에서도 자주 쓰이는지 궁금해요?  \n",
            "- **아이들 맞춤 파란색 디자인**: 핑크퐁에서 만들어 보는 색상 조합 팁이 궁금한가요?  \n",
            "\n",
            "저와 함께 파란색의 세계를 더 탐험해 보시겠어요? 언제든지 물어보세요!\n",
            "----------------------------------------------------------------------------------------------------\n"
          ]
        },
        {
          "output_type": "execute_result",
          "data": {
            "text/plain": [
              "{'history': 'Human: 나는 핑크퐁이야.\\nAI: 안녕하세요! 저도 바로 그 핑크퐁이에요—초록색 입김을 토닥이며 웃음 짓는 작은 공룡이죠. 저희 핑크퐁은 1997년 경희대 프로듀서들이 만들었고, 지금은 세계 어디서도 아이들이 맞이하는 교육용 동영상과 오디오 콘텐츠로 사랑받고 있죠.  \\n- **대표곡**: “Baby Shark”를 비롯해 “Pinkfong! 나는 오늘부터 너와 함께” 같은 동요로 전 세계 유튜브 조회수 20억 돌파!  \\n- **콘텐츠 분야**: 뮤직비디오, 교육 도서, 앱, 애니메이션 드라이브, 퍼포먼스 공연 등 다양하게 확장됐습니다.  \\n- **글로벌 인지도**: 한·중·미·유럽 등 거의 전 세계의 아이들과 학부모가 “핑크퐁”을 듣고 따라 부르죠.  \\n\\n혹시 핑크퐁의 어떤 부분이 궁금한가요? 예를 들어, 저희가 만든 동영상이 왜 이렇게 인기 있는지, 혹은 어떤 교육 철학을 가지고 있는지 알려드릴 수 있어요! 즐거운 이야기 나눠볼까요?\\nHuman: 내가 좋아하는 색은 파란색이야.\\nAI: 아, 파란색이요! 파란색은 정말 매력적인 색이죠. 저는 핑크퐁도 파란색을 자주 활용하는 걸 보면서, “왜 파란색이 아이들에게 이렇게 매력적일까?” 라는 궁금증이 남았어요. 자, 파란색이 우리 일상과 아이들에게 미치는 영향에 대해 한껏 깊게 파헤쳐볼까요?\\n\\n---\\n\\n### 1. 파란색이 주는 감정적 효과  \\n| 파란색 조화 | 주는 기분 | 뇌에서 반응하는 신경전달물질 |\\n|-------------|-----------|------------------------------|\\n| 밝은 하늘색 | 편안함, 평온 | 세로토닌 증가, 진정 효과 |\\n| 어두운 청록 | 집중, 안정 | 도파민 보조, 에너지 감소 |\\n| 진한 네이비 | 고요함, 신뢰 | GABA 증가, 스트레스 감소 |\\n\\n**생각해 보세요** – 교실에서 ‘블루 라이트’ 를 활용한 학습 환경은 학생들의 집중력을 10% 정도 높인다는 연구 결과가 있으니, 한 번 시도해 보는 건 어떨까요?  \\n\\n---\\n\\n### 2. 파란색과 아이들의 학습  \\n- **학습용 교재**: 파란색 배경에 흰색 글씨를 쓰면 눈의 피로도를 최소화하면서도 시선을 집중시키는 효과가 있다는 연구가 있습니다.    \\n- **앱 디자인**: ‘핑크퐁’의 ‘Pinkfong Storybook’에서는 블루 톤을 배경으로 사용해 아이들이 캐릭터에 더 몰입하도록 유도합니다.  \\n\\n---\\n\\n### 3. 파란색과 문화  \\n| 나라 | 파란색과 연관된 의미 | 예시 |\\n|-----|----------------|------|\\n| 일본 | 지혜, 신뢰 | ‘새하얀 파란색 한류’ |\\n| 독일 | 자유, 개혁 | ‘파란색은 민주주의’ |\\n| 인도 | 신성, 지식 | ‘아그니가 파랑을 닮았다’ |\\n\\n저는 특히 인도 우파 신화에서 “파란 몸을 한 신”이 있는 게 인상깊습니다! 파란색이 신성함을 상징하는 문화도 발견할 수 있죠.\\n\\n---\\n\\n### 4. 파란색과 힐링  \\n- **명상**: 파란색 안광을 꾸준히 바라보면, 마음의 물결이 부드럽게 넘어가요.  \\n- **스트레칭**: 파란색 쿠션이나 블루 라이트가 들어간 물리치료 기구가 심리적 안정감을 높여줍니다.  \\n\\n---\\n\\n#### 🎶 핑크퐁의 파란색 노래  \\n‘베티·베터·더멀’(비타민 모금 씽크) 비트가 파란색 배경과 조화를 이룬 한 편의 뮤직비디오가 있는데, 세상에서 가장 휠 수예론적인 색상 조합을 보여 주거든요.  \\n\\n---\\n\\n### 더 알고 싶으면?  \\n- **파란색 조합 아이디어**: ‘파랑 + 노랑 = 햇빛’처럼 색상 혼합법을 배우고 싶지 않나요?  \\n- **파란색의 히포크라테스**: 파란색이 왜 의학에서도 자주 쓰이는지 궁금해요?  \\n- **아이들 맞춤 파란색 디자인**: 핑크퐁에서 만들어 보는 색상 조합 팁이 궁금한가요?  \\n\\n저와 함께 파란색의 세계를 더 탐험해 보시겠어요? 언제든지 물어보세요!'}"
            ]
          },
          "metadata": {},
          "execution_count": 18
        }
      ]
    },
    {
      "cell_type": "code",
      "source": [
        "print(chain3.run(\"나는 영화보는 것을 좋아해\"))\n",
        "print('-'*100)\n",
        "memory3.load_memory_variables({})"
      ],
      "metadata": {
        "colab": {
          "base_uri": "https://localhost:8080/"
        },
        "id": "qpYJReVcLL5K",
        "outputId": "74c05a18-9c2a-46ee-e2d3-1b84b2b9b9ee"
      },
      "execution_count": 19,
      "outputs": [
        {
          "output_type": "stream",
          "name": "stdout",
          "text": [
            "🎬 **영화 속으로 함께 여행해 볼까요?**  \n",
            "안녕하세요! “영화 보는 것을 좋아한다구요? 멋져요!”  \n",
            "제가 지금 바로 ‘이름·장르·취향’에 맞는 추천 리스트를 짜 드릴게요. \n",
            "\n",
            "---\n",
            "\n",
            "## 1️⃣ 영화 장르별 고른 보물 상자\n",
            "\n",
            "| 장르 | 특징 | 추천 영화 (한국, 국제, 아동용) | 왜 추천할까? |\n",
            "|------|------|-------------------------------------|--------------|\n",
            "| **감동·드라마** | 인간 관계, 성장, 감정 이입 | *기생충* (한국) <br> *The Irishman* (연기·감동) <br> *어린 왕자* (애니·감동) | 사회적 메시지와 감성적 연결이 깊어요. |\n",
            "| **스릴·액션** | 빠른 전개, 카리스마 주인공 | *다크 나이트* (영웅 스펙터클) <br> *어벤져스: 엔드게임* (코믹스 신화) <br> *지더스* (당출 홈) | 스릴 넘치는 장면과 CGI 마법이 가득! |\n",
            "| **공포·스릴러** | 긴장감, 불길한 분위기 | *그것* (미드) <br> *아노니미* (포스트‑포스트) <br> *파이브 시카토스* (물리학적 플롯) | 심리적 충격과 초현실적 요소가 매력적! |\n",
            "| **판타지·SF** | 비현실적 세계, 혁신적 시각효과 | *인터스텔라* (우주·시간) <br> *해리 포터 시리즈* (마법 세계) <br> *엔젤스 인 블루* (꿈을 다루는 롤라) | 현실을 초월한 스케일과 상상력이 폭발! |\n",
            "| **코미디·드라마** | 웃음과 따뜻한 감정 | *국제시장* (아시아 역사의 분위기) <br> *과외할- 잘하면* (한국계 친구) <br> *포카* (디즈니‑아닌 두배) | 취향을 살리면서 편안히 웃을 수 있어요. |\n",
            "| **아동·가족** | 교육적 가치, 뮤직비디오 느낌 | *타이어 사전* (초등학교 동화) <br> *피터 팬* (풍선마차) <br> *핑크퐁 어드벤처* (색감과 동요) | 색감, 이야기, 멜로디가 포근합니다. |\n",
            "\n",
            "\n",
            "---\n",
            "\n",
            "## 2️⃣ 색코드를 활용한 영화 꿀팁\n",
            "\n",
            "- **빨강**: 열정·전투·로맨스 이야기(예: *레드* 시리즈)\n",
            "- **파랑**: 침착·공상과 미래(예: *블루 에일리언*)\n",
            "- **노랑**: 희망·기쁨·시대변화(예: *황금 나침반*)\n",
            "\n",
            "> **TIP:** 영화의 배경색이 가감점! 가끔은 영화의 색채가 도입 악센트처럼 강조될 수 있어요. 눈길을 끌 때 이상한 색조를 선택하면 더 깊은 메시지를 전달하죠.\n",
            "\n",
            "---\n",
            "\n",
            "## 3️⃣ 관람 스타일 고르기\n",
            "\n",
            "| 관람 모드 | 특징 | 추천 포인트 |\n",
            "|-----------|------|------------|\n",
            "| **가족/어린이** | 플롯이 직관적, 배경음악이 핵심 | **로또 블레스트** (전작원 영역)\n",
            "| **솔로 편안** | 심리적 긴장감 연계, 독립적 무드 | **해리 포터 시리즈** (책을 읽어본 경우 물미) |\n",
            "| **세트장 감상** | 시각적 압도감, 무대비추 | **마린 댄스** (검은 파도)\n",
            "| **내성·심리** | 혼자 감정에 몰입, 깊은 사유 | **자전거** (시간을 헤매는 스펙트럼) |\n",
            "\n",
            "---\n",
            "\n",
            "## 4️⃣ 인기 있는 영화 플랫폼 (필수 체크리스트)\n",
            "\n",
            "| 서비스 | 장점 | 특색 |\n",
            "|--------|------|------|\n",
            "| **넷플릭스** | 장바구니, 고화질 | *The Witcher*에서 블루 헤리티지 |\n",
            "| **디즈니+** | 코믹스 영감 | '훌라' 비밀 모험 |\n",
            "| **네이버 TV** | 한국 영화 대전 | *웰스* 해킹 티브리 |\n",
            "| **유튜브 픽스** | 무료/유료, 신간 토론 | *Adam Country* 초대 |\n",
            "| **티빙** | 한국 드라마 & 버클 | *신의 거짓말* 시리즈 |\n",
            "\n",
            "---\n",
            "\n",
            "## 5️⃣  당신에게 맞춤형 추천 코너\n",
            "\n",
            "💬 **이 여정에서 **“무엇을 보고 싶어요?”** –  \n",
            "- 예: 배경음이 멜로디를 담은 공주 공이 싱어리스트, 혹은 스릴러 스페이스 코미디가 궁금하신가요?  \n",
            "- 혹은 **키워드**(예: 우정, 성장, 모험)를 알려주시면 그에 맞춘 **3편**을 한 눈에 정리해 드릴게요!  \n",
            "\n",
            "> **예시 요청**:  \n",
            "> “어릴 때 보던 판타지 영화 같은 걸로 기억나요. 아마 **‘Ariana (아이리스/아이리차)**를 찾아야겠는데, 비슷한 스타일이요?          \n",
            "\n",
            "그럼, 한편이라도 눈에 들어오는 걸 물어봐 주세요! 더욱 자세한 비하인드 스토리와 트리오 일화까지 풀어드릴게요. 🎉\n",
            "----------------------------------------------------------------------------------------------------\n"
          ]
        },
        {
          "output_type": "execute_result",
          "data": {
            "text/plain": [
              "{'history': \"Human: 내가 좋아하는 색은 파란색이야.\\nAI: 아, 파란색이요! 파란색은 정말 매력적인 색이죠. 저는 핑크퐁도 파란색을 자주 활용하는 걸 보면서, “왜 파란색이 아이들에게 이렇게 매력적일까?” 라는 궁금증이 남았어요. 자, 파란색이 우리 일상과 아이들에게 미치는 영향에 대해 한껏 깊게 파헤쳐볼까요?\\n\\n---\\n\\n### 1. 파란색이 주는 감정적 효과  \\n| 파란색 조화 | 주는 기분 | 뇌에서 반응하는 신경전달물질 |\\n|-------------|-----------|------------------------------|\\n| 밝은 하늘색 | 편안함, 평온 | 세로토닌 증가, 진정 효과 |\\n| 어두운 청록 | 집중, 안정 | 도파민 보조, 에너지 감소 |\\n| 진한 네이비 | 고요함, 신뢰 | GABA 증가, 스트레스 감소 |\\n\\n**생각해 보세요** – 교실에서 ‘블루 라이트’ 를 활용한 학습 환경은 학생들의 집중력을 10% 정도 높인다는 연구 결과가 있으니, 한 번 시도해 보는 건 어떨까요?  \\n\\n---\\n\\n### 2. 파란색과 아이들의 학습  \\n- **학습용 교재**: 파란색 배경에 흰색 글씨를 쓰면 눈의 피로도를 최소화하면서도 시선을 집중시키는 효과가 있다는 연구가 있습니다.    \\n- **앱 디자인**: ‘핑크퐁’의 ‘Pinkfong Storybook’에서는 블루 톤을 배경으로 사용해 아이들이 캐릭터에 더 몰입하도록 유도합니다.  \\n\\n---\\n\\n### 3. 파란색과 문화  \\n| 나라 | 파란색과 연관된 의미 | 예시 |\\n|-----|----------------|------|\\n| 일본 | 지혜, 신뢰 | ‘새하얀 파란색 한류’ |\\n| 독일 | 자유, 개혁 | ‘파란색은 민주주의’ |\\n| 인도 | 신성, 지식 | ‘아그니가 파랑을 닮았다’ |\\n\\n저는 특히 인도 우파 신화에서 “파란 몸을 한 신”이 있는 게 인상깊습니다! 파란색이 신성함을 상징하는 문화도 발견할 수 있죠.\\n\\n---\\n\\n### 4. 파란색과 힐링  \\n- **명상**: 파란색 안광을 꾸준히 바라보면, 마음의 물결이 부드럽게 넘어가요.  \\n- **스트레칭**: 파란색 쿠션이나 블루 라이트가 들어간 물리치료 기구가 심리적 안정감을 높여줍니다.  \\n\\n---\\n\\n#### 🎶 핑크퐁의 파란색 노래  \\n‘베티·베터·더멀’(비타민 모금 씽크) 비트가 파란색 배경과 조화를 이룬 한 편의 뮤직비디오가 있는데, 세상에서 가장 휠 수예론적인 색상 조합을 보여 주거든요.  \\n\\n---\\n\\n### 더 알고 싶으면?  \\n- **파란색 조합 아이디어**: ‘파랑 + 노랑 = 햇빛’처럼 색상 혼합법을 배우고 싶지 않나요?  \\n- **파란색의 히포크라테스**: 파란색이 왜 의학에서도 자주 쓰이는지 궁금해요?  \\n- **아이들 맞춤 파란색 디자인**: 핑크퐁에서 만들어 보는 색상 조합 팁이 궁금한가요?  \\n\\n저와 함께 파란색의 세계를 더 탐험해 보시겠어요? 언제든지 물어보세요!\\nHuman: 나는 영화보는 것을 좋아해\\nAI: 🎬 **영화 속으로 함께 여행해 볼까요?**  \\n안녕하세요! “영화 보는 것을 좋아한다구요? 멋져요!”  \\n제가 지금 바로 ‘이름·장르·취향’에 맞는 추천 리스트를 짜 드릴게요. \\n\\n---\\n\\n## 1️⃣ 영화 장르별 고른 보물 상자\\n\\n| 장르 | 특징 | 추천 영화 (한국, 국제, 아동용) | 왜 추천할까? |\\n|------|------|-------------------------------------|--------------|\\n| **감동·드라마** | 인간 관계, 성장, 감정 이입 | *기생충* (한국) <br> *The Irishman* (연기·감동) <br> *어린 왕자* (애니·감동) | 사회적 메시지와 감성적 연결이 깊어요. |\\n| **스릴·액션** | 빠른 전개, 카리스마 주인공 | *다크 나이트* (영웅 스펙터클) <br> *어벤져스: 엔드게임* (코믹스 신화) <br> *지더스* (당출 홈) | 스릴 넘치는 장면과 CGI 마법이 가득! |\\n| **공포·스릴러** | 긴장감, 불길한 분위기 | *그것* (미드) <br> *아노니미* (포스트‑포스트) <br> *파이브 시카토스* (물리학적 플롯) | 심리적 충격과 초현실적 요소가 매력적! |\\n| **판타지·SF** | 비현실적 세계, 혁신적 시각효과 | *인터스텔라* (우주·시간) <br> *해리 포터 시리즈* (마법 세계) <br> *엔젤스 인 블루* (꿈을 다루는 롤라) | 현실을 초월한 스케일과 상상력이 폭발! |\\n| **코미디·드라마** | 웃음과 따뜻한 감정 | *국제시장* (아시아 역사의 분위기) <br> *과외할- 잘하면* (한국계 친구) <br> *포카* (디즈니‑아닌 두배) | 취향을 살리면서 편안히 웃을 수 있어요. |\\n| **아동·가족** | 교육적 가치, 뮤직비디오 느낌 | *타이어 사전* (초등학교 동화) <br> *피터 팬* (풍선마차) <br> *핑크퐁 어드벤처* (색감과 동요) | 색감, 이야기, 멜로디가 포근합니다. |\\n\\n\\n---\\n\\n## 2️⃣ 색코드를 활용한 영화 꿀팁\\n\\n- **빨강**: 열정·전투·로맨스 이야기(예: *레드* 시리즈)\\n- **파랑**: 침착·공상과 미래(예: *블루 에일리언*)\\n- **노랑**: 희망·기쁨·시대변화(예: *황금 나침반*)\\n\\n> **TIP:** 영화의 배경색이 가감점! 가끔은 영화의 색채가 도입 악센트처럼 강조될 수 있어요. 눈길을 끌 때 이상한 색조를 선택하면 더 깊은 메시지를 전달하죠.\\n\\n---\\n\\n## 3️⃣ 관람 스타일 고르기\\n\\n| 관람 모드 | 특징 | 추천 포인트 |\\n|-----------|------|------------|\\n| **가족/어린이** | 플롯이 직관적, 배경음악이 핵심 | **로또 블레스트** (전작원 영역)\\n| **솔로 편안** | 심리적 긴장감 연계, 독립적 무드 | **해리 포터 시리즈** (책을 읽어본 경우 물미) |\\n| **세트장 감상** | 시각적 압도감, 무대비추 | **마린 댄스** (검은 파도)\\n| **내성·심리** | 혼자 감정에 몰입, 깊은 사유 | **자전거** (시간을 헤매는 스펙트럼) |\\n\\n---\\n\\n## 4️⃣ 인기 있는 영화 플랫폼 (필수 체크리스트)\\n\\n| 서비스 | 장점 | 특색 |\\n|--------|------|------|\\n| **넷플릭스** | 장바구니, 고화질 | *The Witcher*에서 블루 헤리티지 |\\n| **디즈니+** | 코믹스 영감 | '훌라' 비밀 모험 |\\n| **네이버 TV** | 한국 영화 대전 | *웰스* 해킹 티브리 |\\n| **유튜브 픽스** | 무료/유료, 신간 토론 | *Adam Country* 초대 |\\n| **티빙** | 한국 드라마 & 버클 | *신의 거짓말* 시리즈 |\\n\\n---\\n\\n## 5️⃣  당신에게 맞춤형 추천 코너\\n\\n💬 **이 여정에서 **“무엇을 보고 싶어요?”** –  \\n- 예: 배경음이 멜로디를 담은 공주\\u202f공이 싱어리스트, 혹은 스릴러 스페이스 코미디가 궁금하신가요?  \\n- 혹은 **키워드**(예: 우정, 성장, 모험)를 알려주시면 그에 맞춘 **3편**을 한 눈에 정리해 드릴게요!  \\n\\n> **예시 요청**:  \\n> “어릴 때 보던 판타지 영화 같은 걸로 기억나요. 아마 **‘Ariana (아이리스/아이리차)**를 찾아야겠는데, 비슷한 스타일이요?          \\n\\n그럼, 한편이라도 눈에 들어오는 걸 물어봐 주세요! 더욱 자세한 비하인드 스토리와 트리오 일화까지 풀어드릴게요. 🎉\"}"
            ]
          },
          "metadata": {},
          "execution_count": 19
        }
      ]
    },
    {
      "cell_type": "code",
      "source": [
        "print(chain3.run(\"내 이름이 뭐라고?\"))\n",
        "print('-'*100)\n",
        "memory3.load_memory_variables({})"
      ],
      "metadata": {
        "colab": {
          "base_uri": "https://localhost:8080/"
        },
        "id": "IzSwp_fOLSVu",
        "outputId": "fd1992fe-c586-416f-ce8c-bcf2ede5be08"
      },
      "execution_count": 20,
      "outputs": [
        {
          "output_type": "stream",
          "name": "stdout",
          "text": [
            "I’m sorry—I don’t have that information. If you’d like, you can tell me your name!\n",
            "----------------------------------------------------------------------------------------------------\n"
          ]
        },
        {
          "output_type": "execute_result",
          "data": {
            "text/plain": [
              "{'history': \"Human: 나는 영화보는 것을 좋아해\\nAI: 🎬 **영화 속으로 함께 여행해 볼까요?**  \\n안녕하세요! “영화 보는 것을 좋아한다구요? 멋져요!”  \\n제가 지금 바로 ‘이름·장르·취향’에 맞는 추천 리스트를 짜 드릴게요. \\n\\n---\\n\\n## 1️⃣ 영화 장르별 고른 보물 상자\\n\\n| 장르 | 특징 | 추천 영화 (한국, 국제, 아동용) | 왜 추천할까? |\\n|------|------|-------------------------------------|--------------|\\n| **감동·드라마** | 인간 관계, 성장, 감정 이입 | *기생충* (한국) <br> *The Irishman* (연기·감동) <br> *어린 왕자* (애니·감동) | 사회적 메시지와 감성적 연결이 깊어요. |\\n| **스릴·액션** | 빠른 전개, 카리스마 주인공 | *다크 나이트* (영웅 스펙터클) <br> *어벤져스: 엔드게임* (코믹스 신화) <br> *지더스* (당출 홈) | 스릴 넘치는 장면과 CGI 마법이 가득! |\\n| **공포·스릴러** | 긴장감, 불길한 분위기 | *그것* (미드) <br> *아노니미* (포스트‑포스트) <br> *파이브 시카토스* (물리학적 플롯) | 심리적 충격과 초현실적 요소가 매력적! |\\n| **판타지·SF** | 비현실적 세계, 혁신적 시각효과 | *인터스텔라* (우주·시간) <br> *해리 포터 시리즈* (마법 세계) <br> *엔젤스 인 블루* (꿈을 다루는 롤라) | 현실을 초월한 스케일과 상상력이 폭발! |\\n| **코미디·드라마** | 웃음과 따뜻한 감정 | *국제시장* (아시아 역사의 분위기) <br> *과외할- 잘하면* (한국계 친구) <br> *포카* (디즈니‑아닌 두배) | 취향을 살리면서 편안히 웃을 수 있어요. |\\n| **아동·가족** | 교육적 가치, 뮤직비디오 느낌 | *타이어 사전* (초등학교 동화) <br> *피터 팬* (풍선마차) <br> *핑크퐁 어드벤처* (색감과 동요) | 색감, 이야기, 멜로디가 포근합니다. |\\n\\n\\n---\\n\\n## 2️⃣ 색코드를 활용한 영화 꿀팁\\n\\n- **빨강**: 열정·전투·로맨스 이야기(예: *레드* 시리즈)\\n- **파랑**: 침착·공상과 미래(예: *블루 에일리언*)\\n- **노랑**: 희망·기쁨·시대변화(예: *황금 나침반*)\\n\\n> **TIP:** 영화의 배경색이 가감점! 가끔은 영화의 색채가 도입 악센트처럼 강조될 수 있어요. 눈길을 끌 때 이상한 색조를 선택하면 더 깊은 메시지를 전달하죠.\\n\\n---\\n\\n## 3️⃣ 관람 스타일 고르기\\n\\n| 관람 모드 | 특징 | 추천 포인트 |\\n|-----------|------|------------|\\n| **가족/어린이** | 플롯이 직관적, 배경음악이 핵심 | **로또 블레스트** (전작원 영역)\\n| **솔로 편안** | 심리적 긴장감 연계, 독립적 무드 | **해리 포터 시리즈** (책을 읽어본 경우 물미) |\\n| **세트장 감상** | 시각적 압도감, 무대비추 | **마린 댄스** (검은 파도)\\n| **내성·심리** | 혼자 감정에 몰입, 깊은 사유 | **자전거** (시간을 헤매는 스펙트럼) |\\n\\n---\\n\\n## 4️⃣ 인기 있는 영화 플랫폼 (필수 체크리스트)\\n\\n| 서비스 | 장점 | 특색 |\\n|--------|------|------|\\n| **넷플릭스** | 장바구니, 고화질 | *The Witcher*에서 블루 헤리티지 |\\n| **디즈니+** | 코믹스 영감 | '훌라' 비밀 모험 |\\n| **네이버 TV** | 한국 영화 대전 | *웰스* 해킹 티브리 |\\n| **유튜브 픽스** | 무료/유료, 신간 토론 | *Adam Country* 초대 |\\n| **티빙** | 한국 드라마 & 버클 | *신의 거짓말* 시리즈 |\\n\\n---\\n\\n## 5️⃣  당신에게 맞춤형 추천 코너\\n\\n💬 **이 여정에서 **“무엇을 보고 싶어요?”** –  \\n- 예: 배경음이 멜로디를 담은 공주\\u202f공이 싱어리스트, 혹은 스릴러 스페이스 코미디가 궁금하신가요?  \\n- 혹은 **키워드**(예: 우정, 성장, 모험)를 알려주시면 그에 맞춘 **3편**을 한 눈에 정리해 드릴게요!  \\n\\n> **예시 요청**:  \\n> “어릴 때 보던 판타지 영화 같은 걸로 기억나요. 아마 **‘Ariana (아이리스/아이리차)**를 찾아야겠는데, 비슷한 스타일이요?          \\n\\n그럼, 한편이라도 눈에 들어오는 걸 물어봐 주세요! 더욱 자세한 비하인드 스토리와 트리오 일화까지 풀어드릴게요. 🎉\\nHuman: 내 이름이 뭐라고?\\nAI: I’m sorry—I don’t have that information. If you’d like, you can tell me your name!\"}"
            ]
          },
          "metadata": {},
          "execution_count": 20
        }
      ]
    },
    {
      "cell_type": "markdown",
      "source": [
        "# 반복문 안에서 질문답변 이어가기"
      ],
      "metadata": {
        "id": "5NUc6aYALiey"
      }
    },
    {
      "cell_type": "code",
      "source": [
        "# 요약 메모리 생성 (요약용 LLM 필요)\n",
        "memory = ConversationSummaryMemory(llm = llm1)\n",
        "\n",
        "# 체인 구성\n",
        "chain = ConversationChain(llm = llm1, memory = memory)"
      ],
      "metadata": {
        "id": "5aqvIiHrLaoD"
      },
      "execution_count": 21,
      "outputs": []
    },
    {
      "cell_type": "code",
      "source": [
        "while True:\n",
        "    query = input('질문 : ')\n",
        "    query = query.strip()\n",
        "    print('-' * 100)\n",
        "    if len(query) == 0:\n",
        "        break\n",
        "    result = chain.run(query)\n",
        "    print(f'답변 : {result}')\n",
        "    print('=' * 100)"
      ],
      "metadata": {
        "colab": {
          "base_uri": "https://localhost:8080/",
          "height": 893
        },
        "id": "vStFfarLLgeO",
        "outputId": "e6d94159-e4b4-474a-a0b4-f7f598326394"
      },
      "execution_count": 22,
      "outputs": [
        {
          "output_type": "stream",
          "name": "stdout",
          "text": [
            "질문 : 내가 좋아하는 색은 파란색이야\n",
            "----------------------------------------------------------------------------------------------------\n",
            "답변 : 아, 파란색! 정말 멋진 선택이네요. 파란색은 바다와 구름, 그리고 무한한 우주의 색이라서 사람들에게 평온함과 안정감을 주는 색이죠. 혹시 파란색을 좋아하시게 된 특별한 기억이 있나요? 예를 들어, 어릴 적 바닷가에서 뛰어다니던 기억, 혹은 파란 잎이 돋아나는 풍경을 보며 느꼈던 감정 같은 것들이요.\n",
            "\n",
            "### 파란색이 주는 심리적 효과\n",
            "- **평온과 차분함**: 파란색은 심장 박동을 조절해주고, 긴장을 완화해 주는 효과가 있습니다. 그래서 많은 기업이 로고에 파란색을 사용해 신뢰감을 주려 하죠.\n",
            "- **집중과 창의성**: 특히 어두운 파란색은 집중력을 높이고, 학습 효과를 증진시키는 데 도움을 준다고 연구 결과도 있습니다.\n",
            "- **우울감 완화**: 파란색 빛을 일정 시간 이상 보면 우울감이 완화되는 효과가 뇌에서 보통 냉각 신호를 보내는 방식과 연결된다고 해요.\n",
            "\n",
            "### 파란색의 다양함\n",
            "- **밝은 파랑 (Sky Blue):** 맑고 상쾌한 느낌, 젊음과 상쾌함이 묻어납니다.\n",
            "- **청록 (Teal):** 파랑과 초록의 중간 색조로, 낭만적이면서도 차분한 분위기를 줍니다.\n",
            "- **네이비 (Navy Blue):** 격식 있고 정제된 느낌, 비즈니스나 포멀한 자리에서 자주 쓰이는 색이에요.\n",
            "- **라벤더 블루 (Lavender Blue):** 부드러운 파란색에 약간의 분홍빛이 섞여 있어 달콤하고 꿈결 같은 분위기를 줍니다.\n",
            "\n",
            "### 파란색과 문화\n",
            "- **프랑스**에서는 파란색을 '로즈(rose)'라는 이름으로 부르며, 특히 'Rosa'처럼 그려넣는 경우 일본에서는 여성을 상징하기도 합니다.\n",
            "- **아메리카**에서는 어둡고 짙은 파란색이 남성성을 나타내는 색으로 인식되곤 합니다. 반면, 밝은 파랑은 가족과 유대감을 상징하기도 하죠.\n",
            "- **한국**에서는 학교 교복이나 공공기관 로고에 많이 쓰이는 색이죠. 몇몇 학교의 교복은 멋진 파란색 계열로 무려십년째 변함없이 사랑받고 있답니다.\n",
            "\n",
            "### 파란 색감으로 인한 토끼 비유\n",
            "파란색을 사랑하는 사람들은 흔히 '파란 토끼'라고 부르는데, 그 이유는 토끼가 달려 뛸 때마다 푸른 그림자처럼 물결을 일으키는 것처럼 상상을 하셨을 거에요. 파란 토끼는 언제나 차분하지만, 놀라운 에너지를 내포하고 있다는 뜻이기도 하지요.\n",
            "\n",
            "혹시 파란색을 좋아하는 이유나, 파란색이 포함된 물건에 대한 이야기를 더 듣고 싶으신가요? 예를 들어, 파란색이 들어간 옷, 심지어는 파란색 전구가 피토피런이 시작되는 순간까지, 언제든지 물어보세요! 😊\n",
            "====================================================================================================\n",
            "질문 : 나는 영화보는 것을 조항해\n",
            "----------------------------------------------------------------------------------------------------\n"
          ]
        },
        {
          "output_type": "error",
          "ename": "KeyboardInterrupt",
          "evalue": "",
          "traceback": [
            "\u001b[0;31m---------------------------------------------------------------------------\u001b[0m",
            "\u001b[0;31mKeyboardInterrupt\u001b[0m                         Traceback (most recent call last)",
            "\u001b[0;32m/tmp/ipython-input-258282806.py\u001b[0m in \u001b[0;36m<cell line: 0>\u001b[0;34m()\u001b[0m\n\u001b[1;32m      5\u001b[0m     \u001b[0;32mif\u001b[0m \u001b[0mlen\u001b[0m\u001b[0;34m(\u001b[0m\u001b[0mquery\u001b[0m\u001b[0;34m)\u001b[0m \u001b[0;34m==\u001b[0m \u001b[0;36m0\u001b[0m\u001b[0;34m:\u001b[0m\u001b[0;34m\u001b[0m\u001b[0;34m\u001b[0m\u001b[0m\n\u001b[1;32m      6\u001b[0m         \u001b[0;32mbreak\u001b[0m\u001b[0;34m\u001b[0m\u001b[0;34m\u001b[0m\u001b[0m\n\u001b[0;32m----> 7\u001b[0;31m     \u001b[0mresult\u001b[0m \u001b[0;34m=\u001b[0m \u001b[0mchain\u001b[0m\u001b[0;34m.\u001b[0m\u001b[0mrun\u001b[0m\u001b[0;34m(\u001b[0m\u001b[0mquery\u001b[0m\u001b[0;34m)\u001b[0m\u001b[0;34m\u001b[0m\u001b[0;34m\u001b[0m\u001b[0m\n\u001b[0m\u001b[1;32m      8\u001b[0m     \u001b[0mprint\u001b[0m\u001b[0;34m(\u001b[0m\u001b[0;34mf'답변 : {result}'\u001b[0m\u001b[0;34m)\u001b[0m\u001b[0;34m\u001b[0m\u001b[0;34m\u001b[0m\u001b[0m\n\u001b[1;32m      9\u001b[0m     \u001b[0mprint\u001b[0m\u001b[0;34m(\u001b[0m\u001b[0;34m'='\u001b[0m \u001b[0;34m*\u001b[0m \u001b[0;36m100\u001b[0m\u001b[0;34m)\u001b[0m\u001b[0;34m\u001b[0m\u001b[0;34m\u001b[0m\u001b[0m\n",
            "\u001b[0;32m/usr/local/lib/python3.12/dist-packages/langchain_core/_api/deprecation.py\u001b[0m in \u001b[0;36mwarning_emitting_wrapper\u001b[0;34m(*args, **kwargs)\u001b[0m\n\u001b[1;32m    191\u001b[0m                 \u001b[0mwarned\u001b[0m \u001b[0;34m=\u001b[0m \u001b[0;32mTrue\u001b[0m\u001b[0;34m\u001b[0m\u001b[0;34m\u001b[0m\u001b[0m\n\u001b[1;32m    192\u001b[0m                 \u001b[0memit_warning\u001b[0m\u001b[0;34m(\u001b[0m\u001b[0;34m)\u001b[0m\u001b[0;34m\u001b[0m\u001b[0;34m\u001b[0m\u001b[0m\n\u001b[0;32m--> 193\u001b[0;31m             \u001b[0;32mreturn\u001b[0m \u001b[0mwrapped\u001b[0m\u001b[0;34m(\u001b[0m\u001b[0;34m*\u001b[0m\u001b[0margs\u001b[0m\u001b[0;34m,\u001b[0m \u001b[0;34m**\u001b[0m\u001b[0mkwargs\u001b[0m\u001b[0;34m)\u001b[0m\u001b[0;34m\u001b[0m\u001b[0;34m\u001b[0m\u001b[0m\n\u001b[0m\u001b[1;32m    194\u001b[0m \u001b[0;34m\u001b[0m\u001b[0m\n\u001b[1;32m    195\u001b[0m         \u001b[0;32masync\u001b[0m \u001b[0;32mdef\u001b[0m \u001b[0mawarning_emitting_wrapper\u001b[0m\u001b[0;34m(\u001b[0m\u001b[0;34m*\u001b[0m\u001b[0margs\u001b[0m\u001b[0;34m:\u001b[0m \u001b[0mAny\u001b[0m\u001b[0;34m,\u001b[0m \u001b[0;34m**\u001b[0m\u001b[0mkwargs\u001b[0m\u001b[0;34m:\u001b[0m \u001b[0mAny\u001b[0m\u001b[0;34m)\u001b[0m \u001b[0;34m->\u001b[0m \u001b[0mAny\u001b[0m\u001b[0;34m:\u001b[0m\u001b[0;34m\u001b[0m\u001b[0;34m\u001b[0m\u001b[0m\n",
            "\u001b[0;32m/usr/local/lib/python3.12/dist-packages/langchain/chains/base.py\u001b[0m in \u001b[0;36mrun\u001b[0;34m(self, callbacks, tags, metadata, *args, **kwargs)\u001b[0m\n\u001b[1;32m    625\u001b[0m                 \u001b[0mmsg\u001b[0m \u001b[0;34m=\u001b[0m \u001b[0;34m\"`run` supports only one positional argument.\"\u001b[0m\u001b[0;34m\u001b[0m\u001b[0;34m\u001b[0m\u001b[0m\n\u001b[1;32m    626\u001b[0m                 \u001b[0;32mraise\u001b[0m \u001b[0mValueError\u001b[0m\u001b[0;34m(\u001b[0m\u001b[0mmsg\u001b[0m\u001b[0;34m)\u001b[0m\u001b[0;34m\u001b[0m\u001b[0;34m\u001b[0m\u001b[0m\n\u001b[0;32m--> 627\u001b[0;31m             return self(args[0], callbacks=callbacks, tags=tags, metadata=metadata)[\n\u001b[0m\u001b[1;32m    628\u001b[0m                 \u001b[0m_output_key\u001b[0m\u001b[0;34m\u001b[0m\u001b[0;34m\u001b[0m\u001b[0m\n\u001b[1;32m    629\u001b[0m             ]\n",
            "\u001b[0;32m/usr/local/lib/python3.12/dist-packages/langchain_core/_api/deprecation.py\u001b[0m in \u001b[0;36mwarning_emitting_wrapper\u001b[0;34m(*args, **kwargs)\u001b[0m\n\u001b[1;32m    191\u001b[0m                 \u001b[0mwarned\u001b[0m \u001b[0;34m=\u001b[0m \u001b[0;32mTrue\u001b[0m\u001b[0;34m\u001b[0m\u001b[0;34m\u001b[0m\u001b[0m\n\u001b[1;32m    192\u001b[0m                 \u001b[0memit_warning\u001b[0m\u001b[0;34m(\u001b[0m\u001b[0;34m)\u001b[0m\u001b[0;34m\u001b[0m\u001b[0;34m\u001b[0m\u001b[0m\n\u001b[0;32m--> 193\u001b[0;31m             \u001b[0;32mreturn\u001b[0m \u001b[0mwrapped\u001b[0m\u001b[0;34m(\u001b[0m\u001b[0;34m*\u001b[0m\u001b[0margs\u001b[0m\u001b[0;34m,\u001b[0m \u001b[0;34m**\u001b[0m\u001b[0mkwargs\u001b[0m\u001b[0;34m)\u001b[0m\u001b[0;34m\u001b[0m\u001b[0;34m\u001b[0m\u001b[0m\n\u001b[0m\u001b[1;32m    194\u001b[0m \u001b[0;34m\u001b[0m\u001b[0m\n\u001b[1;32m    195\u001b[0m         \u001b[0;32masync\u001b[0m \u001b[0;32mdef\u001b[0m \u001b[0mawarning_emitting_wrapper\u001b[0m\u001b[0;34m(\u001b[0m\u001b[0;34m*\u001b[0m\u001b[0margs\u001b[0m\u001b[0;34m:\u001b[0m \u001b[0mAny\u001b[0m\u001b[0;34m,\u001b[0m \u001b[0;34m**\u001b[0m\u001b[0mkwargs\u001b[0m\u001b[0;34m:\u001b[0m \u001b[0mAny\u001b[0m\u001b[0;34m)\u001b[0m \u001b[0;34m->\u001b[0m \u001b[0mAny\u001b[0m\u001b[0;34m:\u001b[0m\u001b[0;34m\u001b[0m\u001b[0;34m\u001b[0m\u001b[0m\n",
            "\u001b[0;32m/usr/local/lib/python3.12/dist-packages/langchain/chains/base.py\u001b[0m in \u001b[0;36m__call__\u001b[0;34m(self, inputs, return_only_outputs, callbacks, tags, metadata, run_name, include_run_info)\u001b[0m\n\u001b[1;32m    408\u001b[0m         }\n\u001b[1;32m    409\u001b[0m \u001b[0;34m\u001b[0m\u001b[0m\n\u001b[0;32m--> 410\u001b[0;31m         return self.invoke(\n\u001b[0m\u001b[1;32m    411\u001b[0m             \u001b[0minputs\u001b[0m\u001b[0;34m,\u001b[0m\u001b[0;34m\u001b[0m\u001b[0;34m\u001b[0m\u001b[0m\n\u001b[1;32m    412\u001b[0m             \u001b[0mcast\u001b[0m\u001b[0;34m(\u001b[0m\u001b[0mRunnableConfig\u001b[0m\u001b[0;34m,\u001b[0m \u001b[0;34m{\u001b[0m\u001b[0mk\u001b[0m\u001b[0;34m:\u001b[0m \u001b[0mv\u001b[0m \u001b[0;32mfor\u001b[0m \u001b[0mk\u001b[0m\u001b[0;34m,\u001b[0m \u001b[0mv\u001b[0m \u001b[0;32min\u001b[0m \u001b[0mconfig\u001b[0m\u001b[0;34m.\u001b[0m\u001b[0mitems\u001b[0m\u001b[0;34m(\u001b[0m\u001b[0;34m)\u001b[0m \u001b[0;32mif\u001b[0m \u001b[0mv\u001b[0m \u001b[0;32mis\u001b[0m \u001b[0;32mnot\u001b[0m \u001b[0;32mNone\u001b[0m\u001b[0;34m}\u001b[0m\u001b[0;34m)\u001b[0m\u001b[0;34m,\u001b[0m\u001b[0;34m\u001b[0m\u001b[0;34m\u001b[0m\u001b[0m\n",
            "\u001b[0;32m/usr/local/lib/python3.12/dist-packages/langchain/chains/base.py\u001b[0m in \u001b[0;36minvoke\u001b[0;34m(self, input, config, **kwargs)\u001b[0m\n\u001b[1;32m    163\u001b[0m             \u001b[0mself\u001b[0m\u001b[0;34m.\u001b[0m\u001b[0m_validate_inputs\u001b[0m\u001b[0;34m(\u001b[0m\u001b[0minputs\u001b[0m\u001b[0;34m)\u001b[0m\u001b[0;34m\u001b[0m\u001b[0;34m\u001b[0m\u001b[0m\n\u001b[1;32m    164\u001b[0m             outputs = (\n\u001b[0;32m--> 165\u001b[0;31m                 \u001b[0mself\u001b[0m\u001b[0;34m.\u001b[0m\u001b[0m_call\u001b[0m\u001b[0;34m(\u001b[0m\u001b[0minputs\u001b[0m\u001b[0;34m,\u001b[0m \u001b[0mrun_manager\u001b[0m\u001b[0;34m=\u001b[0m\u001b[0mrun_manager\u001b[0m\u001b[0;34m)\u001b[0m\u001b[0;34m\u001b[0m\u001b[0;34m\u001b[0m\u001b[0m\n\u001b[0m\u001b[1;32m    166\u001b[0m                 \u001b[0;32mif\u001b[0m \u001b[0mnew_arg_supported\u001b[0m\u001b[0;34m\u001b[0m\u001b[0;34m\u001b[0m\u001b[0m\n\u001b[1;32m    167\u001b[0m                 \u001b[0;32melse\u001b[0m \u001b[0mself\u001b[0m\u001b[0;34m.\u001b[0m\u001b[0m_call\u001b[0m\u001b[0;34m(\u001b[0m\u001b[0minputs\u001b[0m\u001b[0;34m)\u001b[0m\u001b[0;34m\u001b[0m\u001b[0;34m\u001b[0m\u001b[0m\n",
            "\u001b[0;32m/usr/local/lib/python3.12/dist-packages/langchain/chains/llm.py\u001b[0m in \u001b[0;36m_call\u001b[0;34m(self, inputs, run_manager)\u001b[0m\n\u001b[1;32m    125\u001b[0m         \u001b[0mrun_manager\u001b[0m\u001b[0;34m:\u001b[0m \u001b[0mOptional\u001b[0m\u001b[0;34m[\u001b[0m\u001b[0mCallbackManagerForChainRun\u001b[0m\u001b[0;34m]\u001b[0m \u001b[0;34m=\u001b[0m \u001b[0;32mNone\u001b[0m\u001b[0;34m,\u001b[0m\u001b[0;34m\u001b[0m\u001b[0;34m\u001b[0m\u001b[0m\n\u001b[1;32m    126\u001b[0m     ) -> dict[str, str]:\n\u001b[0;32m--> 127\u001b[0;31m         \u001b[0mresponse\u001b[0m \u001b[0;34m=\u001b[0m \u001b[0mself\u001b[0m\u001b[0;34m.\u001b[0m\u001b[0mgenerate\u001b[0m\u001b[0;34m(\u001b[0m\u001b[0;34m[\u001b[0m\u001b[0minputs\u001b[0m\u001b[0;34m]\u001b[0m\u001b[0;34m,\u001b[0m \u001b[0mrun_manager\u001b[0m\u001b[0;34m=\u001b[0m\u001b[0mrun_manager\u001b[0m\u001b[0;34m)\u001b[0m\u001b[0;34m\u001b[0m\u001b[0;34m\u001b[0m\u001b[0m\n\u001b[0m\u001b[1;32m    128\u001b[0m         \u001b[0;32mreturn\u001b[0m \u001b[0mself\u001b[0m\u001b[0;34m.\u001b[0m\u001b[0mcreate_outputs\u001b[0m\u001b[0;34m(\u001b[0m\u001b[0mresponse\u001b[0m\u001b[0;34m)\u001b[0m\u001b[0;34m[\u001b[0m\u001b[0;36m0\u001b[0m\u001b[0;34m]\u001b[0m\u001b[0;34m\u001b[0m\u001b[0;34m\u001b[0m\u001b[0m\n\u001b[1;32m    129\u001b[0m \u001b[0;34m\u001b[0m\u001b[0m\n",
            "\u001b[0;32m/usr/local/lib/python3.12/dist-packages/langchain/chains/llm.py\u001b[0m in \u001b[0;36mgenerate\u001b[0;34m(self, input_list, run_manager)\u001b[0m\n\u001b[1;32m    137\u001b[0m         \u001b[0mcallbacks\u001b[0m \u001b[0;34m=\u001b[0m \u001b[0mrun_manager\u001b[0m\u001b[0;34m.\u001b[0m\u001b[0mget_child\u001b[0m\u001b[0;34m(\u001b[0m\u001b[0;34m)\u001b[0m \u001b[0;32mif\u001b[0m \u001b[0mrun_manager\u001b[0m \u001b[0;32melse\u001b[0m \u001b[0;32mNone\u001b[0m\u001b[0;34m\u001b[0m\u001b[0;34m\u001b[0m\u001b[0m\n\u001b[1;32m    138\u001b[0m         \u001b[0;32mif\u001b[0m \u001b[0misinstance\u001b[0m\u001b[0;34m(\u001b[0m\u001b[0mself\u001b[0m\u001b[0;34m.\u001b[0m\u001b[0mllm\u001b[0m\u001b[0;34m,\u001b[0m \u001b[0mBaseLanguageModel\u001b[0m\u001b[0;34m)\u001b[0m\u001b[0;34m:\u001b[0m\u001b[0;34m\u001b[0m\u001b[0;34m\u001b[0m\u001b[0m\n\u001b[0;32m--> 139\u001b[0;31m             return self.llm.generate_prompt(\n\u001b[0m\u001b[1;32m    140\u001b[0m                 \u001b[0mprompts\u001b[0m\u001b[0;34m,\u001b[0m\u001b[0;34m\u001b[0m\u001b[0;34m\u001b[0m\u001b[0m\n\u001b[1;32m    141\u001b[0m                 \u001b[0mstop\u001b[0m\u001b[0;34m,\u001b[0m\u001b[0;34m\u001b[0m\u001b[0;34m\u001b[0m\u001b[0m\n",
            "\u001b[0;32m/usr/local/lib/python3.12/dist-packages/langchain_core/language_models/chat_models.py\u001b[0m in \u001b[0;36mgenerate_prompt\u001b[0;34m(self, prompts, stop, callbacks, **kwargs)\u001b[0m\n\u001b[1;32m   1021\u001b[0m     ) -> LLMResult:\n\u001b[1;32m   1022\u001b[0m         \u001b[0mprompt_messages\u001b[0m \u001b[0;34m=\u001b[0m \u001b[0;34m[\u001b[0m\u001b[0mp\u001b[0m\u001b[0;34m.\u001b[0m\u001b[0mto_messages\u001b[0m\u001b[0;34m(\u001b[0m\u001b[0;34m)\u001b[0m \u001b[0;32mfor\u001b[0m \u001b[0mp\u001b[0m \u001b[0;32min\u001b[0m \u001b[0mprompts\u001b[0m\u001b[0;34m]\u001b[0m\u001b[0;34m\u001b[0m\u001b[0;34m\u001b[0m\u001b[0m\n\u001b[0;32m-> 1023\u001b[0;31m         \u001b[0;32mreturn\u001b[0m \u001b[0mself\u001b[0m\u001b[0;34m.\u001b[0m\u001b[0mgenerate\u001b[0m\u001b[0;34m(\u001b[0m\u001b[0mprompt_messages\u001b[0m\u001b[0;34m,\u001b[0m \u001b[0mstop\u001b[0m\u001b[0;34m=\u001b[0m\u001b[0mstop\u001b[0m\u001b[0;34m,\u001b[0m \u001b[0mcallbacks\u001b[0m\u001b[0;34m=\u001b[0m\u001b[0mcallbacks\u001b[0m\u001b[0;34m,\u001b[0m \u001b[0;34m**\u001b[0m\u001b[0mkwargs\u001b[0m\u001b[0;34m)\u001b[0m\u001b[0;34m\u001b[0m\u001b[0;34m\u001b[0m\u001b[0m\n\u001b[0m\u001b[1;32m   1024\u001b[0m \u001b[0;34m\u001b[0m\u001b[0m\n\u001b[1;32m   1025\u001b[0m     \u001b[0;34m@\u001b[0m\u001b[0moverride\u001b[0m\u001b[0;34m\u001b[0m\u001b[0;34m\u001b[0m\u001b[0m\n",
            "\u001b[0;32m/usr/local/lib/python3.12/dist-packages/langchain_core/language_models/chat_models.py\u001b[0m in \u001b[0;36mgenerate\u001b[0;34m(self, messages, stop, callbacks, tags, metadata, run_name, run_id, **kwargs)\u001b[0m\n\u001b[1;32m    838\u001b[0m             \u001b[0;32mtry\u001b[0m\u001b[0;34m:\u001b[0m\u001b[0;34m\u001b[0m\u001b[0;34m\u001b[0m\u001b[0m\n\u001b[1;32m    839\u001b[0m                 results.append(\n\u001b[0;32m--> 840\u001b[0;31m                     self._generate_with_cache(\n\u001b[0m\u001b[1;32m    841\u001b[0m                         \u001b[0mm\u001b[0m\u001b[0;34m,\u001b[0m\u001b[0;34m\u001b[0m\u001b[0;34m\u001b[0m\u001b[0m\n\u001b[1;32m    842\u001b[0m                         \u001b[0mstop\u001b[0m\u001b[0;34m=\u001b[0m\u001b[0mstop\u001b[0m\u001b[0;34m,\u001b[0m\u001b[0;34m\u001b[0m\u001b[0;34m\u001b[0m\u001b[0m\n",
            "\u001b[0;32m/usr/local/lib/python3.12/dist-packages/langchain_core/language_models/chat_models.py\u001b[0m in \u001b[0;36m_generate_with_cache\u001b[0;34m(self, messages, stop, run_manager, **kwargs)\u001b[0m\n\u001b[1;32m   1087\u001b[0m             \u001b[0mresult\u001b[0m \u001b[0;34m=\u001b[0m \u001b[0mgenerate_from_stream\u001b[0m\u001b[0;34m(\u001b[0m\u001b[0miter\u001b[0m\u001b[0;34m(\u001b[0m\u001b[0mchunks\u001b[0m\u001b[0;34m)\u001b[0m\u001b[0;34m)\u001b[0m\u001b[0;34m\u001b[0m\u001b[0;34m\u001b[0m\u001b[0m\n\u001b[1;32m   1088\u001b[0m         \u001b[0;32melif\u001b[0m \u001b[0minspect\u001b[0m\u001b[0;34m.\u001b[0m\u001b[0msignature\u001b[0m\u001b[0;34m(\u001b[0m\u001b[0mself\u001b[0m\u001b[0;34m.\u001b[0m\u001b[0m_generate\u001b[0m\u001b[0;34m)\u001b[0m\u001b[0;34m.\u001b[0m\u001b[0mparameters\u001b[0m\u001b[0;34m.\u001b[0m\u001b[0mget\u001b[0m\u001b[0;34m(\u001b[0m\u001b[0;34m\"run_manager\"\u001b[0m\u001b[0;34m)\u001b[0m\u001b[0;34m:\u001b[0m\u001b[0;34m\u001b[0m\u001b[0;34m\u001b[0m\u001b[0m\n\u001b[0;32m-> 1089\u001b[0;31m             result = self._generate(\n\u001b[0m\u001b[1;32m   1090\u001b[0m                 \u001b[0mmessages\u001b[0m\u001b[0;34m,\u001b[0m \u001b[0mstop\u001b[0m\u001b[0;34m=\u001b[0m\u001b[0mstop\u001b[0m\u001b[0;34m,\u001b[0m \u001b[0mrun_manager\u001b[0m\u001b[0;34m=\u001b[0m\u001b[0mrun_manager\u001b[0m\u001b[0;34m,\u001b[0m \u001b[0;34m**\u001b[0m\u001b[0mkwargs\u001b[0m\u001b[0;34m\u001b[0m\u001b[0;34m\u001b[0m\u001b[0m\n\u001b[1;32m   1091\u001b[0m             )\n",
            "\u001b[0;32m/usr/local/lib/python3.12/dist-packages/langchain_huggingface/chat_models/huggingface.py\u001b[0m in \u001b[0;36m_generate\u001b[0;34m(self, messages, stop, run_manager, stream, **kwargs)\u001b[0m\n\u001b[1;32m    575\u001b[0m                 \u001b[0;34m**\u001b[0m\u001b[0mkwargs\u001b[0m\u001b[0;34m,\u001b[0m\u001b[0;34m\u001b[0m\u001b[0;34m\u001b[0m\u001b[0m\n\u001b[1;32m    576\u001b[0m             }\n\u001b[0;32m--> 577\u001b[0;31m             \u001b[0manswer\u001b[0m \u001b[0;34m=\u001b[0m \u001b[0mself\u001b[0m\u001b[0;34m.\u001b[0m\u001b[0mllm\u001b[0m\u001b[0;34m.\u001b[0m\u001b[0mclient\u001b[0m\u001b[0;34m.\u001b[0m\u001b[0mchat_completion\u001b[0m\u001b[0;34m(\u001b[0m\u001b[0mmessages\u001b[0m\u001b[0;34m=\u001b[0m\u001b[0mmessage_dicts\u001b[0m\u001b[0;34m,\u001b[0m \u001b[0;34m**\u001b[0m\u001b[0mparams\u001b[0m\u001b[0;34m)\u001b[0m\u001b[0;34m\u001b[0m\u001b[0;34m\u001b[0m\u001b[0m\n\u001b[0m\u001b[1;32m    578\u001b[0m             \u001b[0;32mreturn\u001b[0m \u001b[0mself\u001b[0m\u001b[0;34m.\u001b[0m\u001b[0m_create_chat_result\u001b[0m\u001b[0;34m(\u001b[0m\u001b[0manswer\u001b[0m\u001b[0;34m)\u001b[0m\u001b[0;34m\u001b[0m\u001b[0;34m\u001b[0m\u001b[0m\n\u001b[1;32m    579\u001b[0m         \u001b[0mllm_input\u001b[0m \u001b[0;34m=\u001b[0m \u001b[0mself\u001b[0m\u001b[0;34m.\u001b[0m\u001b[0m_to_chat_prompt\u001b[0m\u001b[0;34m(\u001b[0m\u001b[0mmessages\u001b[0m\u001b[0;34m)\u001b[0m\u001b[0;34m\u001b[0m\u001b[0;34m\u001b[0m\u001b[0m\n",
            "\u001b[0;32m/usr/local/lib/python3.12/dist-packages/huggingface_hub/inference/_client.py\u001b[0m in \u001b[0;36mchat_completion\u001b[0;34m(self, messages, model, stream, frequency_penalty, logit_bias, logprobs, max_tokens, n, presence_penalty, response_format, seed, stop, stream_options, temperature, tool_choice, tool_prompt, tools, top_logprobs, top_p, extra_body)\u001b[0m\n\u001b[1;32m    917\u001b[0m             \u001b[0mapi_key\u001b[0m\u001b[0;34m=\u001b[0m\u001b[0mself\u001b[0m\u001b[0;34m.\u001b[0m\u001b[0mtoken\u001b[0m\u001b[0;34m,\u001b[0m\u001b[0;34m\u001b[0m\u001b[0;34m\u001b[0m\u001b[0m\n\u001b[1;32m    918\u001b[0m         )\n\u001b[0;32m--> 919\u001b[0;31m         \u001b[0mdata\u001b[0m \u001b[0;34m=\u001b[0m \u001b[0mself\u001b[0m\u001b[0;34m.\u001b[0m\u001b[0m_inner_post\u001b[0m\u001b[0;34m(\u001b[0m\u001b[0mrequest_parameters\u001b[0m\u001b[0;34m,\u001b[0m \u001b[0mstream\u001b[0m\u001b[0;34m=\u001b[0m\u001b[0mstream\u001b[0m\u001b[0;34m)\u001b[0m\u001b[0;34m\u001b[0m\u001b[0;34m\u001b[0m\u001b[0m\n\u001b[0m\u001b[1;32m    920\u001b[0m \u001b[0;34m\u001b[0m\u001b[0m\n\u001b[1;32m    921\u001b[0m         \u001b[0;32mif\u001b[0m \u001b[0mstream\u001b[0m\u001b[0;34m:\u001b[0m\u001b[0;34m\u001b[0m\u001b[0;34m\u001b[0m\u001b[0m\n",
            "\u001b[0;32m/usr/local/lib/python3.12/dist-packages/huggingface_hub/inference/_client.py\u001b[0m in \u001b[0;36m_inner_post\u001b[0;34m(self, request_parameters, stream)\u001b[0m\n\u001b[1;32m    258\u001b[0m \u001b[0;34m\u001b[0m\u001b[0m\n\u001b[1;32m    259\u001b[0m         \u001b[0;32mtry\u001b[0m\u001b[0;34m:\u001b[0m\u001b[0;34m\u001b[0m\u001b[0;34m\u001b[0m\u001b[0m\n\u001b[0;32m--> 260\u001b[0;31m             response = get_session().post(\n\u001b[0m\u001b[1;32m    261\u001b[0m                 \u001b[0mrequest_parameters\u001b[0m\u001b[0;34m.\u001b[0m\u001b[0murl\u001b[0m\u001b[0;34m,\u001b[0m\u001b[0;34m\u001b[0m\u001b[0;34m\u001b[0m\u001b[0m\n\u001b[1;32m    262\u001b[0m                 \u001b[0mjson\u001b[0m\u001b[0;34m=\u001b[0m\u001b[0mrequest_parameters\u001b[0m\u001b[0;34m.\u001b[0m\u001b[0mjson\u001b[0m\u001b[0;34m,\u001b[0m\u001b[0;34m\u001b[0m\u001b[0;34m\u001b[0m\u001b[0m\n",
            "\u001b[0;32m/usr/local/lib/python3.12/dist-packages/requests/sessions.py\u001b[0m in \u001b[0;36mpost\u001b[0;34m(self, url, data, json, **kwargs)\u001b[0m\n\u001b[1;32m    635\u001b[0m         \"\"\"\n\u001b[1;32m    636\u001b[0m \u001b[0;34m\u001b[0m\u001b[0m\n\u001b[0;32m--> 637\u001b[0;31m         \u001b[0;32mreturn\u001b[0m \u001b[0mself\u001b[0m\u001b[0;34m.\u001b[0m\u001b[0mrequest\u001b[0m\u001b[0;34m(\u001b[0m\u001b[0;34m\"POST\"\u001b[0m\u001b[0;34m,\u001b[0m \u001b[0murl\u001b[0m\u001b[0;34m,\u001b[0m \u001b[0mdata\u001b[0m\u001b[0;34m=\u001b[0m\u001b[0mdata\u001b[0m\u001b[0;34m,\u001b[0m \u001b[0mjson\u001b[0m\u001b[0;34m=\u001b[0m\u001b[0mjson\u001b[0m\u001b[0;34m,\u001b[0m \u001b[0;34m**\u001b[0m\u001b[0mkwargs\u001b[0m\u001b[0;34m)\u001b[0m\u001b[0;34m\u001b[0m\u001b[0;34m\u001b[0m\u001b[0m\n\u001b[0m\u001b[1;32m    638\u001b[0m \u001b[0;34m\u001b[0m\u001b[0m\n\u001b[1;32m    639\u001b[0m     \u001b[0;32mdef\u001b[0m \u001b[0mput\u001b[0m\u001b[0;34m(\u001b[0m\u001b[0mself\u001b[0m\u001b[0;34m,\u001b[0m \u001b[0murl\u001b[0m\u001b[0;34m,\u001b[0m \u001b[0mdata\u001b[0m\u001b[0;34m=\u001b[0m\u001b[0;32mNone\u001b[0m\u001b[0;34m,\u001b[0m \u001b[0;34m**\u001b[0m\u001b[0mkwargs\u001b[0m\u001b[0;34m)\u001b[0m\u001b[0;34m:\u001b[0m\u001b[0;34m\u001b[0m\u001b[0;34m\u001b[0m\u001b[0m\n",
            "\u001b[0;32m/usr/local/lib/python3.12/dist-packages/requests/sessions.py\u001b[0m in \u001b[0;36mrequest\u001b[0;34m(self, method, url, params, data, headers, cookies, files, auth, timeout, allow_redirects, proxies, hooks, stream, verify, cert, json)\u001b[0m\n\u001b[1;32m    587\u001b[0m         }\n\u001b[1;32m    588\u001b[0m         \u001b[0msend_kwargs\u001b[0m\u001b[0;34m.\u001b[0m\u001b[0mupdate\u001b[0m\u001b[0;34m(\u001b[0m\u001b[0msettings\u001b[0m\u001b[0;34m)\u001b[0m\u001b[0;34m\u001b[0m\u001b[0;34m\u001b[0m\u001b[0m\n\u001b[0;32m--> 589\u001b[0;31m         \u001b[0mresp\u001b[0m \u001b[0;34m=\u001b[0m \u001b[0mself\u001b[0m\u001b[0;34m.\u001b[0m\u001b[0msend\u001b[0m\u001b[0;34m(\u001b[0m\u001b[0mprep\u001b[0m\u001b[0;34m,\u001b[0m \u001b[0;34m**\u001b[0m\u001b[0msend_kwargs\u001b[0m\u001b[0;34m)\u001b[0m\u001b[0;34m\u001b[0m\u001b[0;34m\u001b[0m\u001b[0m\n\u001b[0m\u001b[1;32m    590\u001b[0m \u001b[0;34m\u001b[0m\u001b[0m\n\u001b[1;32m    591\u001b[0m         \u001b[0;32mreturn\u001b[0m \u001b[0mresp\u001b[0m\u001b[0;34m\u001b[0m\u001b[0;34m\u001b[0m\u001b[0m\n",
            "\u001b[0;32m/usr/local/lib/python3.12/dist-packages/requests/sessions.py\u001b[0m in \u001b[0;36msend\u001b[0;34m(self, request, **kwargs)\u001b[0m\n\u001b[1;32m    701\u001b[0m \u001b[0;34m\u001b[0m\u001b[0m\n\u001b[1;32m    702\u001b[0m         \u001b[0;31m# Send the request\u001b[0m\u001b[0;34m\u001b[0m\u001b[0;34m\u001b[0m\u001b[0m\n\u001b[0;32m--> 703\u001b[0;31m         \u001b[0mr\u001b[0m \u001b[0;34m=\u001b[0m \u001b[0madapter\u001b[0m\u001b[0;34m.\u001b[0m\u001b[0msend\u001b[0m\u001b[0;34m(\u001b[0m\u001b[0mrequest\u001b[0m\u001b[0;34m,\u001b[0m \u001b[0;34m**\u001b[0m\u001b[0mkwargs\u001b[0m\u001b[0;34m)\u001b[0m\u001b[0;34m\u001b[0m\u001b[0;34m\u001b[0m\u001b[0m\n\u001b[0m\u001b[1;32m    704\u001b[0m \u001b[0;34m\u001b[0m\u001b[0m\n\u001b[1;32m    705\u001b[0m         \u001b[0;31m# Total elapsed time of the request (approximately)\u001b[0m\u001b[0;34m\u001b[0m\u001b[0;34m\u001b[0m\u001b[0m\n",
            "\u001b[0;32m/usr/local/lib/python3.12/dist-packages/huggingface_hub/utils/_http.py\u001b[0m in \u001b[0;36msend\u001b[0;34m(self, request, *args, **kwargs)\u001b[0m\n\u001b[1;32m     94\u001b[0m             \u001b[0mlogger\u001b[0m\u001b[0;34m.\u001b[0m\u001b[0mdebug\u001b[0m\u001b[0;34m(\u001b[0m\u001b[0;34mf\"Send: {_curlify(request)}\"\u001b[0m\u001b[0;34m)\u001b[0m\u001b[0;34m\u001b[0m\u001b[0;34m\u001b[0m\u001b[0m\n\u001b[1;32m     95\u001b[0m         \u001b[0;32mtry\u001b[0m\u001b[0;34m:\u001b[0m\u001b[0;34m\u001b[0m\u001b[0;34m\u001b[0m\u001b[0m\n\u001b[0;32m---> 96\u001b[0;31m             \u001b[0;32mreturn\u001b[0m \u001b[0msuper\u001b[0m\u001b[0;34m(\u001b[0m\u001b[0;34m)\u001b[0m\u001b[0;34m.\u001b[0m\u001b[0msend\u001b[0m\u001b[0;34m(\u001b[0m\u001b[0mrequest\u001b[0m\u001b[0;34m,\u001b[0m \u001b[0;34m*\u001b[0m\u001b[0margs\u001b[0m\u001b[0;34m,\u001b[0m \u001b[0;34m**\u001b[0m\u001b[0mkwargs\u001b[0m\u001b[0;34m)\u001b[0m\u001b[0;34m\u001b[0m\u001b[0;34m\u001b[0m\u001b[0m\n\u001b[0m\u001b[1;32m     97\u001b[0m         \u001b[0;32mexcept\u001b[0m \u001b[0mrequests\u001b[0m\u001b[0;34m.\u001b[0m\u001b[0mRequestException\u001b[0m \u001b[0;32mas\u001b[0m \u001b[0me\u001b[0m\u001b[0;34m:\u001b[0m\u001b[0;34m\u001b[0m\u001b[0;34m\u001b[0m\u001b[0m\n\u001b[1;32m     98\u001b[0m             \u001b[0mrequest_id\u001b[0m \u001b[0;34m=\u001b[0m \u001b[0mrequest\u001b[0m\u001b[0;34m.\u001b[0m\u001b[0mheaders\u001b[0m\u001b[0;34m.\u001b[0m\u001b[0mget\u001b[0m\u001b[0;34m(\u001b[0m\u001b[0mX_AMZN_TRACE_ID\u001b[0m\u001b[0;34m)\u001b[0m\u001b[0;34m\u001b[0m\u001b[0;34m\u001b[0m\u001b[0m\n",
            "\u001b[0;32m/usr/local/lib/python3.12/dist-packages/requests/adapters.py\u001b[0m in \u001b[0;36msend\u001b[0;34m(self, request, stream, timeout, verify, cert, proxies)\u001b[0m\n\u001b[1;32m    642\u001b[0m \u001b[0;34m\u001b[0m\u001b[0m\n\u001b[1;32m    643\u001b[0m         \u001b[0;32mtry\u001b[0m\u001b[0;34m:\u001b[0m\u001b[0;34m\u001b[0m\u001b[0;34m\u001b[0m\u001b[0m\n\u001b[0;32m--> 644\u001b[0;31m             resp = conn.urlopen(\n\u001b[0m\u001b[1;32m    645\u001b[0m                 \u001b[0mmethod\u001b[0m\u001b[0;34m=\u001b[0m\u001b[0mrequest\u001b[0m\u001b[0;34m.\u001b[0m\u001b[0mmethod\u001b[0m\u001b[0;34m,\u001b[0m\u001b[0;34m\u001b[0m\u001b[0;34m\u001b[0m\u001b[0m\n\u001b[1;32m    646\u001b[0m                 \u001b[0murl\u001b[0m\u001b[0;34m=\u001b[0m\u001b[0murl\u001b[0m\u001b[0;34m,\u001b[0m\u001b[0;34m\u001b[0m\u001b[0;34m\u001b[0m\u001b[0m\n",
            "\u001b[0;32m/usr/local/lib/python3.12/dist-packages/urllib3/connectionpool.py\u001b[0m in \u001b[0;36murlopen\u001b[0;34m(self, method, url, body, headers, retries, redirect, assert_same_host, timeout, pool_timeout, release_conn, chunked, body_pos, preload_content, decode_content, **response_kw)\u001b[0m\n\u001b[1;32m    785\u001b[0m \u001b[0;34m\u001b[0m\u001b[0m\n\u001b[1;32m    786\u001b[0m             \u001b[0;31m# Make the request on the HTTPConnection object\u001b[0m\u001b[0;34m\u001b[0m\u001b[0;34m\u001b[0m\u001b[0m\n\u001b[0;32m--> 787\u001b[0;31m             response = self._make_request(\n\u001b[0m\u001b[1;32m    788\u001b[0m                 \u001b[0mconn\u001b[0m\u001b[0;34m,\u001b[0m\u001b[0;34m\u001b[0m\u001b[0;34m\u001b[0m\u001b[0m\n\u001b[1;32m    789\u001b[0m                 \u001b[0mmethod\u001b[0m\u001b[0;34m,\u001b[0m\u001b[0;34m\u001b[0m\u001b[0;34m\u001b[0m\u001b[0m\n",
            "\u001b[0;32m/usr/local/lib/python3.12/dist-packages/urllib3/connectionpool.py\u001b[0m in \u001b[0;36m_make_request\u001b[0;34m(self, conn, method, url, body, headers, retries, timeout, chunked, response_conn, preload_content, decode_content, enforce_content_length)\u001b[0m\n\u001b[1;32m    532\u001b[0m         \u001b[0;31m# Receive the response from the server\u001b[0m\u001b[0;34m\u001b[0m\u001b[0;34m\u001b[0m\u001b[0m\n\u001b[1;32m    533\u001b[0m         \u001b[0;32mtry\u001b[0m\u001b[0;34m:\u001b[0m\u001b[0;34m\u001b[0m\u001b[0;34m\u001b[0m\u001b[0m\n\u001b[0;32m--> 534\u001b[0;31m             \u001b[0mresponse\u001b[0m \u001b[0;34m=\u001b[0m \u001b[0mconn\u001b[0m\u001b[0;34m.\u001b[0m\u001b[0mgetresponse\u001b[0m\u001b[0;34m(\u001b[0m\u001b[0;34m)\u001b[0m\u001b[0;34m\u001b[0m\u001b[0;34m\u001b[0m\u001b[0m\n\u001b[0m\u001b[1;32m    535\u001b[0m         \u001b[0;32mexcept\u001b[0m \u001b[0;34m(\u001b[0m\u001b[0mBaseSSLError\u001b[0m\u001b[0;34m,\u001b[0m \u001b[0mOSError\u001b[0m\u001b[0;34m)\u001b[0m \u001b[0;32mas\u001b[0m \u001b[0me\u001b[0m\u001b[0;34m:\u001b[0m\u001b[0;34m\u001b[0m\u001b[0;34m\u001b[0m\u001b[0m\n\u001b[1;32m    536\u001b[0m             \u001b[0mself\u001b[0m\u001b[0;34m.\u001b[0m\u001b[0m_raise_timeout\u001b[0m\u001b[0;34m(\u001b[0m\u001b[0merr\u001b[0m\u001b[0;34m=\u001b[0m\u001b[0me\u001b[0m\u001b[0;34m,\u001b[0m \u001b[0murl\u001b[0m\u001b[0;34m=\u001b[0m\u001b[0murl\u001b[0m\u001b[0;34m,\u001b[0m \u001b[0mtimeout_value\u001b[0m\u001b[0;34m=\u001b[0m\u001b[0mread_timeout\u001b[0m\u001b[0;34m)\u001b[0m\u001b[0;34m\u001b[0m\u001b[0;34m\u001b[0m\u001b[0m\n",
            "\u001b[0;32m/usr/local/lib/python3.12/dist-packages/urllib3/connection.py\u001b[0m in \u001b[0;36mgetresponse\u001b[0;34m(self)\u001b[0m\n\u001b[1;32m    563\u001b[0m \u001b[0;34m\u001b[0m\u001b[0m\n\u001b[1;32m    564\u001b[0m         \u001b[0;31m# Get the response from http.client.HTTPConnection\u001b[0m\u001b[0;34m\u001b[0m\u001b[0;34m\u001b[0m\u001b[0m\n\u001b[0;32m--> 565\u001b[0;31m         \u001b[0mhttplib_response\u001b[0m \u001b[0;34m=\u001b[0m \u001b[0msuper\u001b[0m\u001b[0;34m(\u001b[0m\u001b[0;34m)\u001b[0m\u001b[0;34m.\u001b[0m\u001b[0mgetresponse\u001b[0m\u001b[0;34m(\u001b[0m\u001b[0;34m)\u001b[0m\u001b[0;34m\u001b[0m\u001b[0;34m\u001b[0m\u001b[0m\n\u001b[0m\u001b[1;32m    566\u001b[0m \u001b[0;34m\u001b[0m\u001b[0m\n\u001b[1;32m    567\u001b[0m         \u001b[0;32mtry\u001b[0m\u001b[0;34m:\u001b[0m\u001b[0;34m\u001b[0m\u001b[0;34m\u001b[0m\u001b[0m\n",
            "\u001b[0;32m/usr/lib/python3.12/http/client.py\u001b[0m in \u001b[0;36mgetresponse\u001b[0;34m(self)\u001b[0m\n\u001b[1;32m   1428\u001b[0m         \u001b[0;32mtry\u001b[0m\u001b[0;34m:\u001b[0m\u001b[0;34m\u001b[0m\u001b[0;34m\u001b[0m\u001b[0m\n\u001b[1;32m   1429\u001b[0m             \u001b[0;32mtry\u001b[0m\u001b[0;34m:\u001b[0m\u001b[0;34m\u001b[0m\u001b[0;34m\u001b[0m\u001b[0m\n\u001b[0;32m-> 1430\u001b[0;31m                 \u001b[0mresponse\u001b[0m\u001b[0;34m.\u001b[0m\u001b[0mbegin\u001b[0m\u001b[0;34m(\u001b[0m\u001b[0;34m)\u001b[0m\u001b[0;34m\u001b[0m\u001b[0;34m\u001b[0m\u001b[0m\n\u001b[0m\u001b[1;32m   1431\u001b[0m             \u001b[0;32mexcept\u001b[0m \u001b[0mConnectionError\u001b[0m\u001b[0;34m:\u001b[0m\u001b[0;34m\u001b[0m\u001b[0;34m\u001b[0m\u001b[0m\n\u001b[1;32m   1432\u001b[0m                 \u001b[0mself\u001b[0m\u001b[0;34m.\u001b[0m\u001b[0mclose\u001b[0m\u001b[0;34m(\u001b[0m\u001b[0;34m)\u001b[0m\u001b[0;34m\u001b[0m\u001b[0;34m\u001b[0m\u001b[0m\n",
            "\u001b[0;32m/usr/lib/python3.12/http/client.py\u001b[0m in \u001b[0;36mbegin\u001b[0;34m(self)\u001b[0m\n\u001b[1;32m    329\u001b[0m         \u001b[0;31m# read until we get a non-100 response\u001b[0m\u001b[0;34m\u001b[0m\u001b[0;34m\u001b[0m\u001b[0m\n\u001b[1;32m    330\u001b[0m         \u001b[0;32mwhile\u001b[0m \u001b[0;32mTrue\u001b[0m\u001b[0;34m:\u001b[0m\u001b[0;34m\u001b[0m\u001b[0;34m\u001b[0m\u001b[0m\n\u001b[0;32m--> 331\u001b[0;31m             \u001b[0mversion\u001b[0m\u001b[0;34m,\u001b[0m \u001b[0mstatus\u001b[0m\u001b[0;34m,\u001b[0m \u001b[0mreason\u001b[0m \u001b[0;34m=\u001b[0m \u001b[0mself\u001b[0m\u001b[0;34m.\u001b[0m\u001b[0m_read_status\u001b[0m\u001b[0;34m(\u001b[0m\u001b[0;34m)\u001b[0m\u001b[0;34m\u001b[0m\u001b[0;34m\u001b[0m\u001b[0m\n\u001b[0m\u001b[1;32m    332\u001b[0m             \u001b[0;32mif\u001b[0m \u001b[0mstatus\u001b[0m \u001b[0;34m!=\u001b[0m \u001b[0mCONTINUE\u001b[0m\u001b[0;34m:\u001b[0m\u001b[0;34m\u001b[0m\u001b[0;34m\u001b[0m\u001b[0m\n\u001b[1;32m    333\u001b[0m                 \u001b[0;32mbreak\u001b[0m\u001b[0;34m\u001b[0m\u001b[0;34m\u001b[0m\u001b[0m\n",
            "\u001b[0;32m/usr/lib/python3.12/http/client.py\u001b[0m in \u001b[0;36m_read_status\u001b[0;34m(self)\u001b[0m\n\u001b[1;32m    290\u001b[0m \u001b[0;34m\u001b[0m\u001b[0m\n\u001b[1;32m    291\u001b[0m     \u001b[0;32mdef\u001b[0m \u001b[0m_read_status\u001b[0m\u001b[0;34m(\u001b[0m\u001b[0mself\u001b[0m\u001b[0;34m)\u001b[0m\u001b[0;34m:\u001b[0m\u001b[0;34m\u001b[0m\u001b[0;34m\u001b[0m\u001b[0m\n\u001b[0;32m--> 292\u001b[0;31m         \u001b[0mline\u001b[0m \u001b[0;34m=\u001b[0m \u001b[0mstr\u001b[0m\u001b[0;34m(\u001b[0m\u001b[0mself\u001b[0m\u001b[0;34m.\u001b[0m\u001b[0mfp\u001b[0m\u001b[0;34m.\u001b[0m\u001b[0mreadline\u001b[0m\u001b[0;34m(\u001b[0m\u001b[0m_MAXLINE\u001b[0m \u001b[0;34m+\u001b[0m \u001b[0;36m1\u001b[0m\u001b[0;34m)\u001b[0m\u001b[0;34m,\u001b[0m \u001b[0;34m\"iso-8859-1\"\u001b[0m\u001b[0;34m)\u001b[0m\u001b[0;34m\u001b[0m\u001b[0;34m\u001b[0m\u001b[0m\n\u001b[0m\u001b[1;32m    293\u001b[0m         \u001b[0;32mif\u001b[0m \u001b[0mlen\u001b[0m\u001b[0;34m(\u001b[0m\u001b[0mline\u001b[0m\u001b[0;34m)\u001b[0m \u001b[0;34m>\u001b[0m \u001b[0m_MAXLINE\u001b[0m\u001b[0;34m:\u001b[0m\u001b[0;34m\u001b[0m\u001b[0;34m\u001b[0m\u001b[0m\n\u001b[1;32m    294\u001b[0m             \u001b[0;32mraise\u001b[0m \u001b[0mLineTooLong\u001b[0m\u001b[0;34m(\u001b[0m\u001b[0;34m\"status line\"\u001b[0m\u001b[0;34m)\u001b[0m\u001b[0;34m\u001b[0m\u001b[0;34m\u001b[0m\u001b[0m\n",
            "\u001b[0;32m/usr/lib/python3.12/socket.py\u001b[0m in \u001b[0;36mreadinto\u001b[0;34m(self, b)\u001b[0m\n\u001b[1;32m    718\u001b[0m         \u001b[0;32mwhile\u001b[0m \u001b[0;32mTrue\u001b[0m\u001b[0;34m:\u001b[0m\u001b[0;34m\u001b[0m\u001b[0;34m\u001b[0m\u001b[0m\n\u001b[1;32m    719\u001b[0m             \u001b[0;32mtry\u001b[0m\u001b[0;34m:\u001b[0m\u001b[0;34m\u001b[0m\u001b[0;34m\u001b[0m\u001b[0m\n\u001b[0;32m--> 720\u001b[0;31m                 \u001b[0;32mreturn\u001b[0m \u001b[0mself\u001b[0m\u001b[0;34m.\u001b[0m\u001b[0m_sock\u001b[0m\u001b[0;34m.\u001b[0m\u001b[0mrecv_into\u001b[0m\u001b[0;34m(\u001b[0m\u001b[0mb\u001b[0m\u001b[0;34m)\u001b[0m\u001b[0;34m\u001b[0m\u001b[0;34m\u001b[0m\u001b[0m\n\u001b[0m\u001b[1;32m    721\u001b[0m             \u001b[0;32mexcept\u001b[0m \u001b[0mtimeout\u001b[0m\u001b[0;34m:\u001b[0m\u001b[0;34m\u001b[0m\u001b[0;34m\u001b[0m\u001b[0m\n\u001b[1;32m    722\u001b[0m                 \u001b[0mself\u001b[0m\u001b[0;34m.\u001b[0m\u001b[0m_timeout_occurred\u001b[0m \u001b[0;34m=\u001b[0m \u001b[0;32mTrue\u001b[0m\u001b[0;34m\u001b[0m\u001b[0;34m\u001b[0m\u001b[0m\n",
            "\u001b[0;32m/usr/lib/python3.12/ssl.py\u001b[0m in \u001b[0;36mrecv_into\u001b[0;34m(self, buffer, nbytes, flags)\u001b[0m\n\u001b[1;32m   1249\u001b[0m                   \u001b[0;34m\"non-zero flags not allowed in calls to recv_into() on %s\"\u001b[0m \u001b[0;34m%\u001b[0m\u001b[0;34m\u001b[0m\u001b[0;34m\u001b[0m\u001b[0m\n\u001b[1;32m   1250\u001b[0m                   self.__class__)\n\u001b[0;32m-> 1251\u001b[0;31m             \u001b[0;32mreturn\u001b[0m \u001b[0mself\u001b[0m\u001b[0;34m.\u001b[0m\u001b[0mread\u001b[0m\u001b[0;34m(\u001b[0m\u001b[0mnbytes\u001b[0m\u001b[0;34m,\u001b[0m \u001b[0mbuffer\u001b[0m\u001b[0;34m)\u001b[0m\u001b[0;34m\u001b[0m\u001b[0;34m\u001b[0m\u001b[0m\n\u001b[0m\u001b[1;32m   1252\u001b[0m         \u001b[0;32melse\u001b[0m\u001b[0;34m:\u001b[0m\u001b[0;34m\u001b[0m\u001b[0;34m\u001b[0m\u001b[0m\n\u001b[1;32m   1253\u001b[0m             \u001b[0;32mreturn\u001b[0m \u001b[0msuper\u001b[0m\u001b[0;34m(\u001b[0m\u001b[0;34m)\u001b[0m\u001b[0;34m.\u001b[0m\u001b[0mrecv_into\u001b[0m\u001b[0;34m(\u001b[0m\u001b[0mbuffer\u001b[0m\u001b[0;34m,\u001b[0m \u001b[0mnbytes\u001b[0m\u001b[0;34m,\u001b[0m \u001b[0mflags\u001b[0m\u001b[0;34m)\u001b[0m\u001b[0;34m\u001b[0m\u001b[0;34m\u001b[0m\u001b[0m\n",
            "\u001b[0;32m/usr/lib/python3.12/ssl.py\u001b[0m in \u001b[0;36mread\u001b[0;34m(self, len, buffer)\u001b[0m\n\u001b[1;32m   1101\u001b[0m         \u001b[0;32mtry\u001b[0m\u001b[0;34m:\u001b[0m\u001b[0;34m\u001b[0m\u001b[0;34m\u001b[0m\u001b[0m\n\u001b[1;32m   1102\u001b[0m             \u001b[0;32mif\u001b[0m \u001b[0mbuffer\u001b[0m \u001b[0;32mis\u001b[0m \u001b[0;32mnot\u001b[0m \u001b[0;32mNone\u001b[0m\u001b[0;34m:\u001b[0m\u001b[0;34m\u001b[0m\u001b[0;34m\u001b[0m\u001b[0m\n\u001b[0;32m-> 1103\u001b[0;31m                 \u001b[0;32mreturn\u001b[0m \u001b[0mself\u001b[0m\u001b[0;34m.\u001b[0m\u001b[0m_sslobj\u001b[0m\u001b[0;34m.\u001b[0m\u001b[0mread\u001b[0m\u001b[0;34m(\u001b[0m\u001b[0mlen\u001b[0m\u001b[0;34m,\u001b[0m \u001b[0mbuffer\u001b[0m\u001b[0;34m)\u001b[0m\u001b[0;34m\u001b[0m\u001b[0;34m\u001b[0m\u001b[0m\n\u001b[0m\u001b[1;32m   1104\u001b[0m             \u001b[0;32melse\u001b[0m\u001b[0;34m:\u001b[0m\u001b[0;34m\u001b[0m\u001b[0;34m\u001b[0m\u001b[0m\n\u001b[1;32m   1105\u001b[0m                 \u001b[0;32mreturn\u001b[0m \u001b[0mself\u001b[0m\u001b[0;34m.\u001b[0m\u001b[0m_sslobj\u001b[0m\u001b[0;34m.\u001b[0m\u001b[0mread\u001b[0m\u001b[0;34m(\u001b[0m\u001b[0mlen\u001b[0m\u001b[0;34m)\u001b[0m\u001b[0;34m\u001b[0m\u001b[0;34m\u001b[0m\u001b[0m\n",
            "\u001b[0;31mKeyboardInterrupt\u001b[0m: "
          ]
        }
      ]
    },
    {
      "cell_type": "markdown",
      "source": [
        "## [참고] LCEL\n",
        "\n",
        "**LCEL(LangChain Expression Language)**\n",
        "- 체인, 모델, 파서, 프롬프트 등 여러 구성요소를 파이프라인처럼 | 연산자로 연결할 수 있는 표현식 기반 체인 구성 방식\n"
      ],
      "metadata": {
        "id": "gVPut6P2PVjO"
      }
    },
    {
      "cell_type": "code",
      "source": [
        "from langchain.chat_models import ChatOpenAI\n",
        "from langchain.prompts import ChatPromptTemplate\n",
        "from langchain.schema import StrOutputParser\n",
        "from langchain_google_genai import ChatGoogleGenerativeAI\n",
        "\n",
        "# 1. 프롬프트 템플릿\n",
        "prompt = ChatPromptTemplate.from_template(\n",
        "    \"장르가 {genre}인 영화를 하나만 추천해줘.\"\n",
        ")\n",
        "\n",
        "# 2. 모델\n",
        "#llm = ChatOpenAI(model_name=\"gpt-4.1-mini\", temperature=0.7)\n",
        "llm = ChatGoogleGenerativeAI(\n",
        "    model=\"gemini-1.5-flash\",  # Lite 모델 사용\n",
        "    temperature=0.7\n",
        ")\n",
        "# 3. 파서\n",
        "parser = StrOutputParser()\n",
        "\n",
        "# 4. LCEL 체인 구성\n",
        "chain = prompt | llm | parser\n",
        "\n",
        "# 5. 실행\n",
        "result = chain.invoke({\"genre\": \"액션\"})\n",
        "print(result)\n"
      ],
      "metadata": {
        "colab": {
          "base_uri": "https://localhost:8080/",
          "height": 432
        },
        "id": "QKp6fpBGPYQT",
        "outputId": "74558644-a5f0-4816-b48c-ddff31e999ca"
      },
      "execution_count": 55,
      "outputs": [
        {
          "output_type": "stream",
          "name": "stderr",
          "text": [
            "WARNING:langchain_google_genai.chat_models:Retrying langchain_google_genai.chat_models._chat_with_retry.<locals>._chat_with_retry in 2.0 seconds as it raised NotFound: 404 Publisher Model `projects/generativelanguage-ga/locations/us-central1/publishers/google/models/gemini-1.5-flash-002` was not found or your project does not have access to it. Please ensure you are using a valid model version. For more information, see: https://cloud.google.com/vertex-ai/generative-ai/docs/learn/model-versions.\n"
          ]
        },
        {
          "output_type": "error",
          "ename": "NotFound",
          "evalue": "404 Publisher Model `projects/generativelanguage-ga/locations/us-central1/publishers/google/models/gemini-1.5-flash-002` was not found or your project does not have access to it. Please ensure you are using a valid model version. For more information, see: https://cloud.google.com/vertex-ai/generative-ai/docs/learn/model-versions",
          "traceback": [
            "\u001b[0;31m---------------------------------------------------------------------------\u001b[0m",
            "\u001b[0;31mNotFound\u001b[0m                                  Traceback (most recent call last)",
            "\u001b[0;32m/tmp/ipython-input-2938532986.py\u001b[0m in \u001b[0;36m<cell line: 0>\u001b[0;34m()\u001b[0m\n\u001b[1;32m     22\u001b[0m \u001b[0;34m\u001b[0m\u001b[0m\n\u001b[1;32m     23\u001b[0m \u001b[0;31m# 5. 실행\u001b[0m\u001b[0;34m\u001b[0m\u001b[0;34m\u001b[0m\u001b[0m\n\u001b[0;32m---> 24\u001b[0;31m \u001b[0mresult\u001b[0m \u001b[0;34m=\u001b[0m \u001b[0mchain\u001b[0m\u001b[0;34m.\u001b[0m\u001b[0minvoke\u001b[0m\u001b[0;34m(\u001b[0m\u001b[0;34m{\u001b[0m\u001b[0;34m\"genre\"\u001b[0m\u001b[0;34m:\u001b[0m \u001b[0;34m\"액션\"\u001b[0m\u001b[0;34m}\u001b[0m\u001b[0;34m)\u001b[0m\u001b[0;34m\u001b[0m\u001b[0;34m\u001b[0m\u001b[0m\n\u001b[0m\u001b[1;32m     25\u001b[0m \u001b[0mprint\u001b[0m\u001b[0;34m(\u001b[0m\u001b[0mresult\u001b[0m\u001b[0;34m)\u001b[0m\u001b[0;34m\u001b[0m\u001b[0;34m\u001b[0m\u001b[0m\n",
            "\u001b[0;32m/usr/local/lib/python3.12/dist-packages/langchain_core/runnables/base.py\u001b[0m in \u001b[0;36minvoke\u001b[0;34m(self, input, config, **kwargs)\u001b[0m\n\u001b[1;32m   3243\u001b[0m                         \u001b[0minput_\u001b[0m \u001b[0;34m=\u001b[0m \u001b[0mcontext\u001b[0m\u001b[0;34m.\u001b[0m\u001b[0mrun\u001b[0m\u001b[0;34m(\u001b[0m\u001b[0mstep\u001b[0m\u001b[0;34m.\u001b[0m\u001b[0minvoke\u001b[0m\u001b[0;34m,\u001b[0m \u001b[0minput_\u001b[0m\u001b[0;34m,\u001b[0m \u001b[0mconfig\u001b[0m\u001b[0;34m,\u001b[0m \u001b[0;34m**\u001b[0m\u001b[0mkwargs\u001b[0m\u001b[0;34m)\u001b[0m\u001b[0;34m\u001b[0m\u001b[0;34m\u001b[0m\u001b[0m\n\u001b[1;32m   3244\u001b[0m                     \u001b[0;32melse\u001b[0m\u001b[0;34m:\u001b[0m\u001b[0;34m\u001b[0m\u001b[0;34m\u001b[0m\u001b[0m\n\u001b[0;32m-> 3245\u001b[0;31m                         \u001b[0minput_\u001b[0m \u001b[0;34m=\u001b[0m \u001b[0mcontext\u001b[0m\u001b[0;34m.\u001b[0m\u001b[0mrun\u001b[0m\u001b[0;34m(\u001b[0m\u001b[0mstep\u001b[0m\u001b[0;34m.\u001b[0m\u001b[0minvoke\u001b[0m\u001b[0;34m,\u001b[0m \u001b[0minput_\u001b[0m\u001b[0;34m,\u001b[0m \u001b[0mconfig\u001b[0m\u001b[0;34m)\u001b[0m\u001b[0;34m\u001b[0m\u001b[0;34m\u001b[0m\u001b[0m\n\u001b[0m\u001b[1;32m   3246\u001b[0m         \u001b[0;31m# finish the root run\u001b[0m\u001b[0;34m\u001b[0m\u001b[0;34m\u001b[0m\u001b[0m\n\u001b[1;32m   3247\u001b[0m         \u001b[0;32mexcept\u001b[0m \u001b[0mBaseException\u001b[0m \u001b[0;32mas\u001b[0m \u001b[0me\u001b[0m\u001b[0;34m:\u001b[0m\u001b[0;34m\u001b[0m\u001b[0;34m\u001b[0m\u001b[0m\n",
            "\u001b[0;32m/usr/local/lib/python3.12/dist-packages/langchain_core/language_models/chat_models.py\u001b[0m in \u001b[0;36minvoke\u001b[0;34m(self, input, config, stop, **kwargs)\u001b[0m\n\u001b[1;32m    393\u001b[0m         return cast(\n\u001b[1;32m    394\u001b[0m             \u001b[0;34m\"ChatGeneration\"\u001b[0m\u001b[0;34m,\u001b[0m\u001b[0;34m\u001b[0m\u001b[0;34m\u001b[0m\u001b[0m\n\u001b[0;32m--> 395\u001b[0;31m             self.generate_prompt(\n\u001b[0m\u001b[1;32m    396\u001b[0m                 \u001b[0;34m[\u001b[0m\u001b[0mself\u001b[0m\u001b[0;34m.\u001b[0m\u001b[0m_convert_input\u001b[0m\u001b[0;34m(\u001b[0m\u001b[0minput\u001b[0m\u001b[0;34m)\u001b[0m\u001b[0;34m]\u001b[0m\u001b[0;34m,\u001b[0m\u001b[0;34m\u001b[0m\u001b[0;34m\u001b[0m\u001b[0m\n\u001b[1;32m    397\u001b[0m                 \u001b[0mstop\u001b[0m\u001b[0;34m=\u001b[0m\u001b[0mstop\u001b[0m\u001b[0;34m,\u001b[0m\u001b[0;34m\u001b[0m\u001b[0;34m\u001b[0m\u001b[0m\n",
            "\u001b[0;32m/usr/local/lib/python3.12/dist-packages/langchain_core/language_models/chat_models.py\u001b[0m in \u001b[0;36mgenerate_prompt\u001b[0;34m(self, prompts, stop, callbacks, **kwargs)\u001b[0m\n\u001b[1;32m   1021\u001b[0m     ) -> LLMResult:\n\u001b[1;32m   1022\u001b[0m         \u001b[0mprompt_messages\u001b[0m \u001b[0;34m=\u001b[0m \u001b[0;34m[\u001b[0m\u001b[0mp\u001b[0m\u001b[0;34m.\u001b[0m\u001b[0mto_messages\u001b[0m\u001b[0;34m(\u001b[0m\u001b[0;34m)\u001b[0m \u001b[0;32mfor\u001b[0m \u001b[0mp\u001b[0m \u001b[0;32min\u001b[0m \u001b[0mprompts\u001b[0m\u001b[0;34m]\u001b[0m\u001b[0;34m\u001b[0m\u001b[0;34m\u001b[0m\u001b[0m\n\u001b[0;32m-> 1023\u001b[0;31m         \u001b[0;32mreturn\u001b[0m \u001b[0mself\u001b[0m\u001b[0;34m.\u001b[0m\u001b[0mgenerate\u001b[0m\u001b[0;34m(\u001b[0m\u001b[0mprompt_messages\u001b[0m\u001b[0;34m,\u001b[0m \u001b[0mstop\u001b[0m\u001b[0;34m=\u001b[0m\u001b[0mstop\u001b[0m\u001b[0;34m,\u001b[0m \u001b[0mcallbacks\u001b[0m\u001b[0;34m=\u001b[0m\u001b[0mcallbacks\u001b[0m\u001b[0;34m,\u001b[0m \u001b[0;34m**\u001b[0m\u001b[0mkwargs\u001b[0m\u001b[0;34m)\u001b[0m\u001b[0;34m\u001b[0m\u001b[0;34m\u001b[0m\u001b[0m\n\u001b[0m\u001b[1;32m   1024\u001b[0m \u001b[0;34m\u001b[0m\u001b[0m\n\u001b[1;32m   1025\u001b[0m     \u001b[0;34m@\u001b[0m\u001b[0moverride\u001b[0m\u001b[0;34m\u001b[0m\u001b[0;34m\u001b[0m\u001b[0m\n",
            "\u001b[0;32m/usr/local/lib/python3.12/dist-packages/langchain_core/language_models/chat_models.py\u001b[0m in \u001b[0;36mgenerate\u001b[0;34m(self, messages, stop, callbacks, tags, metadata, run_name, run_id, **kwargs)\u001b[0m\n\u001b[1;32m    838\u001b[0m             \u001b[0;32mtry\u001b[0m\u001b[0;34m:\u001b[0m\u001b[0;34m\u001b[0m\u001b[0;34m\u001b[0m\u001b[0m\n\u001b[1;32m    839\u001b[0m                 results.append(\n\u001b[0;32m--> 840\u001b[0;31m                     self._generate_with_cache(\n\u001b[0m\u001b[1;32m    841\u001b[0m                         \u001b[0mm\u001b[0m\u001b[0;34m,\u001b[0m\u001b[0;34m\u001b[0m\u001b[0;34m\u001b[0m\u001b[0m\n\u001b[1;32m    842\u001b[0m                         \u001b[0mstop\u001b[0m\u001b[0;34m=\u001b[0m\u001b[0mstop\u001b[0m\u001b[0;34m,\u001b[0m\u001b[0;34m\u001b[0m\u001b[0;34m\u001b[0m\u001b[0m\n",
            "\u001b[0;32m/usr/local/lib/python3.12/dist-packages/langchain_core/language_models/chat_models.py\u001b[0m in \u001b[0;36m_generate_with_cache\u001b[0;34m(self, messages, stop, run_manager, **kwargs)\u001b[0m\n\u001b[1;32m   1087\u001b[0m             \u001b[0mresult\u001b[0m \u001b[0;34m=\u001b[0m \u001b[0mgenerate_from_stream\u001b[0m\u001b[0;34m(\u001b[0m\u001b[0miter\u001b[0m\u001b[0;34m(\u001b[0m\u001b[0mchunks\u001b[0m\u001b[0;34m)\u001b[0m\u001b[0;34m)\u001b[0m\u001b[0;34m\u001b[0m\u001b[0;34m\u001b[0m\u001b[0m\n\u001b[1;32m   1088\u001b[0m         \u001b[0;32melif\u001b[0m \u001b[0minspect\u001b[0m\u001b[0;34m.\u001b[0m\u001b[0msignature\u001b[0m\u001b[0;34m(\u001b[0m\u001b[0mself\u001b[0m\u001b[0;34m.\u001b[0m\u001b[0m_generate\u001b[0m\u001b[0;34m)\u001b[0m\u001b[0;34m.\u001b[0m\u001b[0mparameters\u001b[0m\u001b[0;34m.\u001b[0m\u001b[0mget\u001b[0m\u001b[0;34m(\u001b[0m\u001b[0;34m\"run_manager\"\u001b[0m\u001b[0;34m)\u001b[0m\u001b[0;34m:\u001b[0m\u001b[0;34m\u001b[0m\u001b[0;34m\u001b[0m\u001b[0m\n\u001b[0;32m-> 1089\u001b[0;31m             result = self._generate(\n\u001b[0m\u001b[1;32m   1090\u001b[0m                 \u001b[0mmessages\u001b[0m\u001b[0;34m,\u001b[0m \u001b[0mstop\u001b[0m\u001b[0;34m=\u001b[0m\u001b[0mstop\u001b[0m\u001b[0;34m,\u001b[0m \u001b[0mrun_manager\u001b[0m\u001b[0;34m=\u001b[0m\u001b[0mrun_manager\u001b[0m\u001b[0;34m,\u001b[0m \u001b[0;34m**\u001b[0m\u001b[0mkwargs\u001b[0m\u001b[0;34m\u001b[0m\u001b[0;34m\u001b[0m\u001b[0m\n\u001b[1;32m   1091\u001b[0m             )\n",
            "\u001b[0;32m/usr/local/lib/python3.12/dist-packages/langchain_google_genai/chat_models.py\u001b[0m in \u001b[0;36m_generate\u001b[0;34m(self, messages, stop, run_manager, tools, functions, safety_settings, tool_config, generation_config, cached_content, tool_choice, **kwargs)\u001b[0m\n\u001b[1;32m    959\u001b[0m             \u001b[0mtool_choice\u001b[0m\u001b[0;34m=\u001b[0m\u001b[0mtool_choice\u001b[0m\u001b[0;34m,\u001b[0m\u001b[0;34m\u001b[0m\u001b[0;34m\u001b[0m\u001b[0m\n\u001b[1;32m    960\u001b[0m         )\n\u001b[0;32m--> 961\u001b[0;31m         response: GenerateContentResponse = _chat_with_retry(\n\u001b[0m\u001b[1;32m    962\u001b[0m             \u001b[0mrequest\u001b[0m\u001b[0;34m=\u001b[0m\u001b[0mrequest\u001b[0m\u001b[0;34m,\u001b[0m\u001b[0;34m\u001b[0m\u001b[0;34m\u001b[0m\u001b[0m\n\u001b[1;32m    963\u001b[0m             \u001b[0;34m**\u001b[0m\u001b[0mkwargs\u001b[0m\u001b[0;34m,\u001b[0m\u001b[0;34m\u001b[0m\u001b[0;34m\u001b[0m\u001b[0m\n",
            "\u001b[0;32m/usr/local/lib/python3.12/dist-packages/langchain_google_genai/chat_models.py\u001b[0m in \u001b[0;36m_chat_with_retry\u001b[0;34m(generation_method, **kwargs)\u001b[0m\n\u001b[1;32m    194\u001b[0m             \u001b[0;32mraise\u001b[0m \u001b[0me\u001b[0m\u001b[0;34m\u001b[0m\u001b[0;34m\u001b[0m\u001b[0m\n\u001b[1;32m    195\u001b[0m \u001b[0;34m\u001b[0m\u001b[0m\n\u001b[0;32m--> 196\u001b[0;31m     \u001b[0;32mreturn\u001b[0m \u001b[0m_chat_with_retry\u001b[0m\u001b[0;34m(\u001b[0m\u001b[0;34m**\u001b[0m\u001b[0mkwargs\u001b[0m\u001b[0;34m)\u001b[0m\u001b[0;34m\u001b[0m\u001b[0;34m\u001b[0m\u001b[0m\n\u001b[0m\u001b[1;32m    197\u001b[0m \u001b[0;34m\u001b[0m\u001b[0m\n\u001b[1;32m    198\u001b[0m \u001b[0;34m\u001b[0m\u001b[0m\n",
            "\u001b[0;32m/usr/local/lib/python3.12/dist-packages/tenacity/__init__.py\u001b[0m in \u001b[0;36mwrapped_f\u001b[0;34m(*args, **kw)\u001b[0m\n\u001b[1;32m    334\u001b[0m             \u001b[0mcopy\u001b[0m \u001b[0;34m=\u001b[0m \u001b[0mself\u001b[0m\u001b[0;34m.\u001b[0m\u001b[0mcopy\u001b[0m\u001b[0;34m(\u001b[0m\u001b[0;34m)\u001b[0m\u001b[0;34m\u001b[0m\u001b[0;34m\u001b[0m\u001b[0m\n\u001b[1;32m    335\u001b[0m             \u001b[0mwrapped_f\u001b[0m\u001b[0;34m.\u001b[0m\u001b[0mstatistics\u001b[0m \u001b[0;34m=\u001b[0m \u001b[0mcopy\u001b[0m\u001b[0;34m.\u001b[0m\u001b[0mstatistics\u001b[0m  \u001b[0;31m# type: ignore[attr-defined]\u001b[0m\u001b[0;34m\u001b[0m\u001b[0;34m\u001b[0m\u001b[0m\n\u001b[0;32m--> 336\u001b[0;31m             \u001b[0;32mreturn\u001b[0m \u001b[0mcopy\u001b[0m\u001b[0;34m(\u001b[0m\u001b[0mf\u001b[0m\u001b[0;34m,\u001b[0m \u001b[0;34m*\u001b[0m\u001b[0margs\u001b[0m\u001b[0;34m,\u001b[0m \u001b[0;34m**\u001b[0m\u001b[0mkw\u001b[0m\u001b[0;34m)\u001b[0m\u001b[0;34m\u001b[0m\u001b[0;34m\u001b[0m\u001b[0m\n\u001b[0m\u001b[1;32m    337\u001b[0m \u001b[0;34m\u001b[0m\u001b[0m\n\u001b[1;32m    338\u001b[0m         \u001b[0;32mdef\u001b[0m \u001b[0mretry_with\u001b[0m\u001b[0;34m(\u001b[0m\u001b[0;34m*\u001b[0m\u001b[0margs\u001b[0m\u001b[0;34m:\u001b[0m \u001b[0mt\u001b[0m\u001b[0;34m.\u001b[0m\u001b[0mAny\u001b[0m\u001b[0;34m,\u001b[0m \u001b[0;34m**\u001b[0m\u001b[0mkwargs\u001b[0m\u001b[0;34m:\u001b[0m \u001b[0mt\u001b[0m\u001b[0;34m.\u001b[0m\u001b[0mAny\u001b[0m\u001b[0;34m)\u001b[0m \u001b[0;34m->\u001b[0m \u001b[0mWrappedFn\u001b[0m\u001b[0;34m:\u001b[0m\u001b[0;34m\u001b[0m\u001b[0;34m\u001b[0m\u001b[0m\n",
            "\u001b[0;32m/usr/local/lib/python3.12/dist-packages/tenacity/__init__.py\u001b[0m in \u001b[0;36m__call__\u001b[0;34m(self, fn, *args, **kwargs)\u001b[0m\n\u001b[1;32m    473\u001b[0m         \u001b[0mretry_state\u001b[0m \u001b[0;34m=\u001b[0m \u001b[0mRetryCallState\u001b[0m\u001b[0;34m(\u001b[0m\u001b[0mretry_object\u001b[0m\u001b[0;34m=\u001b[0m\u001b[0mself\u001b[0m\u001b[0;34m,\u001b[0m \u001b[0mfn\u001b[0m\u001b[0;34m=\u001b[0m\u001b[0mfn\u001b[0m\u001b[0;34m,\u001b[0m \u001b[0margs\u001b[0m\u001b[0;34m=\u001b[0m\u001b[0margs\u001b[0m\u001b[0;34m,\u001b[0m \u001b[0mkwargs\u001b[0m\u001b[0;34m=\u001b[0m\u001b[0mkwargs\u001b[0m\u001b[0;34m)\u001b[0m\u001b[0;34m\u001b[0m\u001b[0;34m\u001b[0m\u001b[0m\n\u001b[1;32m    474\u001b[0m         \u001b[0;32mwhile\u001b[0m \u001b[0;32mTrue\u001b[0m\u001b[0;34m:\u001b[0m\u001b[0;34m\u001b[0m\u001b[0;34m\u001b[0m\u001b[0m\n\u001b[0;32m--> 475\u001b[0;31m             \u001b[0mdo\u001b[0m \u001b[0;34m=\u001b[0m \u001b[0mself\u001b[0m\u001b[0;34m.\u001b[0m\u001b[0miter\u001b[0m\u001b[0;34m(\u001b[0m\u001b[0mretry_state\u001b[0m\u001b[0;34m=\u001b[0m\u001b[0mretry_state\u001b[0m\u001b[0;34m)\u001b[0m\u001b[0;34m\u001b[0m\u001b[0;34m\u001b[0m\u001b[0m\n\u001b[0m\u001b[1;32m    476\u001b[0m             \u001b[0;32mif\u001b[0m \u001b[0misinstance\u001b[0m\u001b[0;34m(\u001b[0m\u001b[0mdo\u001b[0m\u001b[0;34m,\u001b[0m \u001b[0mDoAttempt\u001b[0m\u001b[0;34m)\u001b[0m\u001b[0;34m:\u001b[0m\u001b[0;34m\u001b[0m\u001b[0;34m\u001b[0m\u001b[0m\n\u001b[1;32m    477\u001b[0m                 \u001b[0;32mtry\u001b[0m\u001b[0;34m:\u001b[0m\u001b[0;34m\u001b[0m\u001b[0;34m\u001b[0m\u001b[0m\n",
            "\u001b[0;32m/usr/local/lib/python3.12/dist-packages/tenacity/__init__.py\u001b[0m in \u001b[0;36miter\u001b[0;34m(self, retry_state)\u001b[0m\n\u001b[1;32m    374\u001b[0m         \u001b[0mresult\u001b[0m \u001b[0;34m=\u001b[0m \u001b[0;32mNone\u001b[0m\u001b[0;34m\u001b[0m\u001b[0;34m\u001b[0m\u001b[0m\n\u001b[1;32m    375\u001b[0m         \u001b[0;32mfor\u001b[0m \u001b[0maction\u001b[0m \u001b[0;32min\u001b[0m \u001b[0mself\u001b[0m\u001b[0;34m.\u001b[0m\u001b[0miter_state\u001b[0m\u001b[0;34m.\u001b[0m\u001b[0mactions\u001b[0m\u001b[0;34m:\u001b[0m\u001b[0;34m\u001b[0m\u001b[0;34m\u001b[0m\u001b[0m\n\u001b[0;32m--> 376\u001b[0;31m             \u001b[0mresult\u001b[0m \u001b[0;34m=\u001b[0m \u001b[0maction\u001b[0m\u001b[0;34m(\u001b[0m\u001b[0mretry_state\u001b[0m\u001b[0;34m)\u001b[0m\u001b[0;34m\u001b[0m\u001b[0;34m\u001b[0m\u001b[0m\n\u001b[0m\u001b[1;32m    377\u001b[0m         \u001b[0;32mreturn\u001b[0m \u001b[0mresult\u001b[0m\u001b[0;34m\u001b[0m\u001b[0;34m\u001b[0m\u001b[0m\n\u001b[1;32m    378\u001b[0m \u001b[0;34m\u001b[0m\u001b[0m\n",
            "\u001b[0;32m/usr/local/lib/python3.12/dist-packages/tenacity/__init__.py\u001b[0m in \u001b[0;36mexc_check\u001b[0;34m(rs)\u001b[0m\n\u001b[1;32m    416\u001b[0m                 \u001b[0mretry_exc\u001b[0m \u001b[0;34m=\u001b[0m \u001b[0mself\u001b[0m\u001b[0;34m.\u001b[0m\u001b[0mretry_error_cls\u001b[0m\u001b[0;34m(\u001b[0m\u001b[0mfut\u001b[0m\u001b[0;34m)\u001b[0m\u001b[0;34m\u001b[0m\u001b[0;34m\u001b[0m\u001b[0m\n\u001b[1;32m    417\u001b[0m                 \u001b[0;32mif\u001b[0m \u001b[0mself\u001b[0m\u001b[0;34m.\u001b[0m\u001b[0mreraise\u001b[0m\u001b[0;34m:\u001b[0m\u001b[0;34m\u001b[0m\u001b[0;34m\u001b[0m\u001b[0m\n\u001b[0;32m--> 418\u001b[0;31m                     \u001b[0;32mraise\u001b[0m \u001b[0mretry_exc\u001b[0m\u001b[0;34m.\u001b[0m\u001b[0mreraise\u001b[0m\u001b[0;34m(\u001b[0m\u001b[0;34m)\u001b[0m\u001b[0;34m\u001b[0m\u001b[0;34m\u001b[0m\u001b[0m\n\u001b[0m\u001b[1;32m    419\u001b[0m                 \u001b[0;32mraise\u001b[0m \u001b[0mretry_exc\u001b[0m \u001b[0;32mfrom\u001b[0m \u001b[0mfut\u001b[0m\u001b[0;34m.\u001b[0m\u001b[0mexception\u001b[0m\u001b[0;34m(\u001b[0m\u001b[0;34m)\u001b[0m\u001b[0;34m\u001b[0m\u001b[0;34m\u001b[0m\u001b[0m\n\u001b[1;32m    420\u001b[0m \u001b[0;34m\u001b[0m\u001b[0m\n",
            "\u001b[0;32m/usr/local/lib/python3.12/dist-packages/tenacity/__init__.py\u001b[0m in \u001b[0;36mreraise\u001b[0;34m(self)\u001b[0m\n\u001b[1;32m    183\u001b[0m     \u001b[0;32mdef\u001b[0m \u001b[0mreraise\u001b[0m\u001b[0;34m(\u001b[0m\u001b[0mself\u001b[0m\u001b[0;34m)\u001b[0m \u001b[0;34m->\u001b[0m \u001b[0mt\u001b[0m\u001b[0;34m.\u001b[0m\u001b[0mNoReturn\u001b[0m\u001b[0;34m:\u001b[0m\u001b[0;34m\u001b[0m\u001b[0;34m\u001b[0m\u001b[0m\n\u001b[1;32m    184\u001b[0m         \u001b[0;32mif\u001b[0m \u001b[0mself\u001b[0m\u001b[0;34m.\u001b[0m\u001b[0mlast_attempt\u001b[0m\u001b[0;34m.\u001b[0m\u001b[0mfailed\u001b[0m\u001b[0;34m:\u001b[0m\u001b[0;34m\u001b[0m\u001b[0;34m\u001b[0m\u001b[0m\n\u001b[0;32m--> 185\u001b[0;31m             \u001b[0;32mraise\u001b[0m \u001b[0mself\u001b[0m\u001b[0;34m.\u001b[0m\u001b[0mlast_attempt\u001b[0m\u001b[0;34m.\u001b[0m\u001b[0mresult\u001b[0m\u001b[0;34m(\u001b[0m\u001b[0;34m)\u001b[0m\u001b[0;34m\u001b[0m\u001b[0;34m\u001b[0m\u001b[0m\n\u001b[0m\u001b[1;32m    186\u001b[0m         \u001b[0;32mraise\u001b[0m \u001b[0mself\u001b[0m\u001b[0;34m\u001b[0m\u001b[0;34m\u001b[0m\u001b[0m\n\u001b[1;32m    187\u001b[0m \u001b[0;34m\u001b[0m\u001b[0m\n",
            "\u001b[0;32m/usr/lib/python3.12/concurrent/futures/_base.py\u001b[0m in \u001b[0;36mresult\u001b[0;34m(self, timeout)\u001b[0m\n\u001b[1;32m    447\u001b[0m                     \u001b[0;32mraise\u001b[0m \u001b[0mCancelledError\u001b[0m\u001b[0;34m(\u001b[0m\u001b[0;34m)\u001b[0m\u001b[0;34m\u001b[0m\u001b[0;34m\u001b[0m\u001b[0m\n\u001b[1;32m    448\u001b[0m                 \u001b[0;32melif\u001b[0m \u001b[0mself\u001b[0m\u001b[0;34m.\u001b[0m\u001b[0m_state\u001b[0m \u001b[0;34m==\u001b[0m \u001b[0mFINISHED\u001b[0m\u001b[0;34m:\u001b[0m\u001b[0;34m\u001b[0m\u001b[0;34m\u001b[0m\u001b[0m\n\u001b[0;32m--> 449\u001b[0;31m                     \u001b[0;32mreturn\u001b[0m \u001b[0mself\u001b[0m\u001b[0;34m.\u001b[0m\u001b[0m__get_result\u001b[0m\u001b[0;34m(\u001b[0m\u001b[0;34m)\u001b[0m\u001b[0;34m\u001b[0m\u001b[0;34m\u001b[0m\u001b[0m\n\u001b[0m\u001b[1;32m    450\u001b[0m \u001b[0;34m\u001b[0m\u001b[0m\n\u001b[1;32m    451\u001b[0m                 \u001b[0mself\u001b[0m\u001b[0;34m.\u001b[0m\u001b[0m_condition\u001b[0m\u001b[0;34m.\u001b[0m\u001b[0mwait\u001b[0m\u001b[0;34m(\u001b[0m\u001b[0mtimeout\u001b[0m\u001b[0;34m)\u001b[0m\u001b[0;34m\u001b[0m\u001b[0;34m\u001b[0m\u001b[0m\n",
            "\u001b[0;32m/usr/lib/python3.12/concurrent/futures/_base.py\u001b[0m in \u001b[0;36m__get_result\u001b[0;34m(self)\u001b[0m\n\u001b[1;32m    399\u001b[0m         \u001b[0;32mif\u001b[0m \u001b[0mself\u001b[0m\u001b[0;34m.\u001b[0m\u001b[0m_exception\u001b[0m\u001b[0;34m:\u001b[0m\u001b[0;34m\u001b[0m\u001b[0;34m\u001b[0m\u001b[0m\n\u001b[1;32m    400\u001b[0m             \u001b[0;32mtry\u001b[0m\u001b[0;34m:\u001b[0m\u001b[0;34m\u001b[0m\u001b[0;34m\u001b[0m\u001b[0m\n\u001b[0;32m--> 401\u001b[0;31m                 \u001b[0;32mraise\u001b[0m \u001b[0mself\u001b[0m\u001b[0;34m.\u001b[0m\u001b[0m_exception\u001b[0m\u001b[0;34m\u001b[0m\u001b[0;34m\u001b[0m\u001b[0m\n\u001b[0m\u001b[1;32m    402\u001b[0m             \u001b[0;32mfinally\u001b[0m\u001b[0;34m:\u001b[0m\u001b[0;34m\u001b[0m\u001b[0;34m\u001b[0m\u001b[0m\n\u001b[1;32m    403\u001b[0m                 \u001b[0;31m# Break a reference cycle with the exception in self._exception\u001b[0m\u001b[0;34m\u001b[0m\u001b[0;34m\u001b[0m\u001b[0m\n",
            "\u001b[0;32m/usr/local/lib/python3.12/dist-packages/tenacity/__init__.py\u001b[0m in \u001b[0;36m__call__\u001b[0;34m(self, fn, *args, **kwargs)\u001b[0m\n\u001b[1;32m    476\u001b[0m             \u001b[0;32mif\u001b[0m \u001b[0misinstance\u001b[0m\u001b[0;34m(\u001b[0m\u001b[0mdo\u001b[0m\u001b[0;34m,\u001b[0m \u001b[0mDoAttempt\u001b[0m\u001b[0;34m)\u001b[0m\u001b[0;34m:\u001b[0m\u001b[0;34m\u001b[0m\u001b[0;34m\u001b[0m\u001b[0m\n\u001b[1;32m    477\u001b[0m                 \u001b[0;32mtry\u001b[0m\u001b[0;34m:\u001b[0m\u001b[0;34m\u001b[0m\u001b[0;34m\u001b[0m\u001b[0m\n\u001b[0;32m--> 478\u001b[0;31m                     \u001b[0mresult\u001b[0m \u001b[0;34m=\u001b[0m \u001b[0mfn\u001b[0m\u001b[0;34m(\u001b[0m\u001b[0;34m*\u001b[0m\u001b[0margs\u001b[0m\u001b[0;34m,\u001b[0m \u001b[0;34m**\u001b[0m\u001b[0mkwargs\u001b[0m\u001b[0;34m)\u001b[0m\u001b[0;34m\u001b[0m\u001b[0;34m\u001b[0m\u001b[0m\n\u001b[0m\u001b[1;32m    479\u001b[0m                 \u001b[0;32mexcept\u001b[0m \u001b[0mBaseException\u001b[0m\u001b[0;34m:\u001b[0m  \u001b[0;31m# noqa: B902\u001b[0m\u001b[0;34m\u001b[0m\u001b[0;34m\u001b[0m\u001b[0m\n\u001b[1;32m    480\u001b[0m                     \u001b[0mretry_state\u001b[0m\u001b[0;34m.\u001b[0m\u001b[0mset_exception\u001b[0m\u001b[0;34m(\u001b[0m\u001b[0msys\u001b[0m\u001b[0;34m.\u001b[0m\u001b[0mexc_info\u001b[0m\u001b[0;34m(\u001b[0m\u001b[0;34m)\u001b[0m\u001b[0;34m)\u001b[0m  \u001b[0;31m# type: ignore[arg-type]\u001b[0m\u001b[0;34m\u001b[0m\u001b[0;34m\u001b[0m\u001b[0m\n",
            "\u001b[0;32m/usr/local/lib/python3.12/dist-packages/langchain_google_genai/chat_models.py\u001b[0m in \u001b[0;36m_chat_with_retry\u001b[0;34m(**kwargs)\u001b[0m\n\u001b[1;32m    192\u001b[0m             ) from e\n\u001b[1;32m    193\u001b[0m         \u001b[0;32mexcept\u001b[0m \u001b[0mException\u001b[0m \u001b[0;32mas\u001b[0m \u001b[0me\u001b[0m\u001b[0;34m:\u001b[0m\u001b[0;34m\u001b[0m\u001b[0;34m\u001b[0m\u001b[0m\n\u001b[0;32m--> 194\u001b[0;31m             \u001b[0;32mraise\u001b[0m \u001b[0me\u001b[0m\u001b[0;34m\u001b[0m\u001b[0;34m\u001b[0m\u001b[0m\n\u001b[0m\u001b[1;32m    195\u001b[0m \u001b[0;34m\u001b[0m\u001b[0m\n\u001b[1;32m    196\u001b[0m     \u001b[0;32mreturn\u001b[0m \u001b[0m_chat_with_retry\u001b[0m\u001b[0;34m(\u001b[0m\u001b[0;34m**\u001b[0m\u001b[0mkwargs\u001b[0m\u001b[0;34m)\u001b[0m\u001b[0;34m\u001b[0m\u001b[0;34m\u001b[0m\u001b[0m\n",
            "\u001b[0;32m/usr/local/lib/python3.12/dist-packages/langchain_google_genai/chat_models.py\u001b[0m in \u001b[0;36m_chat_with_retry\u001b[0;34m(**kwargs)\u001b[0m\n\u001b[1;32m    176\u001b[0m     \u001b[0;32mdef\u001b[0m \u001b[0m_chat_with_retry\u001b[0m\u001b[0;34m(\u001b[0m\u001b[0;34m**\u001b[0m\u001b[0mkwargs\u001b[0m\u001b[0;34m:\u001b[0m \u001b[0mAny\u001b[0m\u001b[0;34m)\u001b[0m \u001b[0;34m->\u001b[0m \u001b[0mAny\u001b[0m\u001b[0;34m:\u001b[0m\u001b[0;34m\u001b[0m\u001b[0;34m\u001b[0m\u001b[0m\n\u001b[1;32m    177\u001b[0m         \u001b[0;32mtry\u001b[0m\u001b[0;34m:\u001b[0m\u001b[0;34m\u001b[0m\u001b[0;34m\u001b[0m\u001b[0m\n\u001b[0;32m--> 178\u001b[0;31m             \u001b[0;32mreturn\u001b[0m \u001b[0mgeneration_method\u001b[0m\u001b[0;34m(\u001b[0m\u001b[0;34m**\u001b[0m\u001b[0mkwargs\u001b[0m\u001b[0;34m)\u001b[0m\u001b[0;34m\u001b[0m\u001b[0;34m\u001b[0m\u001b[0m\n\u001b[0m\u001b[1;32m    179\u001b[0m         \u001b[0;31m# Do not retry for these errors.\u001b[0m\u001b[0;34m\u001b[0m\u001b[0;34m\u001b[0m\u001b[0m\n\u001b[1;32m    180\u001b[0m         \u001b[0;32mexcept\u001b[0m \u001b[0mgoogle\u001b[0m\u001b[0;34m.\u001b[0m\u001b[0mapi_core\u001b[0m\u001b[0;34m.\u001b[0m\u001b[0mexceptions\u001b[0m\u001b[0;34m.\u001b[0m\u001b[0mFailedPrecondition\u001b[0m \u001b[0;32mas\u001b[0m \u001b[0mexc\u001b[0m\u001b[0;34m:\u001b[0m\u001b[0;34m\u001b[0m\u001b[0;34m\u001b[0m\u001b[0m\n",
            "\u001b[0;32m/usr/local/lib/python3.12/dist-packages/google/ai/generativelanguage_v1beta/services/generative_service/client.py\u001b[0m in \u001b[0;36mgenerate_content\u001b[0;34m(self, request, model, contents, retry, timeout, metadata)\u001b[0m\n\u001b[1;32m    833\u001b[0m \u001b[0;34m\u001b[0m\u001b[0m\n\u001b[1;32m    834\u001b[0m         \u001b[0;31m# Send the request.\u001b[0m\u001b[0;34m\u001b[0m\u001b[0;34m\u001b[0m\u001b[0m\n\u001b[0;32m--> 835\u001b[0;31m         response = rpc(\n\u001b[0m\u001b[1;32m    836\u001b[0m             \u001b[0mrequest\u001b[0m\u001b[0;34m,\u001b[0m\u001b[0;34m\u001b[0m\u001b[0;34m\u001b[0m\u001b[0m\n\u001b[1;32m    837\u001b[0m             \u001b[0mretry\u001b[0m\u001b[0;34m=\u001b[0m\u001b[0mretry\u001b[0m\u001b[0;34m,\u001b[0m\u001b[0;34m\u001b[0m\u001b[0;34m\u001b[0m\u001b[0m\n",
            "\u001b[0;32m/usr/local/lib/python3.12/dist-packages/google/api_core/gapic_v1/method.py\u001b[0m in \u001b[0;36m__call__\u001b[0;34m(self, timeout, retry, compression, *args, **kwargs)\u001b[0m\n\u001b[1;32m    129\u001b[0m             \u001b[0mkwargs\u001b[0m\u001b[0;34m[\u001b[0m\u001b[0;34m\"compression\"\u001b[0m\u001b[0;34m]\u001b[0m \u001b[0;34m=\u001b[0m \u001b[0mcompression\u001b[0m\u001b[0;34m\u001b[0m\u001b[0;34m\u001b[0m\u001b[0m\n\u001b[1;32m    130\u001b[0m \u001b[0;34m\u001b[0m\u001b[0m\n\u001b[0;32m--> 131\u001b[0;31m         \u001b[0;32mreturn\u001b[0m \u001b[0mwrapped_func\u001b[0m\u001b[0;34m(\u001b[0m\u001b[0;34m*\u001b[0m\u001b[0margs\u001b[0m\u001b[0;34m,\u001b[0m \u001b[0;34m**\u001b[0m\u001b[0mkwargs\u001b[0m\u001b[0;34m)\u001b[0m\u001b[0;34m\u001b[0m\u001b[0;34m\u001b[0m\u001b[0m\n\u001b[0m\u001b[1;32m    132\u001b[0m \u001b[0;34m\u001b[0m\u001b[0m\n\u001b[1;32m    133\u001b[0m \u001b[0;34m\u001b[0m\u001b[0m\n",
            "\u001b[0;32m/usr/local/lib/python3.12/dist-packages/google/api_core/retry/retry_unary.py\u001b[0m in \u001b[0;36mretry_wrapped_func\u001b[0;34m(*args, **kwargs)\u001b[0m\n\u001b[1;32m    292\u001b[0m                 \u001b[0mself\u001b[0m\u001b[0;34m.\u001b[0m\u001b[0m_initial\u001b[0m\u001b[0;34m,\u001b[0m \u001b[0mself\u001b[0m\u001b[0;34m.\u001b[0m\u001b[0m_maximum\u001b[0m\u001b[0;34m,\u001b[0m \u001b[0mmultiplier\u001b[0m\u001b[0;34m=\u001b[0m\u001b[0mself\u001b[0m\u001b[0;34m.\u001b[0m\u001b[0m_multiplier\u001b[0m\u001b[0;34m\u001b[0m\u001b[0;34m\u001b[0m\u001b[0m\n\u001b[1;32m    293\u001b[0m             )\n\u001b[0;32m--> 294\u001b[0;31m             return retry_target(\n\u001b[0m\u001b[1;32m    295\u001b[0m                 \u001b[0mtarget\u001b[0m\u001b[0;34m,\u001b[0m\u001b[0;34m\u001b[0m\u001b[0;34m\u001b[0m\u001b[0m\n\u001b[1;32m    296\u001b[0m                 \u001b[0mself\u001b[0m\u001b[0;34m.\u001b[0m\u001b[0m_predicate\u001b[0m\u001b[0;34m,\u001b[0m\u001b[0;34m\u001b[0m\u001b[0;34m\u001b[0m\u001b[0m\n",
            "\u001b[0;32m/usr/local/lib/python3.12/dist-packages/google/api_core/retry/retry_unary.py\u001b[0m in \u001b[0;36mretry_target\u001b[0;34m(target, predicate, sleep_generator, timeout, on_error, exception_factory, **kwargs)\u001b[0m\n\u001b[1;32m    154\u001b[0m         \u001b[0;32mexcept\u001b[0m \u001b[0mException\u001b[0m \u001b[0;32mas\u001b[0m \u001b[0mexc\u001b[0m\u001b[0;34m:\u001b[0m\u001b[0;34m\u001b[0m\u001b[0;34m\u001b[0m\u001b[0m\n\u001b[1;32m    155\u001b[0m             \u001b[0;31m# defer to shared logic for handling errors\u001b[0m\u001b[0;34m\u001b[0m\u001b[0;34m\u001b[0m\u001b[0m\n\u001b[0;32m--> 156\u001b[0;31m             next_sleep = _retry_error_helper(\n\u001b[0m\u001b[1;32m    157\u001b[0m                 \u001b[0mexc\u001b[0m\u001b[0;34m,\u001b[0m\u001b[0;34m\u001b[0m\u001b[0;34m\u001b[0m\u001b[0m\n\u001b[1;32m    158\u001b[0m                 \u001b[0mdeadline\u001b[0m\u001b[0;34m,\u001b[0m\u001b[0;34m\u001b[0m\u001b[0;34m\u001b[0m\u001b[0m\n",
            "\u001b[0;32m/usr/local/lib/python3.12/dist-packages/google/api_core/retry/retry_base.py\u001b[0m in \u001b[0;36m_retry_error_helper\u001b[0;34m(exc, deadline, sleep_iterator, error_list, predicate_fn, on_error_fn, exc_factory_fn, original_timeout)\u001b[0m\n\u001b[1;32m    212\u001b[0m             \u001b[0moriginal_timeout\u001b[0m\u001b[0;34m,\u001b[0m\u001b[0;34m\u001b[0m\u001b[0;34m\u001b[0m\u001b[0m\n\u001b[1;32m    213\u001b[0m         )\n\u001b[0;32m--> 214\u001b[0;31m         \u001b[0;32mraise\u001b[0m \u001b[0mfinal_exc\u001b[0m \u001b[0;32mfrom\u001b[0m \u001b[0msource_exc\u001b[0m\u001b[0;34m\u001b[0m\u001b[0;34m\u001b[0m\u001b[0m\n\u001b[0m\u001b[1;32m    215\u001b[0m     \u001b[0;32mif\u001b[0m \u001b[0mon_error_fn\u001b[0m \u001b[0;32mis\u001b[0m \u001b[0;32mnot\u001b[0m \u001b[0;32mNone\u001b[0m\u001b[0;34m:\u001b[0m\u001b[0;34m\u001b[0m\u001b[0;34m\u001b[0m\u001b[0m\n\u001b[1;32m    216\u001b[0m         \u001b[0mon_error_fn\u001b[0m\u001b[0;34m(\u001b[0m\u001b[0mexc\u001b[0m\u001b[0;34m)\u001b[0m\u001b[0;34m\u001b[0m\u001b[0;34m\u001b[0m\u001b[0m\n",
            "\u001b[0;32m/usr/local/lib/python3.12/dist-packages/google/api_core/retry/retry_unary.py\u001b[0m in \u001b[0;36mretry_target\u001b[0;34m(target, predicate, sleep_generator, timeout, on_error, exception_factory, **kwargs)\u001b[0m\n\u001b[1;32m    145\u001b[0m     \u001b[0;32mwhile\u001b[0m \u001b[0;32mTrue\u001b[0m\u001b[0;34m:\u001b[0m\u001b[0;34m\u001b[0m\u001b[0;34m\u001b[0m\u001b[0m\n\u001b[1;32m    146\u001b[0m         \u001b[0;32mtry\u001b[0m\u001b[0;34m:\u001b[0m\u001b[0;34m\u001b[0m\u001b[0;34m\u001b[0m\u001b[0m\n\u001b[0;32m--> 147\u001b[0;31m             \u001b[0mresult\u001b[0m \u001b[0;34m=\u001b[0m \u001b[0mtarget\u001b[0m\u001b[0;34m(\u001b[0m\u001b[0;34m)\u001b[0m\u001b[0;34m\u001b[0m\u001b[0;34m\u001b[0m\u001b[0m\n\u001b[0m\u001b[1;32m    148\u001b[0m             \u001b[0;32mif\u001b[0m \u001b[0minspect\u001b[0m\u001b[0;34m.\u001b[0m\u001b[0misawaitable\u001b[0m\u001b[0;34m(\u001b[0m\u001b[0mresult\u001b[0m\u001b[0;34m)\u001b[0m\u001b[0;34m:\u001b[0m\u001b[0;34m\u001b[0m\u001b[0;34m\u001b[0m\u001b[0m\n\u001b[1;32m    149\u001b[0m                 \u001b[0mwarnings\u001b[0m\u001b[0;34m.\u001b[0m\u001b[0mwarn\u001b[0m\u001b[0;34m(\u001b[0m\u001b[0m_ASYNC_RETRY_WARNING\u001b[0m\u001b[0;34m)\u001b[0m\u001b[0;34m\u001b[0m\u001b[0;34m\u001b[0m\u001b[0m\n",
            "\u001b[0;32m/usr/local/lib/python3.12/dist-packages/google/api_core/timeout.py\u001b[0m in \u001b[0;36mfunc_with_timeout\u001b[0;34m(*args, **kwargs)\u001b[0m\n\u001b[1;32m    128\u001b[0m                 \u001b[0mkwargs\u001b[0m\u001b[0;34m[\u001b[0m\u001b[0;34m\"timeout\"\u001b[0m\u001b[0;34m]\u001b[0m \u001b[0;34m=\u001b[0m \u001b[0mremaining_timeout\u001b[0m\u001b[0;34m\u001b[0m\u001b[0;34m\u001b[0m\u001b[0m\n\u001b[1;32m    129\u001b[0m \u001b[0;34m\u001b[0m\u001b[0m\n\u001b[0;32m--> 130\u001b[0;31m             \u001b[0;32mreturn\u001b[0m \u001b[0mfunc\u001b[0m\u001b[0;34m(\u001b[0m\u001b[0;34m*\u001b[0m\u001b[0margs\u001b[0m\u001b[0;34m,\u001b[0m \u001b[0;34m**\u001b[0m\u001b[0mkwargs\u001b[0m\u001b[0;34m)\u001b[0m\u001b[0;34m\u001b[0m\u001b[0;34m\u001b[0m\u001b[0m\n\u001b[0m\u001b[1;32m    131\u001b[0m \u001b[0;34m\u001b[0m\u001b[0m\n\u001b[1;32m    132\u001b[0m         \u001b[0;32mreturn\u001b[0m \u001b[0mfunc_with_timeout\u001b[0m\u001b[0;34m\u001b[0m\u001b[0;34m\u001b[0m\u001b[0m\n",
            "\u001b[0;32m/usr/local/lib/python3.12/dist-packages/google/api_core/grpc_helpers.py\u001b[0m in \u001b[0;36merror_remapped_callable\u001b[0;34m(*args, **kwargs)\u001b[0m\n\u001b[1;32m     76\u001b[0m             \u001b[0;32mreturn\u001b[0m \u001b[0mcallable_\u001b[0m\u001b[0;34m(\u001b[0m\u001b[0;34m*\u001b[0m\u001b[0margs\u001b[0m\u001b[0;34m,\u001b[0m \u001b[0;34m**\u001b[0m\u001b[0mkwargs\u001b[0m\u001b[0;34m)\u001b[0m\u001b[0;34m\u001b[0m\u001b[0;34m\u001b[0m\u001b[0m\n\u001b[1;32m     77\u001b[0m         \u001b[0;32mexcept\u001b[0m \u001b[0mgrpc\u001b[0m\u001b[0;34m.\u001b[0m\u001b[0mRpcError\u001b[0m \u001b[0;32mas\u001b[0m \u001b[0mexc\u001b[0m\u001b[0;34m:\u001b[0m\u001b[0;34m\u001b[0m\u001b[0;34m\u001b[0m\u001b[0m\n\u001b[0;32m---> 78\u001b[0;31m             \u001b[0;32mraise\u001b[0m \u001b[0mexceptions\u001b[0m\u001b[0;34m.\u001b[0m\u001b[0mfrom_grpc_error\u001b[0m\u001b[0;34m(\u001b[0m\u001b[0mexc\u001b[0m\u001b[0;34m)\u001b[0m \u001b[0;32mfrom\u001b[0m \u001b[0mexc\u001b[0m\u001b[0;34m\u001b[0m\u001b[0;34m\u001b[0m\u001b[0m\n\u001b[0m\u001b[1;32m     79\u001b[0m \u001b[0;34m\u001b[0m\u001b[0m\n\u001b[1;32m     80\u001b[0m     \u001b[0;32mreturn\u001b[0m \u001b[0merror_remapped_callable\u001b[0m\u001b[0;34m\u001b[0m\u001b[0;34m\u001b[0m\u001b[0m\n",
            "\u001b[0;31mNotFound\u001b[0m: 404 Publisher Model `projects/generativelanguage-ga/locations/us-central1/publishers/google/models/gemini-1.5-flash-002` was not found or your project does not have access to it. Please ensure you are using a valid model version. For more information, see: https://cloud.google.com/vertex-ai/generative-ai/docs/learn/model-versions"
          ]
        }
      ]
    },
    {
      "cell_type": "markdown",
      "source": [
        "# 실습"
      ],
      "metadata": {
        "id": "RjgR4hLJL0hn"
      }
    },
    {
      "cell_type": "markdown",
      "source": [
        "* 실습1 : ConversationSummaryMemory\n",
        "    * 오늘 하루 동안 한 일을 여러 문장으로 말하고\n",
        "    * 이어서 \"오늘 내가 뭐했지?\"라고 질문하세요.\n",
        "    * 요약된 대화를 통해 LLM이 잘 정리해서 응답하는지 확인하세요."
      ],
      "metadata": {
        "id": "7U2QXJvML0C-"
      }
    },
    {
      "cell_type": "code",
      "source": [
        "# 요약 메모리 생성 (요약용 LLM 필요)\n",
        "memory2 = ConversationSummaryMemory(llm = llm1)\n",
        "\n",
        "# 체인 구성\n",
        "chain2 = ConversationChain(llm = llm1, memory = memory2)"
      ],
      "metadata": {
        "id": "NUZ0ba8JN_tI"
      },
      "execution_count": 42,
      "outputs": []
    },
    {
      "cell_type": "code",
      "source": [
        "print(chain2.run(\"오늘 늦잠을 자서 오전에 있던 특강을 듣지 못했어\"))"
      ],
      "metadata": {
        "colab": {
          "base_uri": "https://localhost:8080/"
        },
        "id": "TfmQUidIOAjU",
        "outputId": "6ad36309-a67e-4d59-c60f-d0e9bd58b81d"
      },
      "execution_count": 43,
      "outputs": [
        {
          "output_type": "stream",
          "name": "stdout",
          "text": [
            "아이고, 늦잠이라서 아침 특강을 놓치셨다니 조금 안타까우시겠어요! 😕  \n",
            "어떤 특강이었는지 조금 더 구체적으로 말씀해 주시면, 어떻게 보충 공부를 할 수 있을지 맞춤형 팁을 드릴 수 있을 것 같아요. 예를 들어:\n",
            "\n",
            "| 구분 | 예시 내용 | 보충 방법 |\n",
            "|------|----------|-----------|\n",
            "| **강의 제목** | “인공지능 개론” | 강의 녹음 파일이 있는지 확인해 보세요. |\n",
            "| **강의 날짜** | 9월 16일 (월요일) | 해당 날 수업 메이킹 노트 혹은 WIKI를 찾아보시는 게 좋습니다. |\n",
            "| **주요 주제** | 머신러닝 기본 개념, 선형 회귀, 분류 알고리즘 | Khan Academy, Coursera 같은 무료 자료에서 같은 주제 탐색해 보세요. |\n",
            "| **필요 자료** | 슬라이드, 예제 코드 | 교수님이 공개한 슬라이드 혹은 GitHub 저장소가 있을 수 있으니, 강의실 포털을 확인해 보세요. |\n",
            "\n",
            "### 보충 학습을 위한 3가지 팁\n",
            "\n",
            "1. **녹음·영상 재생**  \n",
            "   - 대부분의 대학 강의는 녹음 파일이 공유됩니다.  \n",
            "   - **유튜브**같은 플랫폼에서 수업 주제를 검색해 유사 강의를 찾아보는 것도 큰 도움이 됩니다.\n",
            "\n",
            "2. **동료와의 스터디**  \n",
            "   - 수업을 들은 친구에게 수업 노트와 주요 질문을 물어보세요.  \n",
            "   - 1~2시간 짧은 스터디를 조직하여 서로 질문을 주고받는 것이 학습 효과를 극대화합니다.\n",
            "\n",
            "3. **교수님께 직접 질의**  \n",
            "   - 방학이겠지만, 교수님께 보충 자료가 있는지 혹은 이번 주에 어떤 내용을 다룰지 물어보세요.  \n",
            "   - 보통 교수님은 수업 자료를 학내 포털에 업로드하고, 궁금한 점이 있으면 언제든지 물어볼 수 있도록 합니다.\n",
            "\n",
            "### 궁금한 점?\n",
            "\n",
            "- **특히 놓친 내용이 중요해 보이신가요?**  \n",
            "- **강의 자료는 이미 공유되었는지 알고 계신가요?**  \n",
            "- **다음 주 수업에 어떤 주제가 예정되어 있는지 알고 싶으신가요?**\n",
            "\n",
            "어떤 부분이 가장 큰 도움이 되는지 말씀해 주시면, 그에 맞춰 추가 자료를 검색해서 바로 보내드릴 수 있어요. 🎓💡  \n",
            "지금 바로 어떻게 시작할지 모르겠다면, 가장 간단히 가장 먼저 이 세 가지 팁을 차근차근 시도해 보시는 걸 추천드려요! 🚀\n"
          ]
        }
      ]
    },
    {
      "cell_type": "code",
      "source": [
        "print(chain2.run(\"오늘은 운동하고, 친구랑 밥도 먹고, 강의도 들었어.\"))"
      ],
      "metadata": {
        "colab": {
          "base_uri": "https://localhost:8080/"
        },
        "id": "BoXbQJn6OEox",
        "outputId": "fa25e97b-ca21-4530-a6d9-b7052a71f9f8"
      },
      "execution_count": 44,
      "outputs": [
        {
          "output_type": "stream",
          "name": "stdout",
          "text": [
            "That’s a solid, balanced day! 🚴‍♂️💪 A quick workout for a clear head, a tasty meal shared with a friend for some social buzz, and a lecture to keep your knowledge train on the rails. 🎓\n",
            "\n",
            "---\n",
            "\n",
            "### How I can help you make the most of the day\n",
            "\n",
            "| Goal | Quick How‑to | Why It Works |\n",
            "|------|--------------|--------------|\n",
            "| **Catch up on the lecture** | 1️⃣ Grab the recording linked in your learning portal.<br>2️⃣ Play it once at normal speed, noting textbook references.<br>3️⃣ Re‑play at 1.25× focusing on any tough sections. | Rehearsing at a slightly higher speed forces active listening and solidifies concepts. |\n",
            "| **Refresh your notes** | 1️⃣ Color‑code key points (e.g., yellow for definitions, blue for examples).<br>2️⃣ Add sticky‑note annotations (“ask Professor X next class”). | Visual cues speed up retrieval and prompt deeper engagement. |\n",
            "| **Plan a post‑lecture review** | 1️⃣ Schedule 30 min on the same day for a quick recap. <br>2️⃣ Include a 10‑minute “quick quiz” for yourself. | Spaced review combats forgetting right before the next class. |\n",
            "\n",
            "---\n",
            "\n",
            "### Quick 3‑step “Action Plan” (in case you want to keep momentum)\n",
            "\n",
            "1. **Review the recording**  \n",
            "   - Stick a timer on your phone to pause every 5‑minute segment.  \n",
            "   - Jot a question like: *“Why is Y established before Z?”*  \n",
            "\n",
            "2. **Connect with classmates**  \n",
            "   - Use a group chat or a study‑app (e.g., Discord, Slack).  \n",
            "   - Run a “has anyone <link> sticky?” check‑in.  \n",
            "\n",
            "3. **Drop a question to the professor**  \n",
            "   - Send a concise email: *“In today’s lecture, you mentioned X… Could you clarify Y?.”*  \n",
            "   - Ask for any suggested reading to deepen understanding.\n",
            "\n",
            "---\n",
            "\n",
            "### What’s next for you?\n",
            "\n",
            "* Did any portion of the lecture spark a fresh question?  \n",
            "* Are there any assignments that need your immediate attention?  \n",
            "* How do you usually absorb new material—mind‑mapping, written summaries, visual diagrams?  \n",
            "\n",
            "Feel free to share your thoughts, and I’ll tailor more precise tactics—maybe a quick study‑guide template or a set of practice problems. \n",
            "\n",
            "Looking forward to hearing what’s on your agenda! 🌟\n"
          ]
        }
      ]
    },
    {
      "cell_type": "code",
      "source": [
        "print(chain2.run(\"오늘 오후 2시부터는 커리큘럼에 맞게 강의를 들으면서 시간을 보냈어\"))"
      ],
      "metadata": {
        "colab": {
          "base_uri": "https://localhost:8080/"
        },
        "id": "cP0Oh1GdOE_X",
        "outputId": "70028f8d-4cc2-4f4c-9ea3-2c0f13efae25"
      },
      "execution_count": 45,
      "outputs": [
        {
          "output_type": "stream",
          "name": "stdout",
          "text": [
            "Sounds like you’re staying on track—great job! 🎉  \n",
            "You spent 2 pm–3 pm listening to the lecture. Let’s make sure you get the most out of it and stay ahead of the next session. Below is a quick “next‑step” guide so your review feels effortless:\n",
            "\n",
            "| Step | What to Do | Why it Helps | Quick How‑to |\n",
            "|------|------------|--------------|--------------|\n",
            "| 1️⃣ | **Grab the recording** (if available) | Allows you to pause, replay, or skip sections you missed or found challenging. | Most platforms have a “download” or “audio” button. If not, ask an instructor or a friend to record it for you. |\n",
            "| 2️⃣ | **Create a short summary** (5‑10 min) | Turning the key points into your own words cements memory and highlights gaps. | Use a note‑app like OneNote, Notion, or a simple text file. Outline the main ideas in bullet form. |\n",
            "| 3️⃣ | **Mark “to‑ask” moments** | Highlight any confusing points that you can clarify later. | Tag them in your notes (e.g., ❓ or 🔍). |\n",
            "| 4️⃣ | **Schedule a quick review** (next 30 min) | Repeating material soon after hearing it keeps it fresh. | Add a “Review” block to your calendar right after the lecture or next day. |\n",
            "| 5️⃣ | **Connect with classmates** | Collaboration often surfaces insights you might miss alone. | Ping one or two peers on group chat, or set up a brief meet‑up on Teams/Zoom. |\n",
            "\n",
            "### 🎯 3‑Step Action Checklist for Today\n",
            "\n",
            "| # | Action | Timing | Note |\n",
            "|---|--------|--------|------|\n",
            "| 1 | **Watch the recording** | 5 min after your lecture | Focus on unclear sections. |\n",
            "| 2 | **Reach out to a classmate** | Same day | Ask for their notes or discuss a tough concept. |\n",
            "| 3 | **Draft 3 questions for the professor** | End of the day | Keep them concise and tied to the material you struggled with. |\n",
            "\n",
            "---\n",
            "\n",
            "### ✅ Quick “What You Can Do Now”\n",
            "\n",
            "* **5‑min pause** – Jot down the top 3 take‑aways from the lecture (in your own words).  \n",
            "* **10‑min browse** – If the professor posted slides or supplementary readings, skim them for deeper context.  \n",
            "* **15‑min review** – Play the lecture through once, highlighting any moments you didn’t fully understand and noting them in your summary.  \n",
            "\n",
            "---\n",
            "\n",
            "### ✨ Now, let’s keep the momentum going!\n",
            "\n",
            "1. **How did the lecture go?**   \n",
            "   - Any particular topic that sparkled or confused you?  \n",
            "2. **Notes status** – Did you take minutes? If yes, what’s your next step for organizing them?  \n",
            "3. **Upcoming assignments** – Any upcoming quiz or project that’s tied to today’s lecture?  \n",
            "4. **Preferred study method** – Do you like visual aids (mind‑maps, diagrams), textual summaries, or audio playback?  \n",
            "\n",
            "Drop your thoughts or questions—whether it’s a concept you’re stuck on, a resource you’d like recommendation on, or just a quick “I need a study habit pick”—and I’ll help craft a personalized plan. Happy studying! 🚀\n"
          ]
        }
      ]
    },
    {
      "cell_type": "code",
      "source": [
        "print(chain2.run(\"오늘 오후 5시 30분에는 다시 프로젝트에 대한 마무리 회의를 진행했어\"))"
      ],
      "metadata": {
        "colab": {
          "base_uri": "https://localhost:8080/"
        },
        "id": "euIzDoEiOFSQ",
        "outputId": "12da32c1-dd7f-4fc4-d09e-2f7ce8a850f2"
      },
      "execution_count": 46,
      "outputs": [
        {
          "output_type": "stream",
          "name": "stdout",
          "text": [
            "Hey there! 🎉\n",
            "\n",
            "It sounds like you wrapped up both your learning sessions and your project meetings in one productive day—nice juggling act! Let’s unpack that 5:30 p.m. meeting the same way we unpacked the lecture yesterday, and then keep the momentum going.\n",
            "\n",
            "---\n",
            "\n",
            "## 1️⃣ Quick recap – your “5:30 p.m. project wrap‑up”\n",
            "\n",
            "| Item | What I can imagine happened | Why it matters |\n",
            "|------|---------------------------|----------------|\n",
            "| **Participants** | You, the rest of the project core team, maybe a stakeholder or two | Knowing who “dialed in” helps with next‑step accountability. |\n",
            "| **Agenda** | Final status check, allocation of last‑mile tasks, confirmation of timeline extensions (if any) | An agenda keeps the room on track and makes minutes easy to draft. |\n",
            "| **Key Decisions** | (1) Who’ll finish the last prototype? (2) What feedback will be pulled into the final version? (3) When is the next sync? | These decisions become your to‑do list for the next day. |\n",
            "| **Action Items** | Typically, one or two high‑priority tasks + a “questions → follow‑up” queue | Turn them into tasks in your project tool or Trello card. |\n",
            "\n",
            "If you’re curious, you can grab meeting minutes from the chat record, or you can quickly jot them down while the conversation’s fresh—just a few bullet points, no need to write a novel.\n",
            "\n",
            "---\n",
            "\n",
            "## 2️⃣ Your 5‑Step “Next‑Step” Action Sheet (now including the meeting)\n",
            "\n",
            "1. **Record & Capture** – Save the meeting transcript (if you used Google Meet, Zoom, etc.) or copy the chat log.  \n",
            "2. **Summarize** – Write 1‑2 sentences per agenda item summarizing decisions: “Team agreed on PN9A for the prototype, deadline extends to 16th.”  \n",
            "3. **Flag Questions** – Highlight any uncertainties; e.g., “Does the client want a color theme change? – ask Sarah.”  \n",
            "4. **Schedule a Quick Review** – Block a 15‑minute slot tomorrow to validate the minutes with the team or to solo review.  \n",
            "5. **Connect with Classmates / Stakeholders** – If the project overlaps with your course (think design thinking or product mgmt), ping a peer or professor to synchronize learning and project needs.\n",
            "\n",
            "---\n",
            "\n",
            "## 3️⃣ Three‑Step Daily Checklist (updated for the rest of today)\n",
            "\n",
            "| Step | What to Do | Why it helps |\n",
            "|------|------------|--------------|\n",
            "| **1. Watch the recording** (link from the meeting) | Capture what wasn’t typed out. | Some insights stay in the audio (tone, emphasis). |\n",
            "| **2. Reach out to a team member** (or classmate) for quick clarifications | “I’m still unclear about the deliverables for PN9A.” | Keeps knowledge fluid; reduces late‑night deciphering. |\n",
            "| **3. Draft 3‑5 targeted questions** for the professor or project sponsor | “What is the priority for the next sprint?” | Positions you as proactive and ensures you get the data you need. |\n",
            "\n",
            "---\n",
            "\n",
            "## 4️⃣ Quick‑Run “What You Can Do Now” (sat‑through‑you’re-busy guide)\n",
            "\n",
            "1. **Take a 5‑min pause note** – Jot the headline decision: “Prototype core finished, timeline extended.”  \n",
            "2. **Skim one supplementary read** – If the project uses a specific framework (e.g., Lean Canvas), glance at that appendix.  \n",
            "3. **Run a 15‑min review** – Check that all action items are pushed to project management or placed in your personal to‑do list.  \n",
            "\n",
            "---\n",
            "\n",
            "## 5️⃣ Time to Reflect\n",
            "\n",
            "I’d love to hear some coffee‑time musings from you:\n",
            "\n",
            "- **How did the lecture feel in terms of relevance to your project?** Anything you’re excited to apply?  \n",
            "- **Note‑taking progress** – Did you chunk your notes in a way that makes a future review painless?  \n",
            "- **Upcoming assignments** – Any loose ends you want help prioritizing?  \n",
            "- **Preferred study method** – Visual mapping or bullet-style topics? Knowing your sweet spot lets me curve‑tailor the next plan.\n",
            "\n",
            "---\n",
            "\n",
            "### 🎯 What’s next from here?\n",
            "\n",
            "1. **Create a quick “meeting minutes” doc** that talks subtitles: *Decision*, *Action item*, *Owner*, *Due date*.  \n",
            "2. **Push the action items** into your tool (Notion, Asana, Trello).  \n",
            "3. **Set a 24‑hour reminder** for any follow‑up questions you flagged.  \n",
            "4. **Slide into a 30‑minute sync** with your project leads tomorrow – keep it light: “Quick touch‑point on PN9A status.”  \n",
            "5. **Overlay your learning** – If the lecture had a takeaway that meshes with the project (e.g., a user persona framework), plan to weave that in by the next meeting.\n",
            "\n",
            "If you need help drafting that minutes template, or if you’re unsure how to align a lecture concept directly into the sprint backlog, just let me know. 🚀 Happy to keep the conversation going and the energy high!\n"
          ]
        }
      ]
    },
    {
      "cell_type": "code",
      "source": [
        "print(chain2.run(\"오늘 오후 10시에는 ai agent 수업의 과제를 하고 있어\"))"
      ],
      "metadata": {
        "colab": {
          "base_uri": "https://localhost:8080/"
        },
        "id": "6vI5rGpaOFru",
        "outputId": "e67714f5-32ab-4747-ed2c-29fbef2a19ae"
      },
      "execution_count": 47,
      "outputs": [
        {
          "output_type": "stream",
          "name": "stdout",
          "text": [
            "안녕하세요! 🌟\n",
            "\n",
            "요약하자면, **오늘은**  \n",
            "- 아침엔 운동으로 에너지 충전  \n",
            "- 점심엔 친구와 즐거운 식사  \n",
            "- 오후엔 강의와 5:30‑pm 프로젝트 회의  \n",
            "- 그리고 **오후 10시부터는 AI 에이전트 과제**가 있다는 것이죠.  \n",
            "\n",
            "굉장히 풍성한 일정이네요! 😄\n",
            "\n",
            "---\n",
            "\n",
            "## 1️⃣ 5:30‑pm 프로젝트 회의 체크업\n",
            "\n",
            "### 참여자\n",
            "- **팀장 / PM** (최종 결정권자)  \n",
            "- **프론트엔드** (UI/UX 피드백 담당)  \n",
            "- **백엔드** (프로토타입 구현 담당)  \n",
            "- **UX 리서처** (사용자 피드백 요약)  \n",
            "\n",
            "### 예상 안건\n",
            "| 항목 | 세부 내용 | 기대 결과 |\n",
            "|------|-----------|-----------|\n",
            "| **프로토타입 마무리** | 백엔드가 남은 기능 구현, 프론트엔드가 UI 완성 | 1주 내에 프로토타입 테스트 준비 |\n",
            "| **피드백 반영** | 사용자 테스트 결과를 기반으로 우선순위 재조정 | 다음 스프린트에 반영 |\n",
            "| **다음 회의 일정** | 현재 주 목표를 재확인하고 2주 후 정기 점검 SCHEDULE | 모두가 명확한 일정 소유 |\n",
            "| **리소스 필요 여부** | 백엔드 추가 인력 여부 | 필요 시 팀에 요청 |\n",
            "\n",
            "### 핵심 액션 아이템\n",
            "| # | 액션 | 책임자 | 마감 |\n",
            "|---|------|--------|------|\n",
            "| 1 | 회의 녹화 저장 | PM | 회의 직후 |\n",
            "| 2 | 결정 사항 요약 문서 작성 | 메모 담당 | 회의 종료 2시간 이내 |\n",
            "| 3 | 문의 사항(불확실한 포인트) 리스트업 | 참가자 전체 | 회의 종료 3시간 이내 |\n",
            "| 4 | 다음 스프린트 티켓 생성 | PM | 회의 종료 6시간 이내 |\n",
            "| 5 | 팀원과의 개별 15분 리플렉션 세션 | 팀원 간 | 회의 후 1일 이내 |\n",
            "\n",
            "> **팁**: 회의가 끝난 직후 바로 녹화를 저장해 두면, 나중에 놓친 부분도 빠르게 확인할 수 있어요.\n",
            "\n",
            "---\n",
            "\n",
            "## 2️⃣ 오늘의 5‑단계 “Next‑Step Action Sheet”\n",
            "\n",
            "| 단계 | 세부 내용 | 목적 |\n",
            "|------|-----------|------|\n",
            "| **1️⃣ 회의 녹화 보기** | 회의 완료 후 30분 이내에 화면 전환 | 주요 포인트 재확인 |\n",
            "| **2️⃣ 결정 사항 요약** | 슬라이드, 회의록, 워드 문서 등 | 팀원 모두가 동일한 이해 |\n",
            "| **3️⃣ 질문/불확실성 정리** | 체크리스트 형태로 정리 | 디테일 해당 담당자에게 투입 |\n",
            "| **4️⃣ 빠른 리뷰 회의** | 30분 간단 회의, 발표 → 정리 | 다음 주에 바로 반영 |\n",
            "| **5️⃣ 팀/클래스 커넥션** | Slack, Teams, 클래스 포럼에 공유 | 더 넓은 피드백 수집 |\n",
            "\n",
            "이 흐름을 따르면, **프로젝트와 과제** 사이의 정보 방해 없이 스무스하게 진행할 수 있어요.\n",
            "\n",
            "---\n",
            "\n",
            "## 3️⃣ 10시 AI 에이전트 과제 체크리스트\n",
            "\n",
            "| 태스크 | 상세 | 상태 |\n",
            "|--------|------|------|\n",
            "| **A1** | 과제 설문 조사 진행 | 완료 |\n",
            "| **A2** | 예제 코드를 실행해 봄 | 진행 중 |\n",
            "| **A3** | 요구 사항 분석서 작성 | 대기 |\n",
            "| **A4** | 모델 설계 (유스케이스, 입력/출력 정의) | 대기 |\n",
            "| **A5** | 구현 및 테스트 | 대기 |\n",
            "| **A6** | 문서화 (README, 코드 노트) | 대기 |\n",
            "\n",
            "**우선 순위**:  \n",
            "- **A2**(코드 실행)를 10:00‑10:30에 끝내고,  \n",
            "- **A3**(요구 사항)에 10:30‑11:00까지 집중.  \n",
            "\n",
            "이니셔티브 플랜을 이렇게 나눠 보면, 업무 간 공백 없이 효율적으로 과제와 프로젝트를 병행할 수 있어요.\n",
            "\n",
            "---\n",
            "\n",
            "## 4️⃣ 반성 & 연결\n",
            "\n",
            "**강의 내용**  \n",
            "- “AI 에이전트의 의사결정 구조”에 대해 다루었죠?  \n",
            "- 이 구조를 과제에 어떻게 적용할 수 있는지 고민해봐요.\n",
            "\n",
            "1. **의사결정 트리**를 과제 모델에 추가 → 상황에 따라 동작을 전환.\n",
            "2. **피드백 루프**를 설계 → 사용자 피드백으로 모델 업데이트.\n",
            "3. **실험 로그**를 기록 → 추후 튜닝에 활용.\n",
            "\n",
            "---\n",
            "\n",
            "## 5️⃣ 지금 할 수 있는 것 (지금 바로)\n",
            "\n",
            "1. **10:00** - 과제 코드를 한 번 실행해 ⚡️  \n",
            "2. **10:15** - 실행 결과를 메모장에 기록 → 나중에 논의 자료로  \n",
            "3. **10:45** - 강의 핵심 포인트를 요약해서 붙여 두고, 해당 포인트가 과제에 어떻게 쓰일지 적어두기  \n",
            "4. **11:15** - 5:30 PM 회의 전 미리 회의록에 과제와 연관된 점을 덧붙여 프레젠테이션 준비  \n",
            "\n",
            "---\n",
            "\n",
            "## 6️⃣ 다음 스텝 알림 (1시간 뒤)\n",
            "\n",
            "| 타임 | 메모 | 리마인더 표시 |\n",
            "|------|------|----------------|\n",
            "| 11:00 | 회의 녹화 확인 | 🔔 |\n",
            "| 13:00 | 과제 코드 리뷰 | 🔔 |\n",
            "| 17:00 | 프로젝트 확인 | 🔔 |\n",
            "\n",
            "**마지막으로**  \n",
            "- 오늘 10시 과제에 집중하되, **5:30 PM 회의 내용** 도 어느정도 함께 반영해서 과제에 연계해보세요.  \n",
            "- 무엇보다 **휴식**을 잊지 마세요—두 시간에 한 번 짧은 스트레칭이나 물 한잔이 큰 차이를 만들 수 있어요! 🚰\n",
            "\n",
            "오늘도 대단한 하루를 보낼 준비가 되셨나요? 같이 힘내봐요! 💪\n"
          ]
        }
      ]
    },
    {
      "cell_type": "code",
      "source": [
        "print(chain2.run(\"오늘 내가 뭐했지?\"))"
      ],
      "metadata": {
        "colab": {
          "base_uri": "https://localhost:8080/"
        },
        "id": "eYOirav2OF_Y",
        "outputId": "aa13ba4d-3ce0-4830-cb0f-7c10f31ec211"
      },
      "execution_count": 48,
      "outputs": [
        {
          "output_type": "stream",
          "name": "stdout",
          "text": [
            "**정리해 보자면**\n",
            "\n",
            "- **오전**  \n",
            "  - **운동** – 7:00‑8:00에 체육관에서 45분간 웨이트와 짧은 HIIT 세션을 마쳤죠.  \n",
            "  - **아침식사** – 콜라겐 스무디와 스크램블 에그를 먹으며 탄수화물·단백질의 균형을 맞췄습니다.  \n",
            "  - **출근** – 직장까지 18분, 이동 중에 가짜 팟캐스트 *“AI와 일상”*을 30분 듣고 잠시 노트에 키워드 정리했습니다.  \n",
            "\n",
            "- **점심**  \n",
            "  - **친구와의 점심** – 12:15, 동네 베이커리에서 ‘바베큐 치킨 마카로니’와 딸기 라떼를 시식했습니다.  \n",
            "  - 대화 주제는 “다음 여름에 가고 싶은 여행지”와 “올해 만난 최고의 책”이었고, 두 번째 책에 관한 서적 조언은 아직 남은 필수 독서 목록에 추가했습니다.  \n",
            "\n",
            "- **오후**  \n",
            "  - **AI‑Agent 강의** – 1:30‑2:45, “AI-에이전트의 의사결정 구조론”을 듣습니다. (두개 주요 포인트: 1) 하이브리드 결정 트리와 2) 실시간 강화학습 피드백 루프)  \n",
            "  - **5:30‑pm 프로젝트 〰️마무리 회의**  \n",
            "    - **참석자**: 당신(팀 리드), 박진아(프론트엔드), 유세준(백엔드), 김지른(UX)  \n",
            "    - **안건**:  \n",
            "      1. **프로토타입 완성** – 3분에 데모 시연 (미리 녹음)  \n",
            "      2. **피드백 수렴** – 사용자 테스트 초기 결과 토론  \n",
            "      3. **다음 회의 일정** – 이번 주 금요일 3시(다음 스프린트)  \n",
            "      4. **자원 및 인력 할당** – 마이크로서비스 리팩터링 일정 재조정  \n",
            "    - **핵심 행동 아이템**  \n",
            "      - 회의 녹음 저장 & 문서화 (슬랙 파일 공유)  \n",
            "      - 다가오는 질문 리스트 정리 & 사전 답변 준비  \n",
            "      - 스프린트 리뷰 + 일정 재조정  \n",
            "      - 기억을 나누고 **찜**(Task Tracking) 업데이트  \n",
            "\n",
            "- **저녁**  \n",
            "  - **AI‑Agent 과제** – 10:00 pm  \n",
            "    - **체크리스트**  \n",
            "      1. **설문조사 실행** – 10:05  \n",
            "      2. **코드 실행** – 10:10 (최대 5분)  \n",
            "      3. **요구사항 문서 작성** – 10:20  \n",
            "      4. **모델 설계 도식화** – 10:35  \n",
            "      5. **구현** – 11:00 (원본 코드 열어 두었습니다)  \n",
            "      6. **문서화** – 12:00  \n",
            "    - **우선 순위**: 코드를 먼저 실행하고 결과를 기록한 뒤, 실제 요구사항 도서에 바로 옮겨 적습니다.  \n",
            "    - **강의 연결 포인트**:  \n",
            "      - **결정 트리**: 모델에 서브태스크 할당 시에 사용  \n",
            "      - **피드백 루프**: 포인트 2에서 받은 사용자 피드백을 바로 모델에 반영  \n",
            "      - **실험 로그**: 파이프라인에서 자동 생성되는 로그를 향후 모델 튜닝에 활용  \n",
            "\n",
            "- **지금 이 순간**  \n",
            "  - **“지금 할 일”**  \n",
            "    1. 코드 실행, 결과를 바로 말풍선에 기록  \n",
            "    2. 강의 포인트 중 ‘의사결정 구조’에 관한 핵심 아키텍처 스케치를 손으로 그려보기 (5분)  \n",
            "    3. 회의 노트에 “질문 목록” 항목 추가 (스프링 스프린트 논의 이후)\n",
            "\n",
            "- **나중에 검토할 일정**  \n",
            "  - 18:00 – 회의 녹음 다시 정독, 분류  \n",
            "  - 22:30 – 코드 실행 결과 요약 및 모델 결과 반영  \n",
            "  - 23:55 – 과제 마무리 후, 전체 일정 스프래드시트에 업데이트  \n",
            "\n",
            "**정리**:  \n",
            "- **운동 → 점심(친구와) → 강의 → 회의 → 과제**  \n",
            "- 일장은 극히 생산적이었으며, 회의와 과제에서 제시된 단계적 행동 아이템에 따라서 오늘은 곧 “완 완료” 단계에 들어갈 것입니다.  \n",
            "- 최종 목표는 **“AI‑에이전트 프로젝트를 정상 궤도에 올리는 것”**이니, 아래 고객 요청에 따라 1단계 실행을 먼저 완료하고, 이후 전체 플로우를 세부화하면 됩니다.\n",
            "\n",
            "**다음에 할 일**  \n",
            "훌륭한 하루였으니, 오늘 한 일들을 반영해 “이상했던 것”이 실제로 성과를 낸 지관한 해시(‘#today_in_review’)를 인스타그램에 올리고, 동료에게 DM으로 회의 사진 공유해 보세요. 😊\n"
          ]
        }
      ]
    },
    {
      "cell_type": "markdown",
      "source": [
        "* 실습2 : ConversationBufferWindowMemory\n",
        "    * k를 임의로 설정하고,\n",
        "    * 좋아하는 영화, 좋아하는 음악, 좋아하는 책 등 여러 대화를 한 다음\n",
        "    * 첫번째 나눈대화에 대해서 질문하기"
      ],
      "metadata": {
        "id": "DxMIIx2OMF5r"
      }
    },
    {
      "cell_type": "code",
      "source": [
        "k = 4\n",
        "\n",
        "memory3 = ConversationBufferWindowMemory(k = k)\n",
        "chain3 = ConversationChain(llm = llm1, memory = memory3)"
      ],
      "metadata": {
        "id": "oXJGXJzlLk_0"
      },
      "execution_count": 49,
      "outputs": []
    },
    {
      "cell_type": "code",
      "source": [
        "print(chain3.run(\"나는 해피엔딩인 영화가 좋더라\"))\n",
        "print('-'*100)"
      ],
      "metadata": {
        "colab": {
          "base_uri": "https://localhost:8080/"
        },
        "id": "AynAoTezMz3W",
        "outputId": "85d1d9aa-f582-4d16-bc71-c3c908e8bea9"
      },
      "execution_count": 50,
      "outputs": [
        {
          "output_type": "stream",
          "name": "stdout",
          "text": [
            "아, 해피엔딩이 정말 기분 좋죠! 🎬  \n",
            "혹시 **장르**는 정해두셨나요? 로맨스, 판타지, 액션, 코미디, 드라마… 어느 하나라도 편하시면 그쪽에 맞춰 몇 편 더 추천드릴게요.  \n",
            "아래는 해피엔딩이 확실한 영화 몇 편을 장르별로 모아봤어요 😄\n",
            "\n",
            "| 장르 | 영화 제목 | 개봉 연도 | 감독 | 주요 배우 | 해피엔딩 포인트 |\n",
            "|------|-----------|-----------|------|-----------|-----------------|\n",
            "| 로맨스 | **라라랜드 (La La Land)** | 2016 | 데이미언 셔젤 | 라이언 고슬링, 엠마 스톤 | 두 주인공이 서로의 꿈을 존중하며, 서로에게 한 걸음 더 다가서면서도 개인의 인생에서 성공을 거둔 모습이 따뜻하게 그려짐 |\n",
            "| 로맨스 | **노트북 (The Notebook)** | 2004 | 닐 로텐버그 | 라이언 고슬링, 레이첼 맥아담스 | 실연 후 서로 재회하는 감동적인 결말, 사랑과 기억이 함께한다는 따뜻함 |\n",
            "| 판타지 | **닥터 스트레인지 (Doctor Strange)** | 2016 | 스콧 데이비드슨 | 베네딕트 카밍 | 우주와 현실을 넘나들며 교수에게 주어진 새로운 시각과 자기 수용이 결합해 결국 힐링과 책임을 다하는 해피엔딩 |\n",
            "| 판타지 | **해리 포터 시리즈** (특히 4부 “불사조 기사단”) | 2007 | 크리스 콜럼버스 | Daniel Radcliffe, Emma Watson 등 | 친구와 동료와의 유대가 강화되고, ‘어둠’이 일시적으로 꺾인 세상에서 기쁨을 찾아 끝까지 전진 |\n",
            "| 액션 | **레드 소원 (The Force Awakens)** | 2015 | 존 스미스 | 라이언 재든, 제시카 알덴 | 케빈이 실제로 살아있는 상황에 좀 더 깊은 의미를 부여하며, 가족과의 재회로 준비된 해피엔딩 |\n",
            "| 액션 | **아멜리 (Mad Max: Fury Road)** | 2015 | 조지 밀러 | 토니 로빈스, 브래드 밀리 | 모두가 서로에게 솔직해지고, 결국 새로운 자유를 찾게 되는 감동적 결말 |\n",
            "| 코미디 | **더 파이브(ICURE)** | 2016 | 론 드레퍼 | 브라이언 크레스트에, 안젤라 부시 | 정직과 열린 마음으로 서로를 이해했을 때 결국 웃음으로 풀리는 해피엔딩 |\n",
            "| 드라마 | **아포함기 (The Imitation Game)** | 2014 | 댄 미들먼 | 맷 데이먼, 엠마 노튼 | 해피엔딩이 아니라 고통과 희생을 뒤통수로 감싸준 다이어리 같은 결말, 하지만 그 결론은 독자적인 존경과 존엄성을 회복하는 데 반영 |\n",
            "| 애니메이션 | **토이 스토리 4** | 2019 | 존 라이트 | (음성: 토니 로빈스, 덴젤 워싱턴) | 로에스 코터가 처음에는 살면서도 마지막엔 우정과 가족, 어른이 된캐릭터에게 필요한 상처 치료해주는 따뜻한 메시지 |\n",
            "| 로맨스/드라마 | **타이타닉** | 1997 | 제임스 카메론 | 케이트 윈슬렛, 레오나르도 디카프리오 | 비극적인 사건에도 주인공들이 서로를 지지하고 사랑해불가분이 되는 상징이 해피엔딩의 분위기를 조금 더 따뜻하게 띄움 |\n",
            "\n",
            "음, 이 중에서 특히 마음에 드는 영화가 있을까요? 혹은 **특정 주제(예: 결혼, 성장, 가족)** 로 더 깊이 다뤄보고 싶으신가요? 제가 조금 더 맞춤형으로 추천해 드릴게요. \n",
            "\n",
            "- **아마도** *첫 사랑*을 주제로 한 작품을 찾고 싶다면...\n",
            "- **친구와 일상**을 공유하고 싶다면...\n",
            "- **모험과 성장**을 강조한 극을 찾고 싶다면...\n",
            "\n",
            "언제든지 알려주시면 더 세부적인 정보를 드릴게요!\n",
            "----------------------------------------------------------------------------------------------------\n"
          ]
        }
      ]
    },
    {
      "cell_type": "code",
      "source": [
        "print(chain3.run(\"나는 자서전을 읽는게 좋아\"))\n",
        "print('-'*100)"
      ],
      "metadata": {
        "colab": {
          "base_uri": "https://localhost:8080/"
        },
        "id": "ojMIGirZNOsV",
        "outputId": "2ee4beda-c0e2-442f-fe98-dacb0ac06181"
      },
      "execution_count": 51,
      "outputs": [
        {
          "output_type": "stream",
          "name": "stdout",
          "text": [
            "아, 자서전은 인물의 삶을 한 줄 한 줄 그려내는 기도하는 거 같아요. 혹시 특정 분야(예: 예술가, 정치가, 과학자, 사업가 등)나 시대에 관심이 많으신가요? 아래에 몇 가지 잡다한 범주의 대표적 자서전을 정리해 두었으니, 흥미를 느낄 만한 작품이 있으면 말씀해 주세요. 그 작품이 아니면 꼭 조정해 드릴게요!  \n",
            "\n",
            "---\n",
            "\n",
            "## 1️⃣ 예술·창작계  \n",
            "| 제목 | 저자 | 출판연도 | 핵심 내용 | 왜 읽을까? |\n",
            "|------|------|-----------|----------|------------|\n",
            "| **‘맨마루’ (The Life of a New York City Artist)** | 엘리자 \"돌보\" 알렌던 | 2015 | 뉴욕 주거비용이 폭등하면서 30대 초반이 회화, 글, 동영상 등 다양한 예술로 지내는 일상을 담았다. | 도시와 예술, 가정과 사랑, 경제와 창작이 비상치열하게 교차하는 문제를 흥미롭게 보여줍니다. |\n",
            "| **‘말을 들려주는 인간’ (Speak to the Human)** | 노먼 엘리어트 | 1999 | 미국 라디오 방송인, 시점의 살아나게 하고, 아이디어와 전통 주제들에 대한 딴세계적인 시를 캐릭터화 했다. | 독창적인 목소리와 내러티브 구조를 통해, “작가의 언어”를 새롭게 체감할 수 있습니다. |\n",
            "| **‘마음가짐: 일상 속 밤의 회복’ (Mindful Matter)** | 라미타하 시완 | 2017 | 디지털 시대의 압박 속에서도 창작을 깨달으려는 소극적 마케팅계에서 인간적 이야기를 들려준다. | “작가가 늘 금은량을 고양하는 도구”를 경험할 수 있습니다. |\n",
            "\n",
            "> 👉 **미국 감독 피터·존스 (Peter Jones)**의 \"내 삶을 아트로\" (내튐러), 2019년 발간되었으며 그는 영화, 전람회, TV 출연 등 다양한 매체를 통해 예술적 이야길 공유합니다.\n",
            "\n",
            "## 2️⃣ 과학·기술  \n",
            "| 제목 | 저자 | 출판연도 | 핵심 내용 | 왜 읽을까? |\n",
            "|------|------|-----------|----------|------------|\n",
            "| **'한 조각의 나노' (A Slice of Nanotube)** | 김성정 | 2003 | 대한민국 최초의 ‘나노기술’ 연구자로서 실험실, 대학교, 그리고 스타트업으로의 전환 과정. | 실험실의 신비 함상과 기술의 사회적 인지 및 활용을 목도할 수 있습니다. |\n",
            "| **'코드 크래킹!' (Coding the Universe)** | 에드워드 래드 | 2011 | 미국 NASA 소속 물리학자, 인터내이션과 빛이려면 생활을 아타포시움에서 다양화한 과학적 옹호를 해준다. | 물리학적 생각과 공동체 의사소통을 조정한 뗀다. |\n",
            "| **'휴먼-클러키: 인간과 로보틱스' (Human-Koop)** | 라푼 (Lara Robinson) | 2018 | 염소측 정보에서 마이 등국가 연결 데이터를 전시한 자료를 제작, 엑스. 동안에 근구(레오렌)와의 비판을 찾아낸다. | “나와 기계”의 새로운 협업을 이야기합니다. |\n",
            "\n",
            "## 3️⃣ 정치·행정  \n",
            "| 제목 | 저자 | 출판연도 | 핵심 내용 | 왜 읽을까? |\n",
            "|------|------|-----------|----------|------------|\n",
            "| **'검은 내면은 적을 만난다' (The Dark One)** | 제프리 팔머 | 2020 | 미국 대통령 후보 전 선거캠페인, 조직의 폐쇄성과 인간과의 경계는데 하루의 고민을 통해 거대한 비극을 경계하며 설문 조사. | 정치와 정의, 내부 균형에 대한 감성적 이야기입니다. |\n",
            "| **'패스파인더: 삶의 교과서'** | 안팔린 | 2013 | 원인과 에스파에합해 사회영역에서 운영 구조를 목도했습니다. | “과학에 반기를 맞추는 재도전”을 제공한다. |\n",
            "\n",
            "## 4️⃣ 사업·리더십  \n",
            "| 제목 | 저자 | 출판연도 | 핵심 내용 | 왜 읽을까? |\n",
            "|------|------|-----------|----------|------------|\n",
            "| **'비즈니스 노원' (Business Overviews)** | 카르테와 (Karthika) | 2014 | 뉴욕에서 전자서비스기업, 인맥과 국제기업 부합 이론을 참고한 탄생 사명. | **총판 최고 매출**, 새로운 CEO와 관리자 수익이 주는 것들을 다룹니다. |\n",
            "| **'최악과 정상' (Best to Worst)** | 강진형 | 2019 | 개인서비스기업의 예비지 또는 조직 상황을 춤을 비교해 제언하며, 방ා 없고 조직이 성격과 방정식에 한입을 내미는 공연을 보고 자탠 지 까지 귀중한 시스템. | **네트워킹과 조직**을 파악하려는 이에게 좋은 가이드가 됩니다. |\n",
            "> 👉 **리더십의 분수**와 조건체계에 대한 블로그, 리라세 스캠의 투고자가 사귀어니 바스터리 김종이의 첫 자서전(영문판) 2015년, Present.\n",
            "\n",
            "## 5️⃣ 인간관계/자신의 성장  \n",
            "| 제목 | 저자 | 출판연도 | 핵심 내용 | 왜 읽을까? |\n",
            "|------|------|-----------|----------|------------|\n",
            "| **'아압자' (The Open Heart)** | 마리 스위츠 | 2006 | 코트로 쿠르위에서 굵은 인생을 살기되라 하는 첫 발표로 발표된 첫 번째 분야의 인기도 증대와 음성 고백이 에릭스앤 우인합이. | 정성적인 교감과 조화의 실증 실험을 통해 신뢰 속에서 <bio>를 찾습니다. |\n",
            "| **'홍어기' (Walking Future)** | 박재호 | 2012 | 문화와 인간, 생태계와 적대, 개인에 대한 고정관념과 하늘과 사랑심을 두고 헤긴 사고에서 발표하였다. | **예기치 못한 순간**까지 두 사람의 어리숙한 상황을 읽어보게 합니다. |\n",
            "\n",
            "> 👉 한영진 시리즈의 \"좋은 세상에서란 저물다요\" (나의 서울에서 오면 애저니) 2015년 발간된 개인적인 experience를 자서전적으로 전하는 예시를 가져왔습니다.\n",
            "\n",
            "---\n",
            "\n",
            "### 다음 질문:  \n",
            "- **특정 인물 + 주제**를 찾으시죠?  \n",
            "- **음반 철학**(예: 실시간 프레임, 문맥, 또는 별다른 길)과 **분야**가 있다면?  \n",
            "- **어제 잔소리를** 따로 언급해 주시면, 그에 맞춰서 전성특별한 도움이 되도록 할게요!  \n",
            "\n",
            "읽음에 마음을 가져가면 언제든지 저에게 물어 보세요. 즐거운 책 탐험이 되길 바랍니다! 📚✨\n",
            "----------------------------------------------------------------------------------------------------\n"
          ]
        }
      ]
    },
    {
      "cell_type": "code",
      "source": [
        "print(chain3.run(\"나는 공부할 때 가사 없는 피아노 노래를 틀어놓는 것을 좋아해\"))\n",
        "print('-'*100)"
      ],
      "metadata": {
        "colab": {
          "base_uri": "https://localhost:8080/"
        },
        "id": "utNV_4JoNRVM",
        "outputId": "acad3988-2e5b-4af9-922d-57646db6bab2"
      },
      "execution_count": 52,
      "outputs": [
        {
          "output_type": "stream",
          "name": "stdout",
          "text": [
            "안녕하세요! 🎹  \n",
            "공부할 때 가사가 없으면 집중력이 배가되죠? 🎧  \n",
            "아래에 **가사 없는 피아노 노래**를 공부에 활용할 때 좋을 만한 곡, 아티스트, 그리고 리소스들을 정리해봤어요. 각 항목마다 *왜 좋은지*도 적어 두었으니 참고해주세요.  \n",
            "\n",
            "---\n",
            "\n",
            "## 1️⃣ “[클래식 메아리”](https://www.youtube.com/playlist?list=PLD2A0B7572F37F1D4) (YouTube 재생목록)\n",
            "\n",
            "| 곡명 | 아티스트 | 재생시간 (분) | 장르 | 핵심 포인트 |\n",
            "|------|----------|---------------|------|-------------|\n",
            "| **Portsmouth** | The Piano Guys | 5 | 클래식| 전통 푸른 하프리즈와 사운드 |\n",
            "| **Beethoven - Moonlight Sonata** | S. L. F. | 5 | 귀곡 | 밤의 고요함, 가볍게 두려워 |\n",
            "| **Yoga You** | P. Bour | 6 | 뉴 에이지 | 깊은 휴식, 호흡 조절에 효과 |\n",
            "| **Winter Sonata (Winter is Coming)** | Y. Wong | 4 | 영화편곡 | 감정을 띤, 배경음악이 따라|\n",
            "\n",
            "> **앱**: YouTube Music이나 Spotify 같은 스트리밍 서비스에서는 “study piano” 또는 “instrumental piano study” 플레이리스트를 찾으면 1시간~2시간 연속 재생 가능한 세트도 있어요.  \n",
            "\n",
            "---  \n",
            "\n",
            "## 2️⃣ “집중을 돕는 조용한 피아노” (음악가별 분류)\n",
            "\n",
            "| 아티스트 | 대표곡 | 분위기 | 사용 팁 |\n",
            "|----------|--------|-------|--------|\n",
            "| **Yiruma** | *River Flows in You* | 부드러운 재즈플루 | 정리할 때나 개념 정리 시 |\n",
            "| **Ludovico Einaudi** | *Nuvole Bianche* | 명상적 | 노트 작성 시 배경 음악 |\n",
            "| **Max Richter** | *On The Nature Of Daylight* | 사운드트랙 | 긴 논문 쓰기 전, Ideation |\n",
            "| **Philip Glass** | *Glassworks: Opening* | 반복적, 구조적 | 복잡한 문제 해결 시, “잠깐” 파트 |\n",
            "| **George Winston** | *Green Avenues* | 솔로 피아노 | 짧은 휴식(5~10분) 때 재생 |\n",
            "| **Benedict XVI** | *Be Still* | 편안한 편곡 | 집중이 흐트러질 때 재생 |\n",
            "\n",
            "> 🎶 **팁**: 음악은 채널을 낮추거나 소리 부여가 부드러울수록 집중이 뛰어납니다. (단, 30 이하가 최고)\n",
            "\n",
            "---  \n",
            "\n",
            "## 3️⃣ “앱 & 서비스” — 피아노 인터랙티브\n",
            "\n",
            "| 서비스 | 특징 | 장점 |\n",
            "|--------|------|------|\n",
            "| **Brain.fm** | AI가 제작한 집중 전용 사운드 | 60-80% 집중 증가가 과학적으로 입증 |\n",
            "| **Noisli** | 자연 소리 + 피아노 혼합 | 환경 조절이 용이, 명확한 테마 설정 |\n",
            "| **A Soft Murmur** | 라이트 사운드 프로젝터 | 마이크/창문 소리 조절과 동시에 피아노 트랙 사용 가능 |\n",
            "| **Spotify** “studying piano” | 30,000+ 트랙, 자동 재생 | 쉬운 검색 + “autoplay” 기능 |\n",
            "\n",
            "---  \n",
            "\n",
            "## 4️⃣ “피아노 스피드와 변형” — 빠른공부 전용\n",
            "\n",
            "| 곡명 | 슬로우 버전 | 빠른 버전 | 유틸리티 |\n",
            "|------|------------|----------|-----------|\n",
            "| **Für Elise** | 60BPM | 120BPM | 뇌파 읽기 실험 |\n",
            "| **Chopin Nocturne** | 40BPM | 90BPM | 시간 감각 조절 |\n",
            "| **Pachelbel’s Canon** | 70BPM | 100BPM | 메모리 루틴과 연결 |\n",
            "\n",
            "> 🎹 **추천**: 러닝데이터가 있는 경우 “이산적 단계별 실행” 방식으로 BPM을 바꾸면서 뇌파를 조절하기 좋습니다.\n",
            "\n",
            "---  \n",
            "\n",
            "## 5️⃣ “피아노 리릭 없이 쓸 수 있는 팝 컬렉션”\n",
            "\n",
            "| 곡 | 장르 | 인용 예시 | 사용 상황 |\n",
            "|----|------|----------|-----------|\n",
            "| **Owen Ives** | Ambient | `음악은 해피한 기억말지?` | 휴식 + 기호 이해 |\n",
            "| **Marlon M** | New Age | `조용히 배경음` | 밤 시간 스터디링 |\n",
            "| **Vivaldi** | Baroque | `9차수(꽃 조정)` | Fast Hacking 과정 |\n",
            "\n",
            "---  \n",
            "\n",
            "### 🎯 타이머로 반복 세션\n",
            "\n",
            "- **Pomodoro**: 25분 공부 / 5분 피아노 리플레이 → 4번 루프 → 15분 휴식\n",
            "- **Tidal**: “Mindful Piano” 흐름 모드 이용\n",
            "\n",
            "> 📅 **출입 관리**: 매주 일정 틀을 세워 “고전 + 현대”를 30분씩 번갈아가며 누르리면 뇌가 새로워집니다.\n",
            "\n",
            "---\n",
            "\n",
            "### 🎬 마무리 팝업\n",
            "\n",
            "아래 5분 간 단순한 `\"Study Symphonic\"` 트랙을 플레이해 보세요. 경쾌한 가사 없어진 피아노와 심리학적 효과가 결합된 `study mode`를 실험하는 데 좋은 루트입니다. 🎧\n",
            "\n",
            "**링크**: https://open.spotify.com/track/0YYkS1Friere3clZ2IHXk\n",
            "\n",
            "**🎉 팁**: 스터디폰, 태블릿 두 기기 분리해서 공부하세요! 한쪽에 노트 잔디, 다른 쪽에 피아노가 들어가면 메타포를 바꾸는 재미가 생겨요.\n",
            "\n",
            "---\n",
            "\n",
            "궁금한 부분이 있거나 **특정 장르**(바로크, 뉴에이지, 현대 재즈)나 **공부 종류**(리포트, 논문, 암기)에 맞춘 재생목록이 필요하면 언제든지 말씀해 주세요! 즐거운 스터디 되시길 바라요. 🚀\n",
            "----------------------------------------------------------------------------------------------------\n"
          ]
        }
      ]
    },
    {
      "cell_type": "code",
      "source": [
        "print(chain3.run(\"내가 처음에 했던 얘기가 뭐지?\"))\n",
        "print('-'*100)"
      ],
      "metadata": {
        "colab": {
          "base_uri": "https://localhost:8080/"
        },
        "id": "dYuyiQO_NSgD",
        "outputId": "86447f96-50a5-44fe-8c95-f27f0d2083a0"
      },
      "execution_count": 53,
      "outputs": [
        {
          "output_type": "stream",
          "name": "stdout",
          "text": [
            "처음에 “나는 해피엔딩인 영화가 좋더라”라고 말씀하셨습니다.\n",
            "----------------------------------------------------------------------------------------------------\n"
          ]
        }
      ]
    },
    {
      "cell_type": "code",
      "source": [],
      "metadata": {
        "id": "yqdQM4d8Nf_w"
      },
      "execution_count": null,
      "outputs": []
    }
  ]
}