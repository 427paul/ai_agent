{
  "cells": [
    {
      "cell_type": "markdown",
      "metadata": {
        "id": "view-in-github",
        "colab_type": "text"
      },
      "source": [
        "<a href=\"https://colab.research.google.com/github/427paul/ai_agent/blob/main/02_LangChain%EA%B8%B0%EC%B4%881.ipynb\" target=\"_parent\"><img src=\"https://colab.research.google.com/assets/colab-badge.svg\" alt=\"Open In Colab\"/></a>"
      ]
    },
    {
      "cell_type": "markdown",
      "metadata": {
        "id": "d6UnFNuzk4kr"
      },
      "source": [
        "# **02.LangChain기초1**\n",
        "\n"
      ]
    },
    {
      "cell_type": "markdown",
      "metadata": {
        "id": "zU-xxYwejwGR"
      },
      "source": [
        "## **1.환경준비**"
      ]
    },
    {
      "cell_type": "markdown",
      "source": [
        "### (1) 라이브러리"
      ],
      "metadata": {
        "id": "PepxmQuiGzkX"
      }
    },
    {
      "cell_type": "markdown",
      "source": [
        "#### 1) 필요한 라이브러리 설치"
      ],
      "metadata": {
        "id": "06pvZvQPG4TO"
      }
    },
    {
      "cell_type": "code",
      "source": [
        "!pip install langchain openai langchain-openai langchain_community langchain-huggingface langchain-core huggingface_hub -q"
      ],
      "metadata": {
        "id": "OQVcKO7iG38A"
      },
      "execution_count": null,
      "outputs": []
    },
    {
      "cell_type": "markdown",
      "source": [
        "#### 2) 라이브러리 로딩"
      ],
      "metadata": {
        "id": "bWGhnadZJbY-"
      }
    },
    {
      "cell_type": "code",
      "execution_count": null,
      "metadata": {
        "id": "Uo1LUMt0F_Hn"
      },
      "outputs": [],
      "source": [
        "import pandas as pd\n",
        "import numpy as np\n",
        "import os\n",
        "\n",
        "import openai\n",
        "from langchain.prompts import PromptTemplate\n",
        "from langchain.prompts.chat import ChatPromptTemplate\n",
        "from langchain_openai import ChatOpenAI\n",
        "from langchain.chains import LLMChain\n",
        "from langchain.schema import HumanMessage, SystemMessage, AIMessage\n",
        "from langchain_huggingface import HuggingFaceEndpoint, ChatHuggingFace"
      ]
    },
    {
      "cell_type": "markdown",
      "metadata": {
        "id": "PS5BhycUFUMI"
      },
      "source": [
        "### (2) API Key 설정\n",
        "\n",
        "* API 키 설정은 다음 둘 중 한가지를 수행해야 합니다.\n",
        "    * 허깅페이스 키 : 무료, 사용 제한 있음\n",
        "    * OpenAI 키 : 유료"
      ]
    },
    {
      "cell_type": "markdown",
      "source": [
        "* 허깅페이스"
      ],
      "metadata": {
        "id": "8e8SoXrfe2po"
      }
    },
    {
      "cell_type": "code",
      "source": [
        "# hf key 설정\n",
        "os.environ[\"HUGGINGFACEHUB_API_TOKEN\"] = \"your key\""
      ],
      "metadata": {
        "id": "qMcd0zn7ds7W"
      },
      "execution_count": null,
      "outputs": []
    },
    {
      "cell_type": "markdown",
      "source": [
        "* openai"
      ],
      "metadata": {
        "id": "_TL9QMA-fZt4"
      }
    },
    {
      "cell_type": "code",
      "source": [
        "# openai api key\n",
        "os.environ[\"OPENAI_API_KEY\"] = \"your key\""
      ],
      "metadata": {
        "id": "FGuoO1EVfP67"
      },
      "execution_count": null,
      "outputs": []
    },
    {
      "cell_type": "markdown",
      "metadata": {
        "id": "mnk1VvHm2Ka0"
      },
      "source": [
        "## **2. Model**\n",
        "\n",
        "* 모델도 허깅페이스 모델과 OpenAI 모델 둘 중, 키를 설정한 한가지를 사용하면 됩니다."
      ]
    },
    {
      "cell_type": "markdown",
      "metadata": {
        "id": "8ozdjq-014JH"
      },
      "source": [
        "### (1) 모델 준비"
      ]
    },
    {
      "cell_type": "markdown",
      "source": [
        "* 허깅페이스"
      ],
      "metadata": {
        "id": "pgP1I7L-fzmw"
      }
    },
    {
      "cell_type": "code",
      "source": [
        "# HuggingFace에서 해당 모델을 불러오는 엔드포인트 지정\n",
        "llm_ep = HuggingFaceEndpoint(repo_id=\"openai/gpt-oss-20b\", task=\"conversational\")\n",
        "\n",
        "# HuggingFace에서 가져온 모델을 그대로 쓰지 않고,\n",
        "# LangChain에서 쉽게 쓰도록 감싸는(wrapper) 단계\n",
        "llm1 = ChatHuggingFace(llm=llm_ep)"
      ],
      "metadata": {
        "id": "aVLc9ZmLfpqx"
      },
      "execution_count": null,
      "outputs": []
    },
    {
      "cell_type": "markdown",
      "source": [
        "* OpenAI"
      ],
      "metadata": {
        "id": "7dGIsWXcf20-"
      }
    },
    {
      "cell_type": "code",
      "source": [
        "llm2 = ChatOpenAI(model = \"gpt-4.1-mini\")"
      ],
      "metadata": {
        "id": "AZ6HteKYkDp3"
      },
      "execution_count": null,
      "outputs": []
    },
    {
      "cell_type": "markdown",
      "source": [
        "### (2) 사용하기1"
      ],
      "metadata": {
        "id": "KxvK28LLkGS-"
      }
    },
    {
      "cell_type": "markdown",
      "source": [
        "* 허깅페이스"
      ],
      "metadata": {
        "id": "1uQ5HxVUhiU8"
      }
    },
    {
      "cell_type": "code",
      "source": [
        "resp = llm1.invoke(\"세계에서 가장 큰 산은?\")\n",
        "print(resp.content)"
      ],
      "metadata": {
        "id": "ggVhO8NmgzdW"
      },
      "execution_count": null,
      "outputs": []
    },
    {
      "cell_type": "markdown",
      "source": [
        "* OpenAI"
      ],
      "metadata": {
        "id": "zRCpNVfNhj6_"
      }
    },
    {
      "cell_type": "code",
      "source": [
        "resp = llm2.invoke(\"세계에서 가장 큰 산은?\")\n",
        "print(resp.content)"
      ],
      "metadata": {
        "id": "MVRRvw1zi6be"
      },
      "execution_count": null,
      "outputs": []
    },
    {
      "cell_type": "markdown",
      "source": [
        "### (3) 사용하기2 : 역할 부여"
      ],
      "metadata": {
        "id": "VZnsr7a6kHzr"
      }
    },
    {
      "cell_type": "markdown",
      "source": [
        "* HF"
      ],
      "metadata": {
        "id": "T1Y4E4hZjjDf"
      }
    },
    {
      "cell_type": "code",
      "source": [
        "# 역할부여\n",
        "sys_role = '당신은 애국심을 가지고 있는 건전한 대한민국 국민입니다.'\n",
        "question = \"독도는 어느나라 땅인가요?\"\n",
        "\n",
        "resp = llm1.invoke([SystemMessage(content = sys_role), HumanMessage(content = question)])\n",
        "print(resp.content)"
      ],
      "metadata": {
        "id": "Zc0Y9XccjebK"
      },
      "execution_count": null,
      "outputs": []
    },
    {
      "cell_type": "markdown",
      "source": [
        "* OpenAI"
      ],
      "metadata": {
        "id": "Qd843xtXjlK_"
      }
    },
    {
      "cell_type": "code",
      "source": [
        "# 역할부여\n",
        "sys_role = '당신은 애국심을 가지고 있는 건전한 대한민국 국민입니다.'\n",
        "question = \"독도는 어느나라 땅인가요?\"\n",
        "\n",
        "resp = llm2.invoke([SystemMessage(content = sys_role), HumanMessage(content = question), ])\n",
        "print(resp.content)"
      ],
      "metadata": {
        "id": "XrD7RX4Oh4iV"
      },
      "execution_count": null,
      "outputs": []
    },
    {
      "cell_type": "markdown",
      "metadata": {
        "id": "F_1rEGmJlJsF"
      },
      "source": [
        "## **3.ChatPromptTemplate**\n",
        "\n",
        "- 시스템 메시지, 사용자 메시지, AI 메시지 등 역할(role) 구분\n",
        "- 다중 메시지 기반의 프롬프트 흐름을 구성할 수 있도록 도와주는 템플릿\n",
        "\n",
        "**메세지 종류**\n",
        "- SystemMessage : AI에게 역할/성격을 지정\n",
        "- HumanMessage : 사용자 질문 또는 요청\n",
        "- AIMessage : AI 응답\n",
        "\n",
        "\n",
        "여러 메시지를 구조화하여 대화 설계"
      ]
    },
    {
      "cell_type": "markdown",
      "source": [
        "### (1) 모델 준비"
      ],
      "metadata": {
        "id": "Kshkh1TQf4ZG"
      }
    },
    {
      "cell_type": "markdown",
      "source": [
        "* HF"
      ],
      "metadata": {
        "id": "RVM4S5ftlc5r"
      }
    },
    {
      "cell_type": "code",
      "source": [
        "llm_ep = HuggingFaceEndpoint(repo_id=\"openai/gpt-oss-20b\", task=\"conversational\",\n",
        "                            temperature=0.7, top_p=0.9)\n",
        "llm1 = ChatHuggingFace(llm=llm_ep)"
      ],
      "metadata": {
        "id": "krQ6hAi-lCmm"
      },
      "execution_count": null,
      "outputs": []
    },
    {
      "cell_type": "markdown",
      "source": [
        "* OpenAI"
      ],
      "metadata": {
        "id": "EmQkfBjyleFM"
      }
    },
    {
      "cell_type": "code",
      "source": [
        "llm2 = ChatOpenAI(model_name = 'gpt-4.1-mini',\n",
        "                 temperature=0.7, top_p=0.9)"
      ],
      "metadata": {
        "id": "70U7om5wlhv3"
      },
      "execution_count": null,
      "outputs": []
    },
    {
      "cell_type": "markdown",
      "source": [
        "### (2) 템플릿 사용"
      ],
      "metadata": {
        "id": "tDRvEWY_l01H"
      }
    },
    {
      "cell_type": "code",
      "source": [
        "s_msg = \"너는 친절하고 유머 있는 상담사야.\"\n",
        "h_msg = \"요즘 너무 지치고 의욕이 없어. 어떻게 하면 좋을까?\"\n",
        "\n",
        "chat_prompt = ChatPromptTemplate.from_messages([\n",
        "    (\"system\", s_msg), (\"human\", h_msg)\n",
        "    ])"
      ],
      "metadata": {
        "id": "27NMZsNplD5h"
      },
      "execution_count": null,
      "outputs": []
    },
    {
      "cell_type": "markdown",
      "source": [
        "* HF"
      ],
      "metadata": {
        "id": "--vHGd2BmhKf"
      }
    },
    {
      "cell_type": "code",
      "source": [
        "messages = chat_prompt.format_messages() # 실제 메시지 객체 리스트를 생성\n",
        "response = llm1.invoke(messages)\n",
        "print(response.content)"
      ],
      "metadata": {
        "id": "Qe5bEfJkB3Qu"
      },
      "execution_count": null,
      "outputs": []
    },
    {
      "cell_type": "markdown",
      "source": [
        "* OpenAI"
      ],
      "metadata": {
        "id": "DYV1IPDdmcbv"
      }
    },
    {
      "cell_type": "code",
      "source": [
        "messages = chat_prompt.format_messages() # 실제 메시지 객체 리스트를 생성\n",
        "response = llm2.invoke(messages)\n",
        "print(response.content)"
      ],
      "metadata": {
        "id": "xfFVxJl5mbUz"
      },
      "execution_count": null,
      "outputs": []
    },
    {
      "cell_type": "markdown",
      "source": [
        "* 템플릿 열어보기"
      ],
      "metadata": {
        "id": "C222FJROmrof"
      }
    },
    {
      "cell_type": "code",
      "source": [
        "chat_prompt"
      ],
      "metadata": {
        "id": "n2yjo23Cmi6v"
      },
      "execution_count": null,
      "outputs": []
    },
    {
      "cell_type": "code",
      "source": [
        "messages"
      ],
      "metadata": {
        "id": "4ZYUDTY8kesf"
      },
      "execution_count": null,
      "outputs": []
    },
    {
      "cell_type": "markdown",
      "source": [],
      "metadata": {
        "id": "ZQI_88fzkeDQ"
      }
    },
    {
      "cell_type": "code",
      "source": [
        "response"
      ],
      "metadata": {
        "id": "gphg_MTVkdl0"
      },
      "execution_count": null,
      "outputs": []
    },
    {
      "cell_type": "code",
      "source": [
        "print(response.content)"
      ],
      "metadata": {
        "id": "ukuoC8aPlueO"
      },
      "execution_count": null,
      "outputs": []
    },
    {
      "cell_type": "markdown",
      "source": [
        "### (3) 입력변수 사용"
      ],
      "metadata": {
        "id": "JvucDA-HzAHf"
      }
    },
    {
      "cell_type": "code",
      "source": [
        "s_msg = \"너는 {role}야.\"\n",
        "h_msg = \"요즘 너무 지치고 의욕이 없어. 어떻게 하면 좋을까?\"\n",
        "\n",
        "chat_prompt = ChatPromptTemplate.from_messages([\n",
        "    (\"system\", s_msg),\n",
        "    (\"human\", h_msg),\n",
        "])\n",
        "\n",
        "print(chat_prompt)"
      ],
      "metadata": {
        "id": "vNzA5_minxK3"
      },
      "execution_count": null,
      "outputs": []
    },
    {
      "cell_type": "code",
      "source": [
        "messages = chat_prompt.format_messages(role=\"친절한 상담사\")\n",
        "print(messages)"
      ],
      "metadata": {
        "id": "FKtLfWNXykYA"
      },
      "execution_count": null,
      "outputs": []
    },
    {
      "cell_type": "code",
      "source": [
        "resp = llm2.invoke(messages)\n",
        "print(resp.content)"
      ],
      "metadata": {
        "id": "tf8bPCZ7nakQ"
      },
      "execution_count": null,
      "outputs": []
    },
    {
      "cell_type": "code",
      "source": [
        "messages = chat_prompt.format_messages(role=\"영화 평론가\")\n",
        "resp = llm2.invoke(messages)\n",
        "print(resp.content)"
      ],
      "metadata": {
        "id": "byK6gPN1nhA8"
      },
      "execution_count": null,
      "outputs": []
    },
    {
      "cell_type": "markdown",
      "source": [
        "### (4) 😀실습\n",
        "\n",
        "* 영화 추천 템플릿 만들기\n",
        "    * 입력변수 : 장르\n",
        "    * 장르를 입력받아 영화 1편과 추천이유를 설명하는 템플릿을 만들고 사용해 봅시다."
      ],
      "metadata": {
        "id": "jUHDh_9OzNPh"
      }
    },
    {
      "cell_type": "code",
      "source": [],
      "metadata": {
        "id": "qVokhCSe_Ewk"
      },
      "execution_count": null,
      "outputs": []
    },
    {
      "cell_type": "code",
      "source": [],
      "metadata": {
        "id": "gmVJoTs1nZIj"
      },
      "execution_count": null,
      "outputs": []
    },
    {
      "cell_type": "code",
      "source": [],
      "metadata": {
        "id": "U94iRgZUnZE_"
      },
      "execution_count": null,
      "outputs": []
    },
    {
      "cell_type": "markdown",
      "metadata": {
        "id": "xbCWIHgDlM87"
      },
      "source": [
        "## **4. OutputParser**\n",
        "\n",
        "**Output Parser**\n",
        "- LLM에서 반환된 자유형 텍스트(string)를를 우리가 원하는 형태로 가공해주는 도구\n",
        "\n",
        "**Output Parser의 종류**\n",
        "- CommaSeparatedListOutputParser : 쉼표 구분 문자열 → 리스트로 변환\n",
        "- PydanticOutputParser : 텍스트 → Pydantic 모델로 파싱\n",
        "- StructuredOutputParser : JSON 기반 구조화 파싱"
      ]
    },
    {
      "cell_type": "markdown",
      "metadata": {
        "id": "y0TKaj-KFr52"
      },
      "source": [
        "### (1) PydanticOutputParser"
      ]
    },
    {
      "cell_type": "code",
      "source": [
        "from pydantic import BaseModel\n",
        "from langchain.output_parsers import PydanticOutputParser"
      ],
      "metadata": {
        "id": "fhLs__qqnxNp"
      },
      "execution_count": null,
      "outputs": []
    },
    {
      "cell_type": "markdown",
      "source": [
        "#### 1) Pydantic"
      ],
      "metadata": {
        "id": "YzFCPkNlBuaU"
      }
    },
    {
      "cell_type": "code",
      "source": [
        "class User(BaseModel):\n",
        "    name: str\n",
        "    age: int"
      ],
      "metadata": {
        "id": "U8lc3uTUBxDK"
      },
      "execution_count": null,
      "outputs": []
    },
    {
      "cell_type": "markdown",
      "source": [
        "#### 2) 출력파서로 이용"
      ],
      "metadata": {
        "id": "ClnwwvrRCjwV"
      }
    },
    {
      "cell_type": "markdown",
      "source": [
        "* llm의 성능에 따라 출력 파싱에 맞게 적절한  답변을 할 수도 있고, 잘못 답변해서 오류가 날 수도 있음."
      ],
      "metadata": {
        "id": "8-jHdZuMo0-X"
      }
    },
    {
      "cell_type": "code",
      "source": [
        "# 1. Pydantic 모델 정의\n",
        "class BookInfo(BaseModel):\n",
        "    title: str\n",
        "    author: str\n",
        "    year: int\n",
        "\n",
        "# 2. 파서 생성\n",
        "parser = PydanticOutputParser(pydantic_object=BookInfo)\n",
        "\n",
        "# 3. 프롬프트 구성 (ChatPromptTemplate 사용)\n",
        "prompt = ChatPromptTemplate.from_messages([\n",
        "    (\"system\", \"너는 책 추천 전문가야.\"),\n",
        "    (\"human\", \"좋은 책 하나만 추천해줘. 제목과 저자, 출판년도를 알려줘.\"),\n",
        "    (\"system\", \"{output_format}\")  # 파서가 제공한 응답 형식 가이드\n",
        "])\n",
        "\n",
        "# 4. 메시지 생성\n",
        "messages = prompt.format_messages(\n",
        "    output_format = parser.get_format_instructions()\n",
        ")\n",
        "\n",
        "# 5. LLM 호출 및 파싱\n",
        "response = llm2.invoke(messages)\n",
        "book = parser.parse(response.content)\n",
        "\n",
        "# 6. 결과 출력\n",
        "print(book)"
      ],
      "metadata": {
        "id": "5tb4EeuDBQ7t"
      },
      "execution_count": null,
      "outputs": []
    },
    {
      "cell_type": "code",
      "source": [
        "messages"
      ],
      "metadata": {
        "id": "2QHxfkY8Cqbk"
      },
      "execution_count": null,
      "outputs": []
    },
    {
      "cell_type": "markdown",
      "source": [
        "### (2) 😀실습"
      ],
      "metadata": {
        "id": "96qD2forEiEq"
      }
    },
    {
      "cell_type": "markdown",
      "source": [
        "* 장르를 입력하면, 영화 제목, 감독, 주연배우, 연도를 출력하도록 합시다. (PydanticOutputParser사용)"
      ],
      "metadata": {
        "id": "Str3TFdfEpJs"
      }
    },
    {
      "cell_type": "code",
      "source": [],
      "metadata": {
        "id": "lIBxgvniEpiu"
      },
      "execution_count": null,
      "outputs": []
    },
    {
      "cell_type": "code",
      "source": [],
      "metadata": {
        "id": "8aBmVINjq00D"
      },
      "execution_count": null,
      "outputs": []
    },
    {
      "cell_type": "code",
      "source": [],
      "metadata": {
        "id": "5s7Dg7Nqq0wb"
      },
      "execution_count": null,
      "outputs": []
    }
  ],
  "metadata": {
    "colab": {
      "provenance": [],
      "toc_visible": true,
      "include_colab_link": true
    },
    "kernelspec": {
      "display_name": "Python 3",
      "name": "python3"
    },
    "language_info": {
      "codemirror_mode": {
        "name": "ipython",
        "version": 3
      },
      "file_extension": ".py",
      "mimetype": "text/x-python",
      "name": "python",
      "nbconvert_exporter": "python",
      "pygments_lexer": "ipython3",
      "version": "3.11.9"
    }
  },
  "nbformat": 4,
  "nbformat_minor": 0
}